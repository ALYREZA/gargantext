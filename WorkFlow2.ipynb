{
 "metadata": {
  "name": "",
  "signature": "sha256:efa76132f2a42dd4c77591adcdcc09c81fec40c4ae98841f2aa499818ebee02c"
 },
 "nbformat": 3,
 "nbformat_minor": 0,
 "worksheets": [
  {
   "cells": [
    {
     "cell_type": "code",
     "collapsed": false,
     "input": [
      "from node.models import Node, NodeType,\\\n",
      "                        Project, Corpus, Document,\\\n",
      "                        Ngram, Node_Ngram,\\\n",
      "                        User, Language, ResourceType\n",
      "from django.db import connection\n",
      "cursor = connection.cursor()"
     ],
     "language": "python",
     "metadata": {},
     "outputs": [],
     "prompt_number": 1
    },
    {
     "cell_type": "code",
     "collapsed": false,
     "input": [
      "me = User.objects.get(username='alexandre')"
     ],
     "language": "python",
     "metadata": {},
     "outputs": [],
     "prompt_number": 2
    },
    {
     "cell_type": "code",
     "collapsed": false,
     "input": [
      "print(me.id)"
     ],
     "language": "python",
     "metadata": {},
     "outputs": [
      {
       "output_type": "stream",
       "stream": "stdout",
       "text": [
        "1\n"
       ]
      }
     ],
     "prompt_number": 3
    },
    {
     "cell_type": "code",
     "collapsed": false,
     "input": [
      "corpus = Corpus(id=13064)"
     ],
     "language": "python",
     "metadata": {},
     "outputs": [],
     "prompt_number": 4
    },
    {
     "cell_type": "code",
     "collapsed": false,
     "input": [
      "document = NodeType.objects.get(name='Document')\n",
      "# note cr\u00e9er un type Document_Poubelle (et une fonction vider la poubelle)"
     ],
     "language": "python",
     "metadata": {},
     "outputs": [],
     "prompt_number": 8
    },
    {
     "cell_type": "code",
     "collapsed": false,
     "input": [
      "corpus.children.count()"
     ],
     "language": "python",
     "metadata": {},
     "outputs": [
      {
       "metadata": {},
       "output_type": "pyout",
       "prompt_number": 5,
       "text": [
        "916"
       ]
      }
     ],
     "prompt_number": 5
    },
    {
     "cell_type": "code",
     "collapsed": false,
     "input": [
      "Node_Ngram.objects.all().delete()"
     ],
     "language": "python",
     "metadata": {},
     "outputs": [],
     "prompt_number": 27
    },
    {
     "cell_type": "code",
     "collapsed": false,
     "input": [
      "corpus.children.filter(type_id=document.pk).extract_ngrams(keys=['title',])\n",
      "\n",
      "# bug\n",
      "#corpus.children.filter(type_id=document.pk).extract_ngrams(keys=['title','abstract'])\n"
     ],
     "language": "python",
     "metadata": {},
     "outputs": [
      {
       "output_type": "stream",
       "stream": "stdout",
       "text": [
        "Warning: parsing empty text\n",
        "Warning: parsing empty text"
       ]
      },
      {
       "output_type": "stream",
       "stream": "stdout",
       "text": [
        "\n",
        "Warning: parsing empty text"
       ]
      },
      {
       "output_type": "stream",
       "stream": "stdout",
       "text": [
        "\n",
        "Warning: parsing empty text"
       ]
      },
      {
       "output_type": "stream",
       "stream": "stdout",
       "text": [
        "\n",
        "Warning: parsing empty text"
       ]
      },
      {
       "output_type": "stream",
       "stream": "stdout",
       "text": [
        "\n",
        "Warning: parsing empty text\n",
        "Warning: parsing empty text"
       ]
      },
      {
       "output_type": "stream",
       "stream": "stdout",
       "text": [
        "\n",
        "Warning: parsing empty text"
       ]
      },
      {
       "output_type": "stream",
       "stream": "stdout",
       "text": [
        "\n",
        "Warning: parsing empty text"
       ]
      },
      {
       "output_type": "stream",
       "stream": "stdout",
       "text": [
        "\n",
        "Warning: parsing empty text"
       ]
      },
      {
       "output_type": "stream",
       "stream": "stdout",
       "text": [
        "\n",
        "Warning: parsing empty text"
       ]
      },
      {
       "output_type": "stream",
       "stream": "stdout",
       "text": [
        "\n",
        "Warning: parsing empty text"
       ]
      },
      {
       "output_type": "stream",
       "stream": "stdout",
       "text": [
        "\n",
        "Warning: parsing empty text\n",
        "Warning: parsing empty text"
       ]
      },
      {
       "output_type": "stream",
       "stream": "stdout",
       "text": [
        "\n",
        "Warning: parsing empty text"
       ]
      },
      {
       "output_type": "stream",
       "stream": "stdout",
       "text": [
        "\n",
        "Warning: parsing empty text"
       ]
      },
      {
       "output_type": "stream",
       "stream": "stdout",
       "text": [
        "\n",
        "Warning: parsing empty text"
       ]
      },
      {
       "output_type": "stream",
       "stream": "stdout",
       "text": [
        "\n",
        "Warning: parsing empty text"
       ]
      },
      {
       "output_type": "stream",
       "stream": "stdout",
       "text": [
        "\n",
        "Warning: parsing empty text"
       ]
      },
      {
       "output_type": "stream",
       "stream": "stdout",
       "text": [
        "\n",
        "Warning: parsing empty text"
       ]
      },
      {
       "output_type": "stream",
       "stream": "stdout",
       "text": [
        "\n",
        "Warning: parsing empty text"
       ]
      },
      {
       "output_type": "stream",
       "stream": "stdout",
       "text": [
        "\n",
        "Warning: parsing empty text"
       ]
      },
      {
       "output_type": "stream",
       "stream": "stdout",
       "text": [
        "\n",
        "Warning: parsing empty text"
       ]
      },
      {
       "output_type": "stream",
       "stream": "stdout",
       "text": [
        "\n",
        "Warning: parsing empty text"
       ]
      },
      {
       "output_type": "stream",
       "stream": "stdout",
       "text": [
        "\n",
        "Warning: parsing empty text"
       ]
      },
      {
       "output_type": "stream",
       "stream": "stdout",
       "text": [
        "\n",
        "Warning: parsing empty text"
       ]
      },
      {
       "output_type": "stream",
       "stream": "stdout",
       "text": [
        "\n",
        "Warning: parsing empty text"
       ]
      },
      {
       "output_type": "stream",
       "stream": "stdout",
       "text": [
        "\n",
        "Warning: parsing empty text"
       ]
      },
      {
       "output_type": "stream",
       "stream": "stdout",
       "text": [
        "\n",
        "Warning: parsing empty text"
       ]
      },
      {
       "output_type": "stream",
       "stream": "stdout",
       "text": [
        "\n",
        "Warning: parsing empty text"
       ]
      },
      {
       "output_type": "stream",
       "stream": "stdout",
       "text": [
        "\n"
       ]
      }
     ],
     "prompt_number": 28
    },
    {
     "cell_type": "code",
     "collapsed": false,
     "input": [
      "children = corpus.children.all()[:10]"
     ],
     "language": "python",
     "metadata": {},
     "outputs": [],
     "prompt_number": 46
    },
    {
     "cell_type": "code",
     "collapsed": false,
     "input": [
      "for child in children:\n",
      "    for n in Node_Ngram.objects.filter(node=child):\n",
      "        print(n.ngram.terms)\n",
      "    print(\"=\" * 10)"
     ],
     "language": "python",
     "metadata": {},
     "outputs": [
      {
       "output_type": "stream",
       "stream": "stdout",
       "text": [
        "equipment\n",
        "technique used in laboratory evaluation of pesticide dusts in toxicological studies with honeybees\n",
        "==========\n",
        "pesticide dusts to honeybees\n",
        "toxicity\n",
        "==========\n",
        "pesticides to honey bees in laboratory and field tests in southern california\n",
        "toxicity\n",
        "==========\n",
        "field applications of some of the newer pesticides on honey bees\n",
        "effects\n",
        "==========\n",
        "protecting honeybees\n",
        "pesticides\n",
        "==========\n",
        "pollen gathering of honey bees reduced by pesticide sprays\n",
        "==========\n",
        "pesticide toxicity and honey bees\n",
        "==========\n",
        "newer pesticides dont harm environment\n",
        "where have all bees gone\n",
        "==========\n",
        "honeybees\n",
        "pesticides and law\n",
        "==========\n",
        "honeybees\n",
        "pesticides and law\n",
        "==========\n"
       ]
      }
     ],
     "prompt_number": 48
    },
    {
     "cell_type": "code",
     "collapsed": false,
     "input": [
      "#liste_ordered = collections.OrderedDict(sorted(liste.items()), key=lambda t: t[1])"
     ],
     "language": "python",
     "metadata": {},
     "outputs": []
    },
    {
     "cell_type": "markdown",
     "metadata": {},
     "source": [
      "#Cr\u00e9ation des listes"
     ]
    },
    {
     "cell_type": "code",
     "collapsed": false,
     "input": [
      "import collections\n",
      "liste = collections.defaultdict(int)\n",
      "try:\n",
      "    whitelist_type  = NodeType.objects.get(name='WhiteList')\n",
      "    blacklist_type = NodeType.objects.get(name='BlackList')\n",
      "except:\n",
      "    whitelist_type = NodeType(name='WhiteList')\n",
      "    whitelist_type.save()\n",
      "    \n",
      "    blacklist_type = NodeType(name='BlackList')\n",
      "    blacklist_type.save()\n",
      "\n",
      "white_list = Node.objects.create(name='WhiteList Pubmed', user=me, parent=corpus, type=whitelist_type)\n",
      "black_list = Node.objects.create(name='BlackList Pubmed', user=me, parent=corpus, type=blacklist_type)"
     ],
     "language": "python",
     "metadata": {},
     "outputs": [],
     "prompt_number": 37
    },
    {
     "cell_type": "code",
     "collapsed": false,
     "input": [
      "Node_Ngram.objects.filter(node=white_list).count()"
     ],
     "language": "python",
     "metadata": {},
     "outputs": [
      {
       "metadata": {},
       "output_type": "pyout",
       "prompt_number": 38,
       "text": [
        "0"
       ]
      }
     ],
     "prompt_number": 38
    },
    {
     "cell_type": "markdown",
     "metadata": {},
     "source": [
      "# Cr\u00e9ation de la white list (simple sans syn ni black plus tard...)"
     ]
    },
    {
     "cell_type": "code",
     "collapsed": false,
     "input": [
      "# delete avant pour \u00e9viter les doublons\n",
      "Node_Ngram.objects.filter(node=white_list).all().delete()\n",
      "cursor.execute(\"\"\"\n",
      "    SELECT\n",
      "        ngX.id,\n",
      "        ngX.terms,\n",
      "        COUNT(*) AS occurrences\n",
      "    FROM\n",
      "        node_node AS n\n",
      "    INNER JOIN\n",
      "        node_node_ngram AS nngX ON nngX.node_id = n.id\n",
      "    INNER JOIN\n",
      "        node_ngram AS ngX ON ngX.id = nngX.ngram_id\n",
      "    WHERE\n",
      "        n.parent_id = %s\n",
      "    AND\n",
      "        ngX.n >= 2\n",
      "    GROUP BY\n",
      "        ngX.id\n",
      "    Having\n",
      "        COUNT(*) >= 3\n",
      "    ORDER BY\n",
      "        occurrences DESC\n",
      "    LIMIT\n",
      "        100\n",
      "    \n",
      "\"\"\", [corpus.id])\n",
      "\n",
      "# \u00e0 optimiser avec un insert dans la requ\u00eate SQL\n",
      "with transaction.atomic():\n",
      "    while True:\n",
      "        row = cursor.fetchone()\n",
      "        if row is None:\n",
      "            break\n",
      "        #print(row)\n",
      "        Node_Ngram.objects.create(node=white_list, ngram=Ngram.objects.get(id=row[0]), weight=row[2])"
     ],
     "language": "python",
     "metadata": {},
     "outputs": [],
     "prompt_number": 91
    },
    {
     "cell_type": "code",
     "collapsed": false,
     "input": [
      "Node_Ngram.objects.filter(node=white_list).count()"
     ],
     "language": "python",
     "metadata": {},
     "outputs": [
      {
       "metadata": {},
       "output_type": "pyout",
       "prompt_number": 92,
       "text": [
        "31"
       ]
      }
     ],
     "prompt_number": 92
    },
    {
     "cell_type": "code",
     "collapsed": false,
     "input": [
      "white_list.id"
     ],
     "language": "python",
     "metadata": {},
     "outputs": [
      {
       "metadata": {},
       "output_type": "pyout",
       "prompt_number": 93,
       "text": [
        "61305"
       ]
      }
     ],
     "prompt_number": 93
    },
    {
     "cell_type": "markdown",
     "metadata": {},
     "source": [
      "\n"
     ]
    },
    {
     "cell_type": "code",
     "collapsed": false,
     "input": [
      "try:\n",
      "    cooc_type  = NodeType.objects.get(name='Cooccurrence')\n",
      "except:\n",
      "    cooc_type = NodeType(name='Cooccurrence')\n",
      "    cooc_type.save()"
     ],
     "language": "python",
     "metadata": {},
     "outputs": [],
     "prompt_number": 94
    },
    {
     "cell_type": "code",
     "collapsed": false,
     "input": [
      "Node.objects.filter(type=cooc_type, parent=corpus).delete()"
     ],
     "language": "python",
     "metadata": {},
     "outputs": [],
     "prompt_number": 95
    },
    {
     "cell_type": "code",
     "collapsed": false,
     "input": [
      "cooc = Node.objects.create(user=me,\\\n",
      "                           parent=corpus,\\\n",
      "                           type=cooc_type,\\\n",
      "                           name=\"Cooccurrences calcul Alpha\")"
     ],
     "language": "python",
     "metadata": {},
     "outputs": [],
     "prompt_number": 96
    },
    {
     "cell_type": "code",
     "collapsed": false,
     "input": [
      "cooc.pk\n"
     ],
     "language": "python",
     "metadata": {},
     "outputs": [
      {
       "metadata": {},
       "output_type": "pyout",
       "prompt_number": 97,
       "text": [
        "61310"
       ]
      }
     ],
     "prompt_number": 97
    },
    {
     "cell_type": "code",
     "collapsed": false,
     "input": [
      "query_cooc = \"\"\"\n",
      "INSERT INTO node_nodengramngram (node_id, \"ngramx_id\", \"ngramy_id\", score)\n",
      "    SELECT\n",
      "    %d as node_id,\n",
      "    ngX.id,\n",
      "    ngY.id,\n",
      "    COUNT(*) AS score\n",
      "FROM\n",
      "    node_node AS n  -- the nodes who are direct children of the corpus\n",
      "    \n",
      "INNER JOIN\n",
      "    node_node_ngram AS nngX ON nngX.node_id = n.id  --  list of ngrams contained in the node\n",
      "INNER JOIN\n",
      "    node_node_ngram AS whitelistX ON whitelistX.ngram_id = nngX.ngram_id -- list of ngrams contained in the whitelist and in the node\n",
      "INNER JOIN\n",
      "    node_ngram AS ngX ON ngX.id = whitelistX.ngram_id -- ngrams which are in both\n",
      "    \n",
      "INNER JOIN\n",
      "    node_node_ngram AS nngY ON nngY.node_id = n.id\n",
      "INNER JOIN\n",
      "    node_node_ngram AS whitelistY ON whitelistY.ngram_id = nngY.ngram_id\n",
      "INNER JOIN\n",
      "    node_ngram AS ngY ON ngY.id = whitelistY.ngram_id\n",
      "    \n",
      "WHERE\n",
      "    n.parent_id = %s\n",
      "AND\n",
      "    whitelistX.node_id = %s\n",
      "AND\n",
      "    whitelistY.node_id = %s\n",
      "AND\n",
      "    nngX.ngram_id < nngY.ngram_id   --  so we only get distinct pairs of ngrams\n",
      "    \n",
      "GROUP BY\n",
      "    ngX.id,\n",
      "    ngX.terms,\n",
      "    ngY.id,\n",
      "    ngY.terms\n",
      "ORDER BY\n",
      "    score DESC\n",
      "LIMIT\n",
      "    150\n",
      "\"\"\" % (cooc.pk, corpus.id, white_list.id, white_list.id)\n",
      "\n",
      "cursor.execute(query_cooc)"
     ],
     "language": "python",
     "metadata": {},
     "outputs": [],
     "prompt_number": 98
    },
    {
     "cell_type": "code",
     "collapsed": false,
     "input": [
      "\n",
      "while True:\n",
      "    row = cursor.fetchone()\n",
      "    if row is None:\n",
      "        break\n",
      "    print(row)"
     ],
     "language": "python",
     "metadata": {},
     "outputs": [
      {
       "output_type": "stream",
       "stream": "stdout",
       "text": [
        "(6, 'gas chromatography', 'mass spectrometric')\n",
        "(5, 'honeybees', 'pesticides')\n",
        "(4, 'gas chromatography', 'honey')\n",
        "(4, 'pollen', 'honey')\n",
        "(4, 'gas chromatography', 'electron-capture detection')\n",
        "(4, 'honey', 'pesticides')\n",
        "(4, 'honey bee', 'colonies')\n",
        "(3, 'beeswax', 'honey')\n",
        "(3, 'honey bees', 'field conditions')\n",
        "(3, 'exposure', 'pesticides')\n",
        "(3, 'fipronil', 'detection')\n",
        "(3, 'fungicides', 'pyrethroids')\n",
        "(3, 'honeybees', 'pyrethroids')\n",
        "(3, 'acaricides', 'resistance')\n",
        "(3, 'pesticides', 'detection')\n",
        "(3, 'honey bees', 'exposure')\n",
        "(3, 'gas chromatography', 'fipronil')\n",
        "(3, 'detection', 'honey')\n",
        "(3, 'gas chromatography', 'coumaphos')\n",
        "(3, 'honey', 'determination')\n",
        "(3, 'honeybees', 'fungicides')\n",
        "(3, 'pollen', 'fipronil')\n",
        "(3, 'residues', 'honey')\n",
        "(3, 'honey bee', 'coumaphos')\n",
        "(3, 'gas chromatography', 'pesticides')\n",
        "(3, 'honey', 'validation')\n",
        "(3, 'use', 'bioindicators')\n",
        "(3, 'honey bee', 'larvae')\n",
        "(3, 'honey', 'liquid chromatography-tandem mass spectrometry')\n",
        "(3, 'honey bees', 'pesticides')\n",
        "(3, 'bumblebees', ')')\n",
        "(3, 'mass spectrometric', 'fipronil')\n",
        "(3, 'fungicides', 'megachilidae')\n",
        "(3, 'honeybees', 'bioindicators')\n",
        "(3, 'honeybee', 'colony health')\n",
        "(3, 'gas chromatography', 'detection')\n",
        "(3, 'honey', 'determination')\n",
        "(2, 'mass spectrometric', 'honey')\n",
        "(2, 'pollen', 'honey bee')\n",
        "(2, 'method', 'sublethal effects')\n",
        "(2, 'beeswax', 'characterization')\n",
        "(2, 'bioindicators', 'pollinators')\n",
        "(2, 'mass spectrometric', 'detection')\n",
        "(2, 'honey bee colonies', 'beeswax')\n",
        "(2, 'method', 'pesticides')\n",
        "(2, 'honey samples', 'pesticides')\n",
        "(2, 'mass spectrometric', 'detection')\n",
        "(2, 'metabolites', 'toxicity')\n",
        "(2, 'laboratory', 'honey bees')\n",
        "(2, 'organophosphorus pesticides', 'liquid chromatography-mass spectrometry')\n",
        "(2, 'larvae', 'pesticides')\n",
        "(2, 'bees', 'insecticides')\n",
        "(2, 'honey bee', 'pesticides')\n",
        "(2, 'beeswax', 'solid-phase extraction')\n",
        "(2, 'honey bees', 'method')\n",
        "(2, 'high performance liquid chromatography', 'dispersive liquid-liquid microextraction')\n",
        "(2, 'honey bees', 'effect')\n",
        "(2, 'honey bees', 'survey')\n",
        "(2, 'organophosphorus pesticides', 'honey')\n",
        "(2, 'distribution', 'pesticides')\n",
        "(2, 'fipronil', 'high performance liquid chromatography')\n",
        "(2, 'sublethal effects', 'insecticides')\n",
        "(2, 'survey', 'pesticide residues')\n",
        "(2, 'honey bee', 'method')\n",
        "(2, 'honey', 'dispersive liquid-liquid microextraction')\n",
        "(2, 'honeybees', 'chromatography')\n",
        "(2, 'honeybee', 'organophosphorus pesticides')\n",
        "(2, 'varroa mites', 'acaricides')\n",
        "(2, 'honeybees', 'determination')\n",
        "(2, 'honeybees', 'toxicity')\n",
        "(2, 'honeybees', 'gas chromatography-mass spectrometry')\n",
        "(2, 'honey bees', 'use')\n",
        "(2, 'honey', 'electron-capture detection')\n",
        "(2, 'pollen', 'mass spectrometric')\n",
        "(2, 'honeybees', 'pesticides')\n",
        "(2, 'liquid chromatography-mass spectrometry', 'honey')\n",
        "(2, 'gas chromatography-mass spectrometry', 'honey')\n",
        "(2, 'gas chromatography-mass spectrometry', 'dispersive liquid-liquid microextraction')\n",
        "(2, 'honey', 'liquid chromatography-mass spectrometry')\n",
        "(2, 'bee products', 'contaminants')\n",
        "(2, 'pollen', 'residues')\n",
        "(2, 'characterization', 'honey')\n",
        "(2, 'laboratory tests', 'toxicity')\n",
        "(2, 'honey', 'detection')\n",
        "(2, 'honey bees', 'sublethal effects')\n",
        "(2, 'pesticides', 'use')\n",
        "(2, 'beeswax', 'determination')\n",
        "(2, 'fungicides', 'laboratory')\n",
        "(2, 'insecticides', 'exposure')\n",
        "(2, 'distribution', 'bioindicators')\n",
        "(2, 'survey', 'honey bee colonies')\n",
        "(2, 'beeswax', 'residues')\n",
        "(2, 'pesticides', ')')\n",
        "(2, 'pesticides', 'bumblebees')\n",
        "(2, 'coumaphos', 'honey')\n",
        "(2, 'method', 'honey')\n",
        "(2, 'honeybees', 'insecticides')\n",
        "(2, 'exposure', 'bumblebees')\n",
        "(2, 'exposure', ')')\n",
        "(2, 'detection', 'liquid chromatography')\n",
        "(2, 'bioindicators', 'pesticides')\n",
        "(2, 'residues', 'coumaphos')\n",
        "(2, 'effects', 'survival')\n",
        "(2, 'honey bee', 'pesticides')\n",
        "(2, 'honey samples', 'application')\n",
        "(2, 'honey bee', 'laboratory')\n",
        "(2, 'gas chromatography', 'determination')\n",
        "(2, 'larvae', 'pesticides')\n",
        "(2, 'laboratory', 'pesticides')\n",
        "(2, 'bioindicators', 'honeybees')\n",
        "(2, 'gas chromatography', 'honey')\n",
        "(2, 'honey bee', 'toxicity')\n",
        "(2, 'use', 'control')\n",
        "(2, 'fipronil', 'larvae')\n",
        "(2, 'honeybee', 'case study')\n",
        "(2, 'effect', 'bees')\n",
        "(2, 'pesticides', 'bioindicators')\n",
        "(2, 'bees', 'organophosphorus pesticides')\n",
        "(2, 'honeybees', 'liquid chromatography-mass spectrometry')\n",
        "(2, 'honey bees', 'pesticide residues')\n",
        "(2, 'honey', 'high performance liquid chromatography')\n",
        "(2, 'side-effects', 'bumblebees')\n",
        "(2, 'honey', 'residues')\n",
        "(2, 'metabolites', 'liquid chromatography')\n",
        "(2, 'honeybees', 'high performance liquid chromatography')\n",
        "(2, 'chromatography', 'characterization')\n",
        "(2, 'pesticides', 'honey')\n",
        "(2, 'mass spectrometric', 'honeybees')\n",
        "(2, 'honey bees', 'bees')\n",
        "(2, 'honey samples', 'contaminants')\n",
        "(2, 'liquid chromatography', 'pesticides')\n",
        "(2, 'bee products', 'pesticide residues')\n",
        "(2, 'pesticide residues', 'honey samples')\n",
        "(2, 'solid-phase extraction', 'detection')\n",
        "(2, 'fipronil', 'liquid chromatography')\n",
        "(2, 'colonies', 'toxicity')\n",
        "(2, 'pollinators', 'bumblebees')\n",
        "(2, 'exposure', 'toxicity')\n",
        "(2, 'effect', 'insecticides')\n",
        "(2, 'bees', 'honey')\n",
        "(2, 'honeybees', 'gas chromatography')\n",
        "(2, 'electron-capture detection', 'fipronil')\n",
        "(2, 'pollen', 'beeswax')\n",
        "(2, 'application', 'gas chromatography-mass spectrometry')\n",
        "(2, 'fipronil', 'honey')\n",
        "(2, 'resistance', 'development')\n",
        "(2, 'honeybee', 'survival')\n",
        "(2, 'conservation', 'bees')\n",
        "(2, 'honeybees', 'insecticides')\n",
        "(2, 'residues', 'determination')\n"
       ]
      }
     ],
     "prompt_number": 68
    },
    {
     "cell_type": "code",
     "collapsed": false,
     "input": [],
     "language": "python",
     "metadata": {},
     "outputs": [],
     "prompt_number": 1
    },
    {
     "cell_type": "code",
     "collapsed": false,
     "input": [],
     "language": "python",
     "metadata": {},
     "outputs": [],
     "prompt_number": 1
    },
    {
     "cell_type": "code",
     "collapsed": false,
     "input": [],
     "language": "python",
     "metadata": {},
     "outputs": [],
     "prompt_number": 1
    },
    {
     "cell_type": "code",
     "collapsed": false,
     "input": [],
     "language": "python",
     "metadata": {},
     "outputs": [],
     "prompt_number": 1
    },
    {
     "cell_type": "code",
     "collapsed": false,
     "input": [],
     "language": "python",
     "metadata": {},
     "outputs": [],
     "prompt_number": 1
    },
    {
     "cell_type": "code",
     "collapsed": false,
     "input": [],
     "language": "python",
     "metadata": {},
     "outputs": [],
     "prompt_number": 10
    },
    {
     "cell_type": "code",
     "collapsed": false,
     "input": [],
     "language": "python",
     "metadata": {},
     "outputs": [],
     "prompt_number": 2
    },
    {
     "cell_type": "code",
     "collapsed": false,
     "input": [],
     "language": "python",
     "metadata": {},
     "outputs": []
    },
    {
     "cell_type": "code",
     "collapsed": false,
     "input": [],
     "language": "python",
     "metadata": {},
     "outputs": [],
     "prompt_number": 13
    },
    {
     "cell_type": "code",
     "collapsed": false,
     "input": [],
     "language": "python",
     "metadata": {},
     "outputs": [],
     "prompt_number": 13
    },
    {
     "cell_type": "code",
     "collapsed": false,
     "input": [],
     "language": "python",
     "metadata": {},
     "outputs": [],
     "prompt_number": 13
    },
    {
     "cell_type": "code",
     "collapsed": false,
     "input": [],
     "language": "python",
     "metadata": {},
     "outputs": [],
     "prompt_number": 6
    },
    {
     "cell_type": "code",
     "collapsed": false,
     "input": [],
     "language": "python",
     "metadata": {},
     "outputs": [],
     "prompt_number": 6
    },
    {
     "cell_type": "code",
     "collapsed": false,
     "input": [],
     "language": "python",
     "metadata": {},
     "outputs": [],
     "prompt_number": 6
    },
    {
     "cell_type": "code",
     "collapsed": false,
     "input": [],
     "language": "python",
     "metadata": {},
     "outputs": [],
     "prompt_number": 3
    },
    {
     "cell_type": "code",
     "collapsed": false,
     "input": [],
     "language": "python",
     "metadata": {},
     "outputs": []
    },
    {
     "cell_type": "code",
     "collapsed": false,
     "input": [],
     "language": "python",
     "metadata": {},
     "outputs": []
    },
    {
     "cell_type": "code",
     "collapsed": false,
     "input": [],
     "language": "python",
     "metadata": {},
     "outputs": []
    },
    {
     "cell_type": "code",
     "collapsed": false,
     "input": [],
     "language": "python",
     "metadata": {},
     "outputs": [],
     "prompt_number": 42
    },
    {
     "cell_type": "code",
     "collapsed": false,
     "input": [],
     "language": "python",
     "metadata": {},
     "outputs": [],
     "prompt_number": 42
    },
    {
     "cell_type": "markdown",
     "metadata": {},
     "source": [
      "# Cr\u00e9ation de la black list"
     ]
    },
    {
     "cell_type": "code",
     "collapsed": false,
     "input": [
      "with transaction.atomic():\n",
      "    for node_ngram_object in Node_Ngram.objects.all()[101:150]:\n",
      "        Node_Ngram.objects.create(node=black_node, ngram=node_ngram_object.ngram, score=1)"
     ],
     "language": "python",
     "metadata": {},
     "outputs": [
      {
       "ename": "TypeError",
       "evalue": "'score' is an invalid keyword argument for this function",
       "output_type": "pyerr",
       "traceback": [
        "\u001b[1;31m---------------------------------------------------------------------------\u001b[0m\n\u001b[1;31mTypeError\u001b[0m                                 Traceback (most recent call last)",
        "\u001b[1;32m<ipython-input-24-b9a499432911>\u001b[0m in \u001b[0;36m<module>\u001b[1;34m()\u001b[0m\n\u001b[0;32m      1\u001b[0m \u001b[1;32mwith\u001b[0m \u001b[0mtransaction\u001b[0m\u001b[1;33m.\u001b[0m\u001b[0matomic\u001b[0m\u001b[1;33m(\u001b[0m\u001b[1;33m)\u001b[0m\u001b[1;33m:\u001b[0m\u001b[1;33m\u001b[0m\u001b[0m\n\u001b[0;32m      2\u001b[0m     \u001b[1;32mfor\u001b[0m \u001b[0mnode_ngram_object\u001b[0m \u001b[1;32min\u001b[0m \u001b[0mNode_Ngram\u001b[0m\u001b[1;33m.\u001b[0m\u001b[0mobjects\u001b[0m\u001b[1;33m.\u001b[0m\u001b[0mall\u001b[0m\u001b[1;33m(\u001b[0m\u001b[1;33m)\u001b[0m\u001b[1;33m[\u001b[0m\u001b[1;36m101\u001b[0m\u001b[1;33m:\u001b[0m\u001b[1;36m150\u001b[0m\u001b[1;33m]\u001b[0m\u001b[1;33m:\u001b[0m\u001b[1;33m\u001b[0m\u001b[0m\n\u001b[1;32m----> 3\u001b[1;33m         \u001b[0mNode_Ngram\u001b[0m\u001b[1;33m.\u001b[0m\u001b[0mobjects\u001b[0m\u001b[1;33m.\u001b[0m\u001b[0mcreate\u001b[0m\u001b[1;33m(\u001b[0m\u001b[0mnode\u001b[0m\u001b[1;33m=\u001b[0m\u001b[0mblack_node\u001b[0m\u001b[1;33m,\u001b[0m \u001b[0mngram\u001b[0m\u001b[1;33m=\u001b[0m\u001b[0mnode_ngram_object\u001b[0m\u001b[1;33m.\u001b[0m\u001b[0mngram\u001b[0m\u001b[1;33m,\u001b[0m \u001b[0mscore\u001b[0m\u001b[1;33m=\u001b[0m\u001b[1;36m1\u001b[0m\u001b[1;33m)\u001b[0m\u001b[1;33m\u001b[0m\u001b[0m\n\u001b[0m",
        "\u001b[1;32m/home/alexandre/projets/gargantext.py/env/lib/python3.4/site-packages/django/db/models/manager.py\u001b[0m in \u001b[0;36mcreate\u001b[1;34m(self, **kwargs)\u001b[0m\n\u001b[0;32m    155\u001b[0m \u001b[1;33m\u001b[0m\u001b[0m\n\u001b[0;32m    156\u001b[0m     \u001b[1;32mdef\u001b[0m \u001b[0mcreate\u001b[0m\u001b[1;33m(\u001b[0m\u001b[0mself\u001b[0m\u001b[1;33m,\u001b[0m \u001b[1;33m**\u001b[0m\u001b[0mkwargs\u001b[0m\u001b[1;33m)\u001b[0m\u001b[1;33m:\u001b[0m\u001b[1;33m\u001b[0m\u001b[0m\n\u001b[1;32m--> 157\u001b[1;33m         \u001b[1;32mreturn\u001b[0m \u001b[0mself\u001b[0m\u001b[1;33m.\u001b[0m\u001b[0mget_queryset\u001b[0m\u001b[1;33m(\u001b[0m\u001b[1;33m)\u001b[0m\u001b[1;33m.\u001b[0m\u001b[0mcreate\u001b[0m\u001b[1;33m(\u001b[0m\u001b[1;33m**\u001b[0m\u001b[0mkwargs\u001b[0m\u001b[1;33m)\u001b[0m\u001b[1;33m\u001b[0m\u001b[0m\n\u001b[0m\u001b[0;32m    158\u001b[0m \u001b[1;33m\u001b[0m\u001b[0m\n\u001b[0;32m    159\u001b[0m     \u001b[1;32mdef\u001b[0m \u001b[0mbulk_create\u001b[0m\u001b[1;33m(\u001b[0m\u001b[0mself\u001b[0m\u001b[1;33m,\u001b[0m \u001b[1;33m*\u001b[0m\u001b[0margs\u001b[0m\u001b[1;33m,\u001b[0m \u001b[1;33m**\u001b[0m\u001b[0mkwargs\u001b[0m\u001b[1;33m)\u001b[0m\u001b[1;33m:\u001b[0m\u001b[1;33m\u001b[0m\u001b[0m\n",
        "\u001b[1;32m/home/alexandre/projets/gargantext.py/env/lib/python3.4/site-packages/django/db/models/query.py\u001b[0m in \u001b[0;36mcreate\u001b[1;34m(self, **kwargs)\u001b[0m\n\u001b[0;32m    318\u001b[0m         \u001b[1;32mand\u001b[0m \u001b[0mreturning\u001b[0m \u001b[0mthe\u001b[0m \u001b[0mcreated\u001b[0m \u001b[0mobject\u001b[0m\u001b[1;33m.\u001b[0m\u001b[1;33m\u001b[0m\u001b[0m\n\u001b[0;32m    319\u001b[0m         \"\"\"\n\u001b[1;32m--> 320\u001b[1;33m         \u001b[0mobj\u001b[0m \u001b[1;33m=\u001b[0m \u001b[0mself\u001b[0m\u001b[1;33m.\u001b[0m\u001b[0mmodel\u001b[0m\u001b[1;33m(\u001b[0m\u001b[1;33m**\u001b[0m\u001b[0mkwargs\u001b[0m\u001b[1;33m)\u001b[0m\u001b[1;33m\u001b[0m\u001b[0m\n\u001b[0m\u001b[0;32m    321\u001b[0m         \u001b[0mself\u001b[0m\u001b[1;33m.\u001b[0m\u001b[0m_for_write\u001b[0m \u001b[1;33m=\u001b[0m \u001b[1;32mTrue\u001b[0m\u001b[1;33m\u001b[0m\u001b[0m\n\u001b[0;32m    322\u001b[0m         \u001b[0mobj\u001b[0m\u001b[1;33m.\u001b[0m\u001b[0msave\u001b[0m\u001b[1;33m(\u001b[0m\u001b[0mforce_insert\u001b[0m\u001b[1;33m=\u001b[0m\u001b[1;32mTrue\u001b[0m\u001b[1;33m,\u001b[0m \u001b[0musing\u001b[0m\u001b[1;33m=\u001b[0m\u001b[0mself\u001b[0m\u001b[1;33m.\u001b[0m\u001b[0mdb\u001b[0m\u001b[1;33m)\u001b[0m\u001b[1;33m\u001b[0m\u001b[0m\n",
        "\u001b[1;32m/home/alexandre/projets/gargantext.py/env/lib/python3.4/site-packages/django/db/models/base.py\u001b[0m in \u001b[0;36m__init__\u001b[1;34m(self, *args, **kwargs)\u001b[0m\n\u001b[0;32m    415\u001b[0m                     \u001b[1;32mpass\u001b[0m\u001b[1;33m\u001b[0m\u001b[0m\n\u001b[0;32m    416\u001b[0m             \u001b[1;32mif\u001b[0m \u001b[0mkwargs\u001b[0m\u001b[1;33m:\u001b[0m\u001b[1;33m\u001b[0m\u001b[0m\n\u001b[1;32m--> 417\u001b[1;33m                 \u001b[1;32mraise\u001b[0m \u001b[0mTypeError\u001b[0m\u001b[1;33m(\u001b[0m\u001b[1;34m\"'%s' is an invalid keyword argument for this function\"\u001b[0m \u001b[1;33m%\u001b[0m \u001b[0mlist\u001b[0m\u001b[1;33m(\u001b[0m\u001b[0mkwargs\u001b[0m\u001b[1;33m)\u001b[0m\u001b[1;33m[\u001b[0m\u001b[1;36m0\u001b[0m\u001b[1;33m]\u001b[0m\u001b[1;33m)\u001b[0m\u001b[1;33m\u001b[0m\u001b[0m\n\u001b[0m\u001b[0;32m    418\u001b[0m         \u001b[0msuper\u001b[0m\u001b[1;33m(\u001b[0m\u001b[0mModel\u001b[0m\u001b[1;33m,\u001b[0m \u001b[0mself\u001b[0m\u001b[1;33m)\u001b[0m\u001b[1;33m.\u001b[0m\u001b[0m__init__\u001b[0m\u001b[1;33m(\u001b[0m\u001b[1;33m)\u001b[0m\u001b[1;33m\u001b[0m\u001b[0m\n\u001b[0;32m    419\u001b[0m         \u001b[0msignals\u001b[0m\u001b[1;33m.\u001b[0m\u001b[0mpost_init\u001b[0m\u001b[1;33m.\u001b[0m\u001b[0msend\u001b[0m\u001b[1;33m(\u001b[0m\u001b[0msender\u001b[0m\u001b[1;33m=\u001b[0m\u001b[0mself\u001b[0m\u001b[1;33m.\u001b[0m\u001b[0m__class__\u001b[0m\u001b[1;33m,\u001b[0m \u001b[0minstance\u001b[0m\u001b[1;33m=\u001b[0m\u001b[0mself\u001b[0m\u001b[1;33m)\u001b[0m\u001b[1;33m\u001b[0m\u001b[0m\n",
        "\u001b[1;31mTypeError\u001b[0m: 'score' is an invalid keyword argument for this function"
       ]
      }
     ],
     "prompt_number": 24
    },
    {
     "cell_type": "code",
     "collapsed": false,
     "input": [
      "Node_Ngram.objects.filter(node=black_node)"
     ],
     "language": "python",
     "metadata": {},
     "outputs": []
    },
    {
     "cell_type": "markdown",
     "metadata": {},
     "source": [
      "# Cr\u00e9ation des synonymes"
     ]
    },
    {
     "cell_type": "code",
     "collapsed": false,
     "input": [
      "syno_type  = NodeType.objects.get(name='Synonyme')\n",
      "syno_node = Node.objects.create(name='Syno Pubmed',\n",
      "                                user=user, \n",
      "                                parent=corpus, \n",
      "                                type=syno_type)"
     ],
     "language": "python",
     "metadata": {},
     "outputs": []
    },
    {
     "cell_type": "code",
     "collapsed": false,
     "input": [
      "synonyme1, synonyme2 = Node_Ngram.objects.filter(node=white_node)[3:5]"
     ],
     "language": "python",
     "metadata": {},
     "outputs": []
    },
    {
     "cell_type": "code",
     "collapsed": false,
     "input": [
      "NodeNgramNgram.objects.create(node=syno_node, ngramX=synonyme1.ngram, ngramY=synonyme2.ngram)"
     ],
     "language": "python",
     "metadata": {},
     "outputs": []
    },
    {
     "cell_type": "markdown",
     "metadata": {},
     "source": [
      "# Cooccurrence"
     ]
    },
    {
     "cell_type": "code",
     "collapsed": false,
     "input": [],
     "language": "python",
     "metadata": {},
     "outputs": [
      {
       "metadata": {},
       "output_type": "pyout",
       "prompt_number": 25,
       "text": [
        "0"
       ]
      }
     ],
     "prompt_number": 25
    },
    {
     "cell_type": "code",
     "collapsed": false,
     "input": [
      "black_node.pk"
     ],
     "language": "python",
     "metadata": {},
     "outputs": [
      {
       "metadata": {},
       "output_type": "pyout",
       "prompt_number": 18,
       "text": [
        "61295"
       ]
      }
     ],
     "prompt_number": 18
    },
    {
     "cell_type": "code",
     "collapsed": false,
     "input": [],
     "language": "python",
     "metadata": {},
     "outputs": [],
     "prompt_number": 26
    },
    {
     "cell_type": "code",
     "collapsed": false,
     "input": [
      "cooc.pk"
     ],
     "language": "python",
     "metadata": {},
     "outputs": [
      {
       "metadata": {},
       "output_type": "pyout",
       "prompt_number": 28,
       "text": [
        "61300"
       ]
      }
     ],
     "prompt_number": 28
    },
    {
     "cell_type": "code",
     "collapsed": false,
     "input": [
      "white_node.pk"
     ],
     "language": "python",
     "metadata": {},
     "outputs": [
      {
       "metadata": {},
       "output_type": "pyout",
       "prompt_number": 42,
       "text": [
        "61298"
       ]
      }
     ],
     "prompt_number": 42
    },
    {
     "cell_type": "code",
     "collapsed": false,
     "input": [
      "from django.db import connection\n",
      "cursor = connection.cursor()\n",
      "# LOCK TABLE documents_ngramtemporary IN EXCLUSIVE MODE;\n",
      "query_string = \"\"\"\n",
      "\n",
      "INSERT INTO node_nodengramngram (node_id, \"ngramx_id\", \"ngramy_id\", score)\n",
      "\n",
      "SELECT \n",
      "%d as node_id, x.ngram_id, y.ngram_id, COUNT(*) AS score\n",
      "\n",
      "FROM\n",
      "node_node_ngram AS x\n",
      "\n",
      "INNER JOIN \n",
      "node_node_ngram AS y  ON x.node_id = y.node_id\n",
      "\n",
      "WHERE\n",
      "    x.id in (select id from node_node_ngram WHERE node_id = %d )\n",
      "AND\n",
      "    y.id in (select id from node_node_ngram WHERE node_id = %d )\n",
      "AND\n",
      "    x.id > y.id\n",
      "\n",
      "\n",
      "GROUP BY\n",
      "x.ngram_id, y.ngram_id\n",
      "\n",
      "HAVING count(*) > 1\n",
      "\n",
      "ORDER BY score\n",
      "\n",
      "LIMIT 300\n",
      "\n",
      "             \"\"\" % (cooc.pk, white_node.pk, white_node.pk)\n",
      "\n",
      "cursor.execute(query_string)\n",
      "\n",
      "try:\n",
      "    while True:\n",
      "        row = cursor.fetchone()\n",
      "        if row is None:\n",
      "            break\n",
      "        print(row)\n",
      "except:\n",
      "    pass"
     ],
     "language": "python",
     "metadata": {},
     "outputs": [],
     "prompt_number": 76
    },
    {
     "cell_type": "code",
     "collapsed": false,
     "input": [],
     "language": "python",
     "metadata": {},
     "outputs": []
    },
    {
     "cell_type": "code",
     "collapsed": false,
     "input": [],
     "language": "python",
     "metadata": {},
     "outputs": []
    },
    {
     "cell_type": "code",
     "collapsed": false,
     "input": [
      "from copy import copy\n",
      "import numpy as np\n",
      "import pandas as pd\n",
      "import networkx as nx\n",
      "from collections import defaultdict\n",
      "from analysis.louvain import *\n",
      "import matplotlib.pyplot as plt\n",
      "%matplotlib inline"
     ],
     "language": "python",
     "metadata": {},
     "outputs": [],
     "prompt_number": 99
    },
    {
     "cell_type": "code",
     "collapsed": false,
     "input": [
      "matrix = \"\""
     ],
     "language": "python",
     "metadata": {},
     "outputs": [],
     "prompt_number": 100
    },
    {
     "cell_type": "code",
     "collapsed": false,
     "input": [
      "matrix = defaultdict(lambda : defaultdict(float))\n",
      "for cooccurrence in NodeNgramNgram.objects.filter(node=cooc):\n",
      "    matrix[cooccurrence.ngramx.terms][cooccurrence.ngramy.terms] = cooccurrence.score\n",
      "    matrix[cooccurrence.ngramy.terms][cooccurrence.ngramx.terms] = cooccurrence.score"
     ],
     "language": "python",
     "metadata": {},
     "outputs": [],
     "prompt_number": 101
    },
    {
     "cell_type": "code",
     "collapsed": false,
     "input": [
      "df = pd.DataFrame(matrix).T.fillna(0)\n",
      "x = copy(df.values)"
     ],
     "language": "python",
     "metadata": {},
     "outputs": [],
     "prompt_number": 102
    },
    {
     "cell_type": "code",
     "collapsed": false,
     "input": [
      "x.shape"
     ],
     "language": "python",
     "metadata": {},
     "outputs": [
      {
       "metadata": {},
       "output_type": "pyout",
       "prompt_number": 103,
       "text": [
        "(28, 28)"
       ]
      }
     ],
     "prompt_number": 103
    },
    {
     "cell_type": "code",
     "collapsed": false,
     "input": [
      "x = np.where((x.sum(axis=1) > x.shape[0] / 2), 0, x )\n",
      "x = np.where((x.sum(axis=1) > x.shape[0] / 10), 0, x )"
     ],
     "language": "python",
     "metadata": {},
     "outputs": [
      {
       "ename": "ValueError",
       "evalue": "shape mismatch: objects cannot be broadcast to a single shape",
       "output_type": "pyerr",
       "traceback": [
        "\u001b[1;31m---------------------------------------------------------------------------\u001b[0m\n\u001b[1;31mValueError\u001b[0m                                Traceback (most recent call last)",
        "\u001b[1;32m<ipython-input-39-28332fbcc3a3>\u001b[0m in \u001b[0;36m<module>\u001b[1;34m()\u001b[0m\n\u001b[1;32m----> 1\u001b[1;33m \u001b[0mx\u001b[0m \u001b[1;33m=\u001b[0m \u001b[0mnp\u001b[0m\u001b[1;33m.\u001b[0m\u001b[0mwhere\u001b[0m\u001b[1;33m(\u001b[0m\u001b[1;33m(\u001b[0m\u001b[0mx\u001b[0m\u001b[1;33m.\u001b[0m\u001b[0msum\u001b[0m\u001b[1;33m(\u001b[0m\u001b[0maxis\u001b[0m\u001b[1;33m=\u001b[0m\u001b[1;36m1\u001b[0m\u001b[1;33m)\u001b[0m \u001b[1;33m>\u001b[0m \u001b[0mx\u001b[0m\u001b[1;33m.\u001b[0m\u001b[0mshape\u001b[0m\u001b[1;33m[\u001b[0m\u001b[1;36m0\u001b[0m\u001b[1;33m]\u001b[0m \u001b[1;33m/\u001b[0m \u001b[1;36m2\u001b[0m\u001b[1;33m)\u001b[0m\u001b[1;33m,\u001b[0m \u001b[1;36m0\u001b[0m\u001b[1;33m,\u001b[0m \u001b[0mx\u001b[0m \u001b[1;33m)\u001b[0m\u001b[1;33m\u001b[0m\u001b[0m\n\u001b[0m\u001b[0;32m      2\u001b[0m \u001b[0mx\u001b[0m \u001b[1;33m=\u001b[0m \u001b[0mnp\u001b[0m\u001b[1;33m.\u001b[0m\u001b[0mwhere\u001b[0m\u001b[1;33m(\u001b[0m\u001b[1;33m(\u001b[0m\u001b[0mx\u001b[0m\u001b[1;33m.\u001b[0m\u001b[0msum\u001b[0m\u001b[1;33m(\u001b[0m\u001b[0maxis\u001b[0m\u001b[1;33m=\u001b[0m\u001b[1;36m1\u001b[0m\u001b[1;33m)\u001b[0m \u001b[1;33m>\u001b[0m \u001b[0mx\u001b[0m\u001b[1;33m.\u001b[0m\u001b[0mshape\u001b[0m\u001b[1;33m[\u001b[0m\u001b[1;36m0\u001b[0m\u001b[1;33m]\u001b[0m \u001b[1;33m/\u001b[0m \u001b[1;36m10\u001b[0m\u001b[1;33m)\u001b[0m\u001b[1;33m,\u001b[0m \u001b[1;36m0\u001b[0m\u001b[1;33m,\u001b[0m \u001b[0mx\u001b[0m \u001b[1;33m)\u001b[0m\u001b[1;33m\u001b[0m\u001b[0m\n",
        "\u001b[1;31mValueError\u001b[0m: shape mismatch: objects cannot be broadcast to a single shape"
       ]
      }
     ],
     "prompt_number": 39
    },
    {
     "cell_type": "code",
     "collapsed": false,
     "input": [
      "x = x / x.sum(axis=1)"
     ],
     "language": "python",
     "metadata": {},
     "outputs": [],
     "prompt_number": 104
    },
    {
     "cell_type": "code",
     "collapsed": false,
     "input": [
      "matrix_filtered = np.where(x > .13, 1, 0)"
     ],
     "language": "python",
     "metadata": {},
     "outputs": [],
     "prompt_number": 121
    },
    {
     "cell_type": "code",
     "collapsed": false,
     "input": [
      "matrix_filtered"
     ],
     "language": "python",
     "metadata": {},
     "outputs": [
      {
       "metadata": {},
       "output_type": "pyout",
       "prompt_number": 122,
       "text": [
        "array([[0, 0, 0, 0, 0, 0, 0, 0, 0, 0, 0, 0, 0, 0, 0, 0, 0, 0, 0, 0, 0, 0,\n",
        "        0, 0, 0, 0, 0, 0],\n",
        "       [0, 0, 0, 0, 0, 0, 0, 0, 0, 0, 0, 0, 0, 0, 0, 0, 0, 0, 0, 0, 0, 0,\n",
        "        0, 0, 0, 0, 0, 0],\n",
        "       [0, 0, 0, 1, 1, 0, 0, 0, 0, 0, 0, 0, 0, 0, 0, 0, 0, 0, 0, 1, 0, 0,\n",
        "        0, 0, 0, 0, 0, 0],\n",
        "       [0, 0, 0, 0, 0, 0, 0, 0, 0, 0, 0, 0, 0, 0, 0, 0, 0, 0, 0, 0, 0, 0,\n",
        "        0, 0, 0, 0, 0, 0],\n",
        "       [0, 0, 1, 0, 0, 0, 0, 0, 0, 0, 0, 0, 0, 0, 0, 0, 0, 0, 0, 0, 0, 0,\n",
        "        0, 0, 0, 0, 0, 0],\n",
        "       [0, 0, 0, 1, 0, 0, 0, 0, 0, 0, 1, 1, 0, 0, 0, 0, 0, 0, 0, 0, 0, 0,\n",
        "        0, 0, 0, 0, 0, 0],\n",
        "       [0, 0, 0, 1, 0, 0, 0, 0, 0, 1, 0, 0, 0, 0, 0, 0, 0, 0, 0, 0, 1, 0,\n",
        "        0, 0, 0, 1, 0, 0],\n",
        "       [0, 0, 0, 0, 0, 0, 0, 0, 0, 0, 0, 0, 0, 0, 1, 0, 0, 0, 0, 0, 0, 0,\n",
        "        0, 0, 0, 0, 0, 0],\n",
        "       [0, 0, 0, 0, 0, 0, 0, 0, 0, 0, 0, 0, 0, 0, 0, 0, 0, 0, 0, 0, 0, 0,\n",
        "        0, 0, 0, 0, 0, 0],\n",
        "       [0, 0, 0, 0, 0, 0, 1, 0, 0, 0, 0, 0, 0, 0, 0, 0, 0, 0, 0, 0, 1, 0,\n",
        "        0, 0, 1, 1, 0, 0],\n",
        "       [0, 0, 0, 0, 0, 1, 0, 0, 0, 0, 0, 0, 0, 0, 0, 1, 0, 0, 0, 1, 0, 0,\n",
        "        0, 0, 0, 0, 0, 0],\n",
        "       [0, 0, 0, 0, 0, 1, 0, 0, 0, 0, 0, 0, 0, 0, 0, 0, 0, 0, 0, 0, 0, 0,\n",
        "        0, 0, 0, 0, 0, 0],\n",
        "       [0, 0, 0, 1, 0, 0, 0, 0, 0, 0, 0, 0, 0, 0, 0, 0, 0, 0, 0, 0, 0, 0,\n",
        "        0, 0, 1, 0, 0, 1],\n",
        "       [0, 0, 0, 0, 0, 0, 0, 0, 0, 0, 0, 0, 0, 0, 0, 0, 0, 0, 0, 0, 0, 0,\n",
        "        0, 0, 0, 0, 0, 0],\n",
        "       [0, 0, 0, 0, 0, 0, 0, 1, 0, 0, 0, 0, 0, 0, 0, 0, 1, 0, 0, 0, 0, 0,\n",
        "        0, 0, 0, 0, 1, 0],\n",
        "       [0, 0, 0, 0, 0, 0, 0, 0, 0, 0, 1, 0, 0, 0, 0, 0, 0, 0, 0, 1, 0, 0,\n",
        "        0, 0, 0, 0, 0, 0],\n",
        "       [0, 0, 0, 1, 0, 0, 0, 0, 0, 0, 0, 0, 0, 0, 0, 0, 0, 0, 0, 0, 0, 0,\n",
        "        0, 0, 1, 0, 0, 0],\n",
        "       [0, 0, 0, 0, 0, 0, 0, 0, 0, 0, 0, 0, 0, 0, 0, 0, 0, 0, 0, 0, 0, 0,\n",
        "        0, 0, 0, 0, 0, 0],\n",
        "       [0, 0, 0, 0, 0, 0, 0, 0, 0, 0, 0, 0, 0, 0, 0, 0, 0, 0, 0, 0, 0, 1,\n",
        "        0, 0, 0, 1, 0, 0],\n",
        "       [0, 0, 0, 0, 0, 0, 0, 0, 0, 0, 0, 0, 0, 0, 0, 0, 0, 0, 0, 0, 0, 0,\n",
        "        0, 0, 0, 0, 0, 0],\n",
        "       [0, 0, 0, 0, 0, 0, 1, 0, 0, 1, 0, 0, 0, 0, 0, 0, 0, 0, 0, 0, 0, 0,\n",
        "        0, 0, 0, 0, 0, 0],\n",
        "       [0, 0, 0, 1, 0, 0, 0, 0, 0, 0, 0, 0, 0, 0, 0, 0, 0, 0, 1, 0, 0, 0,\n",
        "        0, 0, 1, 1, 0, 0],\n",
        "       [0, 1, 0, 1, 0, 0, 0, 0, 0, 0, 0, 0, 0, 1, 0, 1, 0, 0, 0, 0, 0, 0,\n",
        "        0, 0, 1, 0, 0, 0],\n",
        "       [0, 0, 0, 0, 0, 0, 0, 0, 0, 0, 0, 0, 0, 0, 0, 0, 0, 0, 0, 0, 0, 0,\n",
        "        0, 0, 0, 0, 0, 0],\n",
        "       [0, 0, 0, 0, 0, 0, 0, 0, 0, 0, 0, 0, 0, 0, 0, 0, 0, 0, 0, 0, 0, 0,\n",
        "        0, 0, 0, 0, 0, 0],\n",
        "       [0, 0, 0, 0, 0, 0, 1, 0, 0, 0, 0, 0, 0, 0, 0, 0, 0, 0, 1, 1, 0, 1,\n",
        "        0, 0, 0, 0, 0, 0],\n",
        "       [0, 0, 0, 0, 0, 0, 0, 0, 0, 0, 0, 0, 0, 0, 0, 0, 0, 0, 0, 0, 0, 0,\n",
        "        0, 0, 0, 0, 0, 0],\n",
        "       [0, 0, 0, 0, 0, 0, 0, 0, 0, 0, 0, 0, 1, 0, 0, 0, 0, 0, 0, 0, 0, 0,\n",
        "        0, 0, 0, 0, 0, 0]])"
       ]
      }
     ],
     "prompt_number": 122
    },
    {
     "cell_type": "code",
     "collapsed": false,
     "input": [
      "G = nx.from_numpy_matrix(matrix_filtered)\n",
      "G = nx.relabel_nodes(G, dict(enumerate(df.columns)))"
     ],
     "language": "python",
     "metadata": {},
     "outputs": [],
     "prompt_number": 123
    },
    {
     "cell_type": "code",
     "collapsed": false,
     "input": [
      "nx.draw(G, with_labels=True)\n",
      "plt.show()"
     ],
     "language": "python",
     "metadata": {},
     "outputs": [
      {
       "metadata": {},
       "output_type": "display_data",
       "png": "[encoded data removed]",
       "text": [
        "<matplotlib.figure.Figure at 0x7fb82d716a20>"
       ]
      }
     ],
     "prompt_number": 124
    },
    {
     "cell_type": "code",
     "collapsed": false,
     "input": [
      "partition = best_partition(G)"
     ],
     "language": "python",
     "metadata": {},
     "outputs": [],
     "prompt_number": 125
    },
    {
     "cell_type": "code",
     "collapsed": false,
     "input": [
      "#partition"
     ],
     "language": "python",
     "metadata": {},
     "outputs": [],
     "prompt_number": 88
    },
    {
     "cell_type": "code",
     "collapsed": false,
     "input": [
      "pos = nx.spring_layout(G)"
     ],
     "language": "python",
     "metadata": {},
     "outputs": [],
     "prompt_number": 126
    },
    {
     "cell_type": "code",
     "collapsed": false,
     "input": [
      "count = 0.0\n",
      "node_min = 3\n",
      "for com in set(partition.values()) :\n",
      "    count = count + 1\n",
      "    list_nodes = [nodes for nodes in partition.keys() if partition[nodes] == com]\n",
      "            \n",
      "    if len(list_nodes) > node_min:\n",
      "        nx.draw_networkx_nodes(G, pos, list_nodes, node_size = 20, with_labels=True)#, node_color = str(count / size))\n",
      "        nx.draw_networkx_edges(G, pos, alpha=0.5)\n",
      "        plt.title(\"Clique \" + str(count))\n",
      "                \n",
      "        for node in list_nodes: \n",
      "            print(node)\n",
      "            plt.show()\n",
      "            print(\"-\" * 30)\n"
     ],
     "language": "python",
     "metadata": {},
     "outputs": [
      {
       "output_type": "stream",
       "stream": "stdout",
       "text": [
        "gas chromatography-mass spectrometry\n"
       ]
      },
      {
       "metadata": {},
       "output_type": "display_data",
       "png": "[encoded data removed]",
       "text": [
        "<matplotlib.figure.Figure at 0x7fb82d9b77b8>"
       ]
      },
      {
       "output_type": "stream",
       "stream": "stdout",
       "text": [
        "------------------------------\n",
        "high performance liquid chromatography\n",
        "------------------------------\n",
        "honey samples\n",
        "------------------------------\n",
        "dispersive liquid-liquid microextraction\n",
        "------------------------------\n",
        "liquid chromatography-tandem mass spectrometry\n",
        "------------------------------\n",
        "honey bee colonies\n"
       ]
      },
      {
       "metadata": {},
       "output_type": "display_data",
       "png": "[encoded data removed]",
       "text": [
        "<matplotlib.figure.Figure at 0x7fb82d69a978>"
       ]
      },
      {
       "output_type": "stream",
       "stream": "stdout",
       "text": [
        "------------------------------\n",
        "solid-phase extraction\n",
        "------------------------------\n",
        "honey bee\n",
        "------------------------------\n",
        "varroa mites\n",
        "------------------------------\n",
        "bee products\n",
        "------------------------------\n",
        "pesticide residues\n",
        "------------------------------\n",
        "electron-capture detection\n"
       ]
      },
      {
       "metadata": {},
       "output_type": "display_data",
       "png": "[encoded data removed]",
       "text": [
        "<matplotlib.figure.Figure at 0x7fb82d941400>"
       ]
      },
      {
       "output_type": "stream",
       "stream": "stdout",
       "text": [
        "------------------------------\n",
        "mass spectrometric\n",
        "------------------------------\n",
        "liquid chromatography-mass spectrometry\n",
        "------------------------------\n",
        "solid-phase microextraction\n",
        "------------------------------\n",
        "gas chromatography\n",
        "------------------------------\n",
        "organophosphorus pesticides\n",
        "------------------------------\n",
        "field conditions\n"
       ]
      },
      {
       "metadata": {},
       "output_type": "display_data",
       "png": "[encoded data removed]",
       "text": [
        "<matplotlib.figure.Figure at 0x7fb82dbb5470>"
       ]
      },
      {
       "output_type": "stream",
       "stream": "stdout",
       "text": [
        "------------------------------\n",
        "honey bees\n",
        "------------------------------\n",
        "laboratory tests\n",
        "------------------------------\n",
        "sublethal effects\n",
        "------------------------------\n"
       ]
      }
     ],
     "prompt_number": 127
    },
    {
     "cell_type": "markdown",
     "metadata": {},
     "source": []
    },
    {
     "cell_type": "code",
     "collapsed": false,
     "input": [],
     "language": "python",
     "metadata": {},
     "outputs": [],
     "prompt_number": 145
    },
    {
     "cell_type": "code",
     "collapsed": false,
     "input": [],
     "language": "python",
     "metadata": {},
     "outputs": [],
     "prompt_number": 146
    },
    {
     "cell_type": "code",
     "collapsed": false,
     "input": [],
     "language": "python",
     "metadata": {},
     "outputs": [],
     "prompt_number": 147
    },
    {
     "cell_type": "code",
     "collapsed": false,
     "input": [],
     "language": "python",
     "metadata": {},
     "outputs": [],
     "prompt_number": 4
    },
    {
     "cell_type": "code",
     "collapsed": false,
     "input": [],
     "language": "python",
     "metadata": {},
     "outputs": [],
     "prompt_number": 1
    },
    {
     "cell_type": "code",
     "collapsed": false,
     "input": [],
     "language": "python",
     "metadata": {},
     "outputs": [],
     "prompt_number": 0
    },
    {
     "cell_type": "code",
     "collapsed": false,
     "input": [],
     "language": "python",
     "metadata": {},
     "outputs": [],
     "prompt_number": 0
    },
    {
     "cell_type": "code",
     "collapsed": false,
     "input": [],
     "language": "python",
     "metadata": {},
     "outputs": [],
     "prompt_number": 0
    },
    {
     "cell_type": "code",
     "collapsed": false,
     "input": [],
     "language": "python",
     "metadata": {},
     "outputs": [],
     "prompt_number": 0
    },
    {
     "cell_type": "code",
     "collapsed": false,
     "input": [],
     "language": "python",
     "metadata": {},
     "outputs": [],
     "prompt_number": 0
    },
    {
     "cell_type": "code",
     "collapsed": false,
     "input": [],
     "language": "python",
     "metadata": {},
     "outputs": [],
     "prompt_number": 1
    },
    {
     "cell_type": "code",
     "collapsed": false,
     "input": [],
     "language": "python",
     "metadata": {},
     "outputs": [],
     "prompt_number": 1
    },
    {
     "cell_type": "code",
     "collapsed": false,
     "input": [],
     "language": "python",
     "metadata": {},
     "outputs": [],
     "prompt_number": 1
    },
    {
     "cell_type": "code",
     "collapsed": false,
     "input": [],
     "language": "python",
     "metadata": {},
     "outputs": [],
     "prompt_number": 1
    },
    {
     "cell_type": "code",
     "collapsed": false,
     "input": [],
     "language": "python",
     "metadata": {},
     "outputs": []
    }
   ],
   "metadata": {}
  }
 ]
}