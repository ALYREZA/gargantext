{
 "metadata": {
  "name": "",
  "signature": "sha256:1ca21b1538256b8f19a1e8b22af61d6439dd14912f5cd0c4e3eca72da3cea077"
 },
 "nbformat": 3,
 "nbformat_minor": 0,
 "worksheets": [
  {
   "cells": [
    {
     "cell_type": "code",
     "collapsed": false,
     "input": [
      "from node.models import Node, NodeType\n",
      "from django.contrib.auth.models import User"
     ],
     "language": "python",
     "metadata": {},
     "outputs": [],
     "prompt_number": 22
    },
    {
     "cell_type": "code",
     "collapsed": false,
     "input": [
      "from time import time\n",
      "print(time())"
     ],
     "language": "python",
     "metadata": {},
     "outputs": [
      {
       "output_type": "stream",
       "stream": "stdout",
       "text": [
        "1412775903.5760932\n"
       ]
      }
     ],
     "prompt_number": 8
    },
    {
     "cell_type": "code",
     "collapsed": false,
     "input": [
      "NodeType.objects.all().delete()\n",
      "nodeTypeRoot = NodeType(name=\"Root\")\n",
      "nodeTypeRoot.save()\n",
      "nodeTypeProject = NodeType(name=\"Project\")\n",
      "nodeTypeProject.save()\n",
      "nodeTypeDocument = NodeType(name=\"Document\")\n",
      "nodeTypeDocument.save()"
     ],
     "language": "python",
     "metadata": {},
     "outputs": [],
     "prompt_number": 9
    },
    {
     "cell_type": "code",
     "collapsed": false,
     "input": [
      "Node.objects.all().delete()\n",
      "User.objects.filter(username__startswith = \"User #\").delete()\n",
      "\n",
      "t0 = time()\n",
      "for userIndex in range(100):\n",
      "    userName = 'User #%d' % (userIndex, )\n",
      "    user = User(username=userName)\n",
      "    user.save()\n",
      "    rootNode = Node.add_root(name=userName, type_id=nodeTypeRoot.pk, user_id=user.id)\n",
      "    print(userName)\n",
      "    for projectIndex in range(50):\n",
      "        projectName = 'Project #%d-%d' % (userIndex, projectIndex, )\n",
      "        projectNode = Node(name=projectName, type_id=nodeTypeProject.pk, user_id=user.id)\n",
      "        rootNode.add_child(instance=projectNode)\n",
      "        documents = [\n",
      "            {\"data\": {\"name\":'Document #%d-%d-%d' % (userIndex, projectIndex, documentIndex, ), \"type_id\":nodeTypeDocument.pk, \"user_id\":user.id}}\n",
      "            for documentIndex in range(10000)\n",
      "        ]\n",
      "        Node.load_bulk(documents, projectNode)\n",
      "print(time() - t0)"
     ],
     "language": "python",
     "metadata": {},
     "outputs": []
    },
    {
     "cell_type": "code",
     "collapsed": false,
     "input": [
      "for node in Node.objects.all():\n",
      "    print(node.name)"
     ],
     "language": "python",
     "metadata": {},
     "outputs": [],
     "prompt_number": 37
    },
    {
     "cell_type": "markdown",
     "metadata": {},
     "source": []
    }
   ],
   "metadata": {}
  }
 ]
}