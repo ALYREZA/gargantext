{
 "metadata": {
  "name": "",
  "signature": "sha256:3f50b37062cddfbe31615a30e24c87da3b196cf7a8ee08a57c80ab210e8bd205"
 },
 "nbformat": 3,
 "nbformat_minor": 0,
 "worksheets": [
  {
   "cells": [
    {
     "cell_type": "code",
     "collapsed": false,
     "input": [
      "from node.models import Node, Ngram, Node_Ngram, NodeType, NodeNgramNgram\n",
      "from django.contrib.auth.models import User"
     ],
     "language": "python",
     "metadata": {},
     "outputs": [],
     "prompt_number": 1
    },
    {
     "cell_type": "code",
     "collapsed": false,
     "input": [
      "user = User.objects.get(username='alexandre')"
     ],
     "language": "python",
     "metadata": {},
     "outputs": [],
     "prompt_number": 3
    },
    {
     "cell_type": "code",
     "collapsed": false,
     "input": [
      "corpus = Node.objects.get(name='PubMed')"
     ],
     "language": "python",
     "metadata": {},
     "outputs": [],
     "prompt_number": 4
    },
    {
     "cell_type": "markdown",
     "metadata": {},
     "source": [
      "# Cr\u00e9ation des Listes"
     ]
    },
    {
     "cell_type": "code",
     "collapsed": false,
     "input": [
      "whitelist_type  = NodeType.objects.get(name='WhiteList')\n",
      "blacklist_type = NodeType.objects.get(name='BlackList')\n",
      "\n",
      "white_node = Node.objects.create(name='WhiteList Pubmed', user=user, parent=corpus, type=whitelist_type)\n",
      "black_node = Node.objects.create(name='BlackList Pubmed', user=user, parent=corpus, type=blacklist_type)"
     ],
     "language": "python",
     "metadata": {},
     "outputs": [],
     "prompt_number": 2
    },
    {
     "cell_type": "markdown",
     "metadata": {},
     "source": [
      "# Cr\u00e9ation de la white list"
     ]
    },
    {
     "cell_type": "code",
     "collapsed": false,
     "input": [
      "with transaction.atomic():\n",
      "    for node_ngram_object in Node_Ngram.objects.all()[:100]:\n",
      "        Node_Ngram.objects.create(node=white_node, ngram=node_ngram_object.ngram, occurences=1)"
     ],
     "language": "python",
     "metadata": {},
     "outputs": [],
     "prompt_number": 6
    },
    {
     "cell_type": "code",
     "collapsed": false,
     "input": [
      "Node_Ngram.objects.filter(node=white_node)"
     ],
     "language": "python",
     "metadata": {},
     "outputs": [
      {
       "metadata": {},
       "output_type": "pyout",
       "prompt_number": 9,
       "text": [
        "[<Node_Ngram: WhiteList Pubmed: information>, <Node_Ngram: WhiteList Pubmed: agricultural species>, <Node_Ngram: WhiteList Pubmed: number>, <Node_Ngram: WhiteList Pubmed: onset>, <Node_Ngram: WhiteList Pubmed: process>, <Node_Ngram: WhiteList Pubmed: relationship>, <Node_Ngram: WhiteList Pubmed: health>, <Node_Ngram: WhiteList Pubmed: \" possible>, <Node_Ngram: WhiteList Pubmed: \" neonicotinoid>, <Node_Ngram: WhiteList Pubmed: criteria>, <Node_Ngram: WhiteList Pubmed: several candidate causes>, <Node_Ngram: WhiteList Pubmed: effort>, <Node_Ngram: WhiteList Pubmed: research>, <Node_Ngram: WhiteList Pubmed: full causal analysis>, <Node_Ngram: WhiteList Pubmed: formal causal analysis approach>, <Node_Ngram: WhiteList Pubmed: article>, <Node_Ngram: WhiteList Pubmed: \" probable>, <Node_Ngram: WhiteList Pubmed: contributing factor>, <Node_Ngram: WhiteList Pubmed: colony collapse disorder>, <Node_Ngram: WhiteList Pubmed: apis mellifera>, '...(remaining elements truncated)...']"
       ]
      }
     ],
     "prompt_number": 9
    },
    {
     "cell_type": "markdown",
     "metadata": {},
     "source": [
      "# Cr\u00e9ation de la black list"
     ]
    },
    {
     "cell_type": "code",
     "collapsed": false,
     "input": [
      "with transaction.atomic():\n",
      "    for node_ngram_object in Node_Ngram.objects.all()[101:150]:\n",
      "        Node_Ngram.objects.create(node=black_node, ngram=node_ngram_object.ngram, occurences=1)"
     ],
     "language": "python",
     "metadata": {},
     "outputs": [],
     "prompt_number": 10
    },
    {
     "cell_type": "code",
     "collapsed": false,
     "input": [
      "Node_Ngram.objects.filter(node=black_node)"
     ],
     "language": "python",
     "metadata": {},
     "outputs": [
      {
       "metadata": {},
       "output_type": "pyout",
       "prompt_number": 12,
       "text": [
        "[<Node_Ngram: BlackList Pubmed: complete cessation>, <Node_Ngram: BlackList Pubmed: bee viruses>, <Node_Ngram: BlackList Pubmed: honey bee colonies>, <Node_Ngram: BlackList Pubmed: virus resistance>, <Node_Ngram: BlackList Pubmed: several honey bee viruses>, <Node_Ngram: BlackList Pubmed: experimental protocol>, <Node_Ngram: BlackList Pubmed: triggers>, <Node_Ngram: BlackList Pubmed: rna viruses>, <Node_Ngram: BlackList Pubmed: molecular pattern>, <Node_Ngram: BlackList Pubmed: correlates>, <Node_Ngram: BlackList Pubmed: honey bees>, <Node_Ngram: BlackList Pubmed: ccd>, <Node_Ngram: BlackList Pubmed: colonies>, <Node_Ngram: BlackList Pubmed: pathogens>, <Node_Ngram: BlackList Pubmed: viral pathogen>, <Node_Ngram: BlackList Pubmed: numerous agricultural crops>, <Node_Ngram: BlackList Pubmed: our results>, <Node_Ngram: BlackList Pubmed: infection>, <Node_Ngram: BlackList Pubmed: administration>, <Node_Ngram: BlackList Pubmed: work>, '...(remaining elements truncated)...']"
       ]
      }
     ],
     "prompt_number": 12
    },
    {
     "cell_type": "markdown",
     "metadata": {},
     "source": [
      "# Cr\u00e9ation des syonymes"
     ]
    },
    {
     "cell_type": "code",
     "collapsed": false,
     "input": [
      "syno_type  = NodeType.objects.get(name='Synonyme')\n",
      "syno_node = Node.objects.create(name='Syno Pubmed',\n",
      "                                user=user, \n",
      "                                parent=corpus, \n",
      "                                type=syno_type)"
     ],
     "language": "python",
     "metadata": {},
     "outputs": [],
     "prompt_number": 13
    },
    {
     "cell_type": "code",
     "collapsed": false,
     "input": [
      "synonyme1, synonyme2 = Node_Ngram.objects.filter(node=white_node)[3:5]"
     ],
     "language": "python",
     "metadata": {},
     "outputs": [],
     "prompt_number": 23
    },
    {
     "cell_type": "code",
     "collapsed": false,
     "input": [
      "NodeNgramNgram.objects.create(node=syno_node, ngramX=synonyme1.ngram, ngramY=synonyme2.ngram)"
     ],
     "language": "python",
     "metadata": {},
     "outputs": [
      {
       "metadata": {},
       "output_type": "pyout",
       "prompt_number": 24,
       "text": [
        "<NodeNgramNgram: Syno Pubmed: onset / process>"
       ]
      }
     ],
     "prompt_number": 24
    },
    {
     "cell_type": "markdown",
     "metadata": {},
     "source": [
      "# Cooccurrence"
     ]
    },
    {
     "cell_type": "code",
     "collapsed": false,
     "input": [
      "white_node.pk"
     ],
     "language": "python",
     "metadata": {},
     "outputs": [
      {
       "metadata": {},
       "output_type": "pyout",
       "prompt_number": 25,
       "text": [
        "173"
       ]
      }
     ],
     "prompt_number": 25
    },
    {
     "cell_type": "code",
     "collapsed": false,
     "input": [],
     "language": "python",
     "metadata": {},
     "outputs": []
    }
   ],
   "metadata": {}
  }
 ]
}