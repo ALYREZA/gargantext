{
 "metadata": {
  "name": "",
  "signature": "sha256:3aa99b3a5a0527a5523d2403fd5cf088cce4d65eab097f9d7ef3d2ee734d434d"
 },
 "nbformat": 3,
 "nbformat_minor": 0,
 "worksheets": [
  {
   "cells": [
    {
     "cell_type": "code",
     "collapsed": false,
     "input": [
      "cd .."
     ],
     "language": "python",
     "metadata": {},
     "outputs": [
      {
       "output_type": "stream",
       "stream": "stdout",
       "text": [
        "/home/alexandre/projets/gargantext.py\n"
       ]
      }
     ],
     "prompt_number": 2
    },
    {
     "cell_type": "code",
     "collapsed": false,
     "input": [
      "import gargantext"
     ],
     "language": "python",
     "metadata": {},
     "outputs": [],
     "prompt_number": 3
    },
    {
     "cell_type": "code",
     "collapsed": false,
     "input": [
      "cd gargantext_web/"
     ],
     "language": "python",
     "metadata": {},
     "outputs": [
      {
       "output_type": "stream",
       "stream": "stdout",
       "text": [
        "/home/alexandre/projets/gargantext.py/gargantext_web\n"
       ]
      }
     ],
     "prompt_number": 4
    },
    {
     "cell_type": "code",
     "collapsed": false,
     "input": [
      "import documents"
     ],
     "language": "python",
     "metadata": {},
     "outputs": [],
     "prompt_number": 6
    },
    {
     "cell_type": "code",
     "collapsed": false,
     "input": [
      "c = gargantext.bdd.Europresse()"
     ],
     "language": "python",
     "metadata": {},
     "outputs": [],
     "prompt_number": 7
    },
    {
     "cell_type": "code",
     "collapsed": false,
     "input": [
      "c.add(\"/home/alexandre/projets/abeilles/documents/Europresse/html/\")"
     ],
     "language": "python",
     "metadata": {},
     "outputs": [],
     "prompt_number": 84
    },
    {
     "cell_type": "code",
     "collapsed": false,
     "input": [
      "d = documents.models.Document()"
     ],
     "language": "python",
     "metadata": {},
     "outputs": [],
     "prompt_number": 29
    },
    {
     "cell_type": "code",
     "collapsed": false,
     "input": [
      "projects = documents.models.Project()"
     ],
     "language": "python",
     "metadata": {},
     "outputs": [],
     "prompt_number": 10
    },
    {
     "cell_type": "code",
     "collapsed": false,
     "input": [
      "projects.objects.all()"
     ],
     "language": "python",
     "metadata": {},
     "outputs": [
      {
       "ename": "AttributeError",
       "evalue": "Manager isn't accessible via Project instances",
       "output_type": "pyerr",
       "traceback": [
        "\u001b[1;31m---------------------------------------------------------------------------\u001b[0m\n\u001b[1;31mAttributeError\u001b[0m                            Traceback (most recent call last)",
        "\u001b[1;32m<ipython-input-12-ef530b34c441>\u001b[0m in \u001b[0;36m<module>\u001b[1;34m()\u001b[0m\n\u001b[1;32m----> 1\u001b[1;33m \u001b[0mprojects\u001b[0m\u001b[1;33m.\u001b[0m\u001b[0mobjects\u001b[0m\u001b[1;33m.\u001b[0m\u001b[0mall\u001b[0m\u001b[1;33m(\u001b[0m\u001b[1;33m)\u001b[0m\u001b[1;33m\u001b[0m\u001b[0m\n\u001b[0m",
        "\u001b[1;32m/home/alexandre/projets/gargantext.py/env/lib/python3.4/site-packages/django/db/models/manager.py\u001b[0m in \u001b[0;36m__get__\u001b[1;34m(self, instance, type)\u001b[0m\n\u001b[0;32m    247\u001b[0m     \u001b[1;32mdef\u001b[0m \u001b[0m__get__\u001b[0m\u001b[1;33m(\u001b[0m\u001b[0mself\u001b[0m\u001b[1;33m,\u001b[0m \u001b[0minstance\u001b[0m\u001b[1;33m,\u001b[0m \u001b[0mtype\u001b[0m\u001b[1;33m=\u001b[0m\u001b[1;32mNone\u001b[0m\u001b[1;33m)\u001b[0m\u001b[1;33m:\u001b[0m\u001b[1;33m\u001b[0m\u001b[0m\n\u001b[0;32m    248\u001b[0m         \u001b[1;32mif\u001b[0m \u001b[0minstance\u001b[0m \u001b[1;33m!=\u001b[0m \u001b[1;32mNone\u001b[0m\u001b[1;33m:\u001b[0m\u001b[1;33m\u001b[0m\u001b[0m\n\u001b[1;32m--> 249\u001b[1;33m             \u001b[1;32mraise\u001b[0m \u001b[0mAttributeError\u001b[0m\u001b[1;33m(\u001b[0m\u001b[1;34m\"Manager isn't accessible via %s instances\"\u001b[0m \u001b[1;33m%\u001b[0m \u001b[0mtype\u001b[0m\u001b[1;33m.\u001b[0m\u001b[0m__name__\u001b[0m\u001b[1;33m)\u001b[0m\u001b[1;33m\u001b[0m\u001b[0m\n\u001b[0m\u001b[0;32m    250\u001b[0m         \u001b[1;32mreturn\u001b[0m \u001b[0mself\u001b[0m\u001b[1;33m.\u001b[0m\u001b[0mmanager\u001b[0m\u001b[1;33m\u001b[0m\u001b[0m\n\u001b[0;32m    251\u001b[0m \u001b[1;33m\u001b[0m\u001b[0m\n",
        "\u001b[1;31mAttributeError\u001b[0m: Manager isn't accessible via Project instances"
       ]
      }
     ],
     "prompt_number": 12
    },
    {
     "cell_type": "code",
     "collapsed": false,
     "input": [
      "d.project_id = \"1\"\n",
      "d.corpus_id = \"1\"\n",
      "d.analyst_id = \"1\"\n",
      "d.title = \"Notebook test\""
     ],
     "language": "python",
     "metadata": {},
     "outputs": [],
     "prompt_number": 17
    },
    {
     "cell_type": "code",
     "collapsed": false,
     "input": [
      "d.save()"
     ],
     "language": "python",
     "metadata": {},
     "outputs": [],
     "prompt_number": 18
    },
    {
     "cell_type": "code",
     "collapsed": false,
     "input": [
      "documents.models.Project.objects.all()"
     ],
     "language": "python",
     "metadata": {},
     "outputs": [
      {
       "metadata": {},
       "output_type": "pyout",
       "prompt_number": 20,
       "text": [
        "[<Project: Fukushima>, <Project: Bees are dying ?>]"
       ]
      }
     ],
     "prompt_number": 20
    },
    {
     "cell_type": "code",
     "collapsed": false,
     "input": [
      "x = documents.models.Document.objects.all().filter(title='sdf')"
     ],
     "language": "python",
     "metadata": {},
     "outputs": [],
     "prompt_number": 23
    },
    {
     "cell_type": "code",
     "collapsed": false,
     "input": [
      "x.delete()"
     ],
     "language": "python",
     "metadata": {},
     "outputs": [],
     "prompt_number": 24
    },
    {
     "cell_type": "code",
     "collapsed": false,
     "input": [
      "documents.models.Document.objects.all()"
     ],
     "language": "python",
     "metadata": {},
     "outputs": [
      {
       "metadata": {},
       "output_type": "pyout",
       "prompt_number": 25,
       "text": [
        "[<Document: Notebook test>, <Document: Titre d'un article>]"
       ]
      }
     ],
     "prompt_number": 25
    },
    {
     "cell_type": "code",
     "collapsed": false,
     "input": [
      "for doc in c:\n",
      "    d = documents.models.Document()\n",
      "    d.project_id = \"1\"\n",
      "    d.corpus_id = \"1\"\n",
      "    d.analyst_id = \"1\"\n",
      "    try:\n",
      "        d.uniqu_id = doc[\"object_id\"]\n",
      "        d.date = doc[\"date\"]\n",
      "        d.title = doc[\"title\"]\n",
      "        d.authors = doc[\"authors\"]\n",
      "        d.text = doc[\"text\"]\n",
      "        d.source = doc[\"source\"]\n",
      "        d.save()\n",
      "    except:\n",
      "        pass"
     ],
     "language": "python",
     "metadata": {},
     "outputs": [],
     "prompt_number": 88
    },
    {
     "cell_type": "code",
     "collapsed": false,
     "input": [
      "c[0]"
     ],
     "language": "python",
     "metadata": {},
     "outputs": [
      {
       "metadata": {},
       "output_type": "pyout",
       "prompt_number": 32,
       "text": [
        "{'title': b'Gaucho : un dirigeant de Bayer chez le juge',\n",
        " 'volume': 'no. 17807',\n",
        " 'object_id': 'news\u00b720011109\u00b7LF\u00b7178071006',\n",
        " 'authors': 'not found',\n",
        " 'source': 'Le Figaro',\n",
        " 'page': b'10',\n",
        " 'url': '',\n",
        " 'text': \"Le Figaro, no. 17807 FRANCE; SOCIETE ENVIRONNEMENT Les apiculteurs r\u00e9clament le retrait du  pesticide Gaucho : un dirigeant de Bayer chez le juge Marie-Christine TABET, Yves MISEREY M\u00e9fiez-vous des  abeilles  ! La semaine derni\u00e8re le groupe Bayer a pris toute la mesure de l'avertissement. Le directeur g\u00e9n\u00e9ral de Bayer SA a, en effet, d\u00fb se rendre au p\u00f4le judiciaire financier chez le juge Guy Ripoll, rue des Italiens \u00e0 Paris, pour r\u00e9pondre aux questions du magistrat sur le Gaucho, un  insecticide  commercialis\u00e9 par la firme. Car l'Union nationale de l'apiculture fran\u00e7aise (Unaf) et plusieurs centaines d'apiculteurs en leur nom propre ont d\u00e9pos\u00e9 plainte, le 13 avril dernier, pour tromperie sur les qualit\u00e9s du produit et obtention de l'Etat d'avantages indus par fourniture de renseignements inexacts ou incomplets. En clair : escroquerie. Le bras de fer auquel se livrent apiculteurs et industriels depuis plusieurs ann\u00e9es au sujet de ce produit conna\u00eet aujourd'hui des d\u00e9veloppements judiciaires et p\u00e9naux. A l'origine ? La mortalit\u00e9 exceptionnelle des  abeilles  fran\u00e7aises depuis le d\u00e9but des ann\u00e9es 90. Selon les professionnels, un tiers du cheptel apicole fran\u00e7ais a disparu en quelques ann\u00e9es, mettant ainsi en p\u00e9ril l'activit\u00e9 de toute la fili\u00e8re. Pour les apiculteurs, le coupable est un \u00ab tueur en s\u00e9rie \u00bb de type phytosanitaire utilis\u00e9 massivement dans les zones de grandes cultures. Depuis ce constat, ils n'ont de cesse de demander au ministre de l'Agriculture de suspendre l'utilisation du produit \u00ab criminel \u00bb. En vain. Ils n'ont obtenu pour l'instant que la suspension de l'usage de ce produit sur le tournesol, depuis le 22 janvier 1999 et pour trois ans, alors qu'ils attendaient purement et simplement son retrait du march\u00e9. Bayer, principal producteur fran\u00e7ais de la mol\u00e9cule contenue dans le Gaucho, imidaclopride, r\u00e9cuse ces accusations. \u00ab Nous ne nions pas les probl\u00e8mes des ruchers, explique l'avocat de Bayer, Olivier Baratelli, mais les causes sont multiples et on ne peut pas d\u00e9cemment incriminer le Gaucho. \u00bb Et pour cause. La suspension de l'utilisation du Gaucho sur le seul tournesol p\u00e9nalise fortement l'entreprise, qui perd annuellement 30 MF depuis cette d\u00e9cision. Depuis 1996, les deux camps se battaient \u00e0 coups d'\u00e9tudes scientifiques et de seuils de dosage. Plus de 16 millions de francs de fonds europ\u00e9ens ont \u00e9t\u00e9 consacr\u00e9s au financement d'expertises contradictoires. Sans que chercheurs et scientifiques r\u00e9ussissent \u00e0 se mettre d'accord sur la toxicit\u00e9 r\u00e9elle ou suppos\u00e9e du Gaucho et de sa mati\u00e8re active, l'imidaclopride, sur les  abeilles . Las de cette guerre des analyses, les apiculteurs ont choisi un angle d'attaque judiciaire et p\u00e9nale : la conformit\u00e9 de ce produit avec la r\u00e9glementation fran\u00e7aise et europ\u00e9enne. \u00ab Les caract\u00e9ristiques du produit d\u00e9couvertes par les laboratoires ne correspondent pas \u00e0 ce qui \u00e9tait exig\u00e9 au moment de l'obtention des autorisations de mise sur le march\u00e9, explique le conseil des apiculteurs, l'avocat Bernard Fau. Le produit est en effet pr\u00e9sent au moment de la floraison et sa r\u00e9manence dans le sol est trois ou quatre fois sup\u00e9rieure au seuil autoris\u00e9. On peut s'interroger sur les raisons de cette inad\u00e9quation. Les pouvoirs publics ont-ils dispos\u00e9 de toutes les pi\u00e8ces pour arr\u00eater leur d\u00e9cision ? \u00bb Bayer, convoqu\u00e9 comme t\u00e9moin chez le juge, en est reparti avec une longue liste de questions. \u00ab Nous avons demand\u00e9 \u00e0 \u00eatre entendus comme t\u00e9moins assist\u00e9s, confie l'avocat de Bayer, Olivier Baratelli, pour avoir acc\u00e8s au dossier. Les parties civiles n'ont pas \u00e9t\u00e9 tr\u00e8s fair-play, nous avons appris chez le magistrat qu'elles avaient \u00e9galement introduit une requ\u00eate devant le Conseil d'Etat pour obtenir au final le retrait de notre produit pour l'ensemble des cultures. \u00bb Force est de constater qu'industriels et apiculteurs sont aujourd'hui \u00e0 couteaux tir\u00e9s. Bayer a, de son c\u00f4t\u00e9, assign\u00e9 trois apiculteurs pour diffamation. Rumeurs diverses et vari\u00e9es circulent chez les adversaires : pots-de-vin, lobbying, comportements mafieux, manipulations politiques... les suspicions vont bon train. Dans les services du minist\u00e8re de l'Agriculture, on condamne \u00ab la nervosit\u00e9 et la passion \u00bb qui animent leurs interlocuteurs : \u00ab Nous avons re\u00e7u plus de 150 courriers parlementaires sur le sujet. \u00bb Les services de l'Etat doivent reconduire \u00e0 la fin de l'ann\u00e9e les homologations de mise sur le march\u00e9. Seront-ils \u00e0 leur tour convoqu\u00e9s chez le juge d'ici l\u00e0 ? Pour l'instant, le minist\u00e8re de l'Agriculture ne dispose gu\u00e8re d'\u00e9l\u00e9ments nouveaux sur le dossier, hormis une \u00e9tude multifactorielle boycott\u00e9e par l'ensemble des syndicats apicoles dont les premiers r\u00e9sultats ne devraient pas \u00eatre connus avant 2003. M\u00e9fiez-vous des  abeilles . M.-C. T. Encadr\u00e9(s) :  Des expertises, pas de conclusions... \u00ab Trois ann\u00e9es d'\u00e9tudes pluridisciplinaires conduites par divers organismes publics, techniques ou priv\u00e9s, n'ont pas permis aux autorit\u00e9s de conclure si le Gaucho \u00e9tait l'ennemi des  abeilles  \u00bb, constate Minh H\u00e0 Pham Del\u00e8gue, directrice de recherche \u00e0 l'Institut national de la recherche agricole (Inra), dans le dernier num\u00e9ro de La Recherche. Au train o\u00f9 vont les choses, on peut se demander si la spirale de l'expertise s'arr\u00eatera un jour. C'est f\u00e2cheux. Car, en France, les  abeilles  p\u00e9rissent en grand nombre dans des zones o\u00f9 le Gaucho n'est pas \u00e9pandu. Le varroa, un acarien parasite d'origine sib\u00e9rienne arriv\u00e9 en France en 1982 et ayant envahi l'ensemble du pays cinq ans plus tard, fait des ravages consid\u00e9rables sur de nombreuses ruches. Mais ce n'est pas le seul ennemi. \u00ab Les  abeilles  souffrent surtout d'une interaction entre les pathog\u00e8nes et les  pesticides  \u00bb, constate Yves Le Conte, directeur de recherche \u00e0 l'Inra (Avignon). Et elles ne jouissent pas de l'attention dont elles b\u00e9n\u00e9ficient en Europe centrale. Or ces petits insectes sont tr\u00e8s fragiles : il suffit qu'un agriculteur \u00e9pande un  insecticide  toxique en p\u00e9riode de floraison sans respecter les recommandations pour provoquer une catastrophe. Et il s'en produit trop souvent. Pour sortir de l'\u00ab orni\u00e8re du Gaucho \u00bb, l'antenne de Sophia Antipolis de l'Agence fran\u00e7aise de s\u00e9curit\u00e9 sanitaire des aliments et le laboratoire de l'Inra d'Avignon ont d\u00e9cid\u00e9 de cr\u00e9er un r\u00e9seau d'information sur les  abeilles . Une heureuse initiative. Y. M. \u00a9 2001 Le Figaro. \",\n",
        " 'bdd': 'europresse',\n",
        " 'date': datetime.datetime(2001, 11, 9, 0, 0)}"
       ]
      }
     ],
     "prompt_number": 32
    },
    {
     "cell_type": "code",
     "collapsed": false,
     "input": [
      "documents.models.Document.objects.raw('select count(*),source from documents_document group by source;'):"
     ],
     "language": "python",
     "metadata": {},
     "outputs": [
      {
       "ename": "InvalidQuery",
       "evalue": "Raw query must include the primary key",
       "output_type": "pyerr",
       "traceback": [
        "\u001b[1;31m---------------------------------------------------------------------------\u001b[0m\n\u001b[1;31mInvalidQuery\u001b[0m                              Traceback (most recent call last)",
        "\u001b[1;32m<ipython-input-45-5495b08ea061>\u001b[0m in \u001b[0;36m<module>\u001b[1;34m()\u001b[0m\n\u001b[1;32m----> 1\u001b[1;33m \u001b[1;32mfor\u001b[0m \u001b[0mp\u001b[0m \u001b[1;32min\u001b[0m \u001b[0mdocuments\u001b[0m\u001b[1;33m.\u001b[0m\u001b[0mmodels\u001b[0m\u001b[1;33m.\u001b[0m\u001b[0mDocument\u001b[0m\u001b[1;33m.\u001b[0m\u001b[0mobjects\u001b[0m\u001b[1;33m.\u001b[0m\u001b[0mraw\u001b[0m\u001b[1;33m(\u001b[0m\u001b[1;34m'select count(*),source from documents_document group by source;'\u001b[0m\u001b[1;33m)\u001b[0m\u001b[1;33m:\u001b[0m\u001b[1;33m\u001b[0m\u001b[0m\n\u001b[0m\u001b[0;32m      2\u001b[0m     \u001b[0mprint\u001b[0m\u001b[1;33m(\u001b[0m\u001b[0mp\u001b[0m\u001b[1;33m)\u001b[0m\u001b[1;33m\u001b[0m\u001b[0m\n",
        "\u001b[1;32m/home/alexandre/projets/gargantext.py/env/lib/python3.4/site-packages/django/db/models/query.py\u001b[0m in \u001b[0;36m__iter__\u001b[1;34m(self)\u001b[0m\n\u001b[0;32m   1413\u001b[0m         \u001b[1;32mif\u001b[0m \u001b[0mskip\u001b[0m\u001b[1;33m:\u001b[0m\u001b[1;33m\u001b[0m\u001b[0m\n\u001b[0;32m   1414\u001b[0m             \u001b[1;32mif\u001b[0m \u001b[0mself\u001b[0m\u001b[1;33m.\u001b[0m\u001b[0mmodel\u001b[0m\u001b[1;33m.\u001b[0m\u001b[0m_meta\u001b[0m\u001b[1;33m.\u001b[0m\u001b[0mpk\u001b[0m\u001b[1;33m.\u001b[0m\u001b[0mattname\u001b[0m \u001b[1;32min\u001b[0m \u001b[0mskip\u001b[0m\u001b[1;33m:\u001b[0m\u001b[1;33m\u001b[0m\u001b[0m\n\u001b[1;32m-> 1415\u001b[1;33m                 \u001b[1;32mraise\u001b[0m \u001b[0mInvalidQuery\u001b[0m\u001b[1;33m(\u001b[0m\u001b[1;34m'Raw query must include the primary key'\u001b[0m\u001b[1;33m)\u001b[0m\u001b[1;33m\u001b[0m\u001b[0m\n\u001b[0m\u001b[0;32m   1416\u001b[0m             \u001b[0mmodel_cls\u001b[0m \u001b[1;33m=\u001b[0m \u001b[0mdeferred_class_factory\u001b[0m\u001b[1;33m(\u001b[0m\u001b[0mself\u001b[0m\u001b[1;33m.\u001b[0m\u001b[0mmodel\u001b[0m\u001b[1;33m,\u001b[0m \u001b[0mskip\u001b[0m\u001b[1;33m)\u001b[0m\u001b[1;33m\u001b[0m\u001b[0m\n\u001b[0;32m   1417\u001b[0m         \u001b[1;32melse\u001b[0m\u001b[1;33m:\u001b[0m\u001b[1;33m\u001b[0m\u001b[0m\n",
        "\u001b[1;31mInvalidQuery\u001b[0m: Raw query must include the primary key"
       ]
      }
     ],
     "prompt_number": 45
    },
    {
     "cell_type": "code",
     "collapsed": false,
     "input": [
      "from itertools import *\n",
      "from django.db import connection\n",
      "\n",
      "def query_to_dicts(query_string, *query_args):\n",
      "    \"\"\"Run a simple query and produce a generator\n",
      "    that returns the results as a bunch of dictionaries\n",
      "    with keys for the column values selected.\n",
      "    \"\"\"\n",
      "    cursor = connection.cursor()\n",
      "    cursor.execute(query_string, query_args)\n",
      "    col_names = [desc[0] for desc in cursor.description]\n",
      "    while True:\n",
      "        row = cursor.fetchone()\n",
      "        if row is None:\n",
      "            break\n",
      "        row_dict = dict(zip(col_names, row))\n",
      "        yield row_dict\n",
      "    return"
     ],
     "language": "python",
     "metadata": {},
     "outputs": [],
     "prompt_number": 81
    },
    {
     "cell_type": "code",
     "collapsed": false,
     "input": [
      "result = query_to_dicts('''select count(*),source \n",
      "                        from documents_document\n",
      "                        where project_id = %d\n",
      "                        group by source\n",
      "                        order by 1 DESC limit 9;''' % 1)\n",
      "\n",
      "for i in result:\n",
      "    print(i)"
     ],
     "language": "python",
     "metadata": {},
     "outputs": [
      {
       "output_type": "stream",
       "stream": "stdout",
       "text": [
        "{'count': 34, 'source': 'Sud Ouest'}\n",
        "{'count': 26, 'source': 'Le Progr\u00e8s - Lyon'}\n",
        "{'count': 9, 'source': 'Le Figaro'}\n",
        "{'count': 9, 'source': 'AFP Infos Fran\u00e7aises'}\n",
        "{'count': 8, 'source': 'Les Echos'}\n",
        "{'count': 8, 'source': 'Le Monde'}\n",
        "{'count': 6, 'source': 'Le Parisien'}\n",
        "{'count': 5, 'source': 'Le T\u00e9l\u00e9gramme (Bretagne)'}\n",
        "{'count': 4, 'source': 'La Presse'}\n"
       ]
      }
     ],
     "prompt_number": 82
    },
    {
     "cell_type": "code",
     "collapsed": false,
     "input": [],
     "language": "python",
     "metadata": {},
     "outputs": [],
     "prompt_number": 78
    },
    {
     "cell_type": "code",
     "collapsed": false,
     "input": [
      "result = query_to_dicts('''select to_char(date, 'YYYY-MM'), count(*) \n",
      "                        from documents_document\n",
      "                        group by to_char(date, 'YYYY-MM')\n",
      "                        order by 1 DESC;''')\n",
      "for i in result:\n",
      "    print(i)"
     ],
     "language": "python",
     "metadata": {},
     "outputs": [
      {
       "output_type": "stream",
       "stream": "stdout",
       "text": [
        "{'to_char': '2001-12', 'count': 9}\n",
        "{'to_char': '2001-11', 'count': 10}\n",
        "{'to_char': '2001-10', 'count': 2}\n",
        "{'to_char': '2001-09', 'count': 10}\n",
        "{'to_char': '2001-08', 'count': 36}\n",
        "{'to_char': '2001-07', 'count': 15}\n",
        "{'to_char': '2001-06', 'count': 12}\n",
        "{'to_char': '2001-05', 'count': 13}\n",
        "{'to_char': '2001-04', 'count': 13}\n",
        "{'to_char': '2001-03', 'count': 16}\n",
        "{'to_char': '2001-02', 'count': 14}\n",
        "{'to_char': '2001-01', 'count': 4}\n"
       ]
      }
     ],
     "prompt_number": 61
    },
    {
     "cell_type": "code",
     "collapsed": false,
     "input": [
      "result = query_to_dicts('''select to_char(date, 'YYYY'), count(*) \n",
      "                        from documents_document \n",
      "                        group by to_char(date, 'YYYY')\n",
      "                        order by 1 DESC;''')\n",
      "for i in result:\n",
      "    print(i)"
     ],
     "language": "python",
     "metadata": {},
     "outputs": [
      {
       "output_type": "stream",
       "stream": "stdout",
       "text": [
        "{'to_char': '2001', 'count': 154}\n"
       ]
      }
     ],
     "prompt_number": 62
    },
    {
     "cell_type": "code",
     "collapsed": false,
     "input": [
      "result = query_to_dicts('''select to_char(date, 'YYYY-MM'), count(*) \n",
      "                        from documents_document \n",
      "                        group by to_char(date, 'YYYY-MM')\n",
      "                        order by 1 DESC;''')\n",
      "for i in result:\n",
      "    print(i)"
     ],
     "language": "python",
     "metadata": {},
     "outputs": [
      {
       "output_type": "stream",
       "stream": "stdout",
       "text": [
        "{'to_char': '2001-12', 'count': 9}\n",
        "{'to_char': '2001-11', 'count': 10}\n",
        "{'to_char': '2001-10', 'count': 2}\n",
        "{'to_char': '2001-09', 'count': 10}\n",
        "{'to_char': '2001-08', 'count': 36}\n",
        "{'to_char': '2001-07', 'count': 15}\n",
        "{'to_char': '2001-06', 'count': 12}\n",
        "{'to_char': '2001-05', 'count': 13}\n",
        "{'to_char': '2001-04', 'count': 13}\n",
        "{'to_char': '2001-03', 'count': 16}\n",
        "{'to_char': '2001-02', 'count': 14}\n",
        "{'to_char': '2001-01', 'count': 4}\n"
       ]
      }
     ],
     "prompt_number": 83
    },
    {
     "cell_type": "code",
     "collapsed": false,
     "input": [],
     "language": "python",
     "metadata": {},
     "outputs": [],
     "prompt_number": 91
    },
    {
     "cell_type": "code",
     "collapsed": false,
     "input": [],
     "language": "python",
     "metadata": {},
     "outputs": []
    }
   ],
   "metadata": {}
  }
 ]
}