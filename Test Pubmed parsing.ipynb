{
 "metadata": {
  "name": "",
  "signature": "sha256:0acf5fbcb496d74a2d9016459305d1064eb9955ccb3380a26a1d183784e57f49"
 },
 "nbformat": 3,
 "nbformat_minor": 0,
 "worksheets": [
  {
   "cells": [
    {
     "cell_type": "code",
     "collapsed": false,
     "input": [
      "from pprint import pprint\n",
      "from node.models import Node, NodeType, Language, Ngram\n",
      "from django.contrib.auth.models import User\n",
      "import parsing\n",
      "from parsing.FileParsers import *"
     ],
     "language": "python",
     "metadata": {},
     "outputs": [],
     "prompt_number": 1
    },
    {
     "cell_type": "code",
     "collapsed": false,
     "input": [
      "# Define user\n",
      "try:\n",
      "    user = User.objects.get(username='Mat')\n",
      "except:\n",
      "    user = User(username='Mat', password='0123', email='mathieu@rodic.fr')\n",
      "    user.save()\n",
      "\n",
      "# Define document types\n",
      "nodetypes = {}\n",
      "for name in ['Corpus', 'Document']:\n",
      "    try:\n",
      "        nodetypes[name] = NodeType.objects.get(name=name)\n",
      "    except:\n",
      "        nodetypes[name] = NodeType(name=name)\n",
      "        nodetypes[name].save()"
     ],
     "language": "python",
     "metadata": {},
     "outputs": [],
     "prompt_number": 2
    },
    {
     "cell_type": "code",
     "collapsed": false,
     "input": [
      "Node.objects.all().delete()\n",
      "corpus = Node(name='PubMed corpus', user=user, type=nodetypes['Corpus'])\n",
      "corpus.save()"
     ],
     "language": "python",
     "metadata": {},
     "outputs": [],
     "prompt_number": 3
    },
    {
     "cell_type": "code",
     "collapsed": false,
     "input": [
      "fileparser = PubmedFileParser(file='/home/mat/projects/gargantext/data_samples/pubmed.zip')"
     ],
     "language": "python",
     "metadata": {},
     "outputs": [],
     "prompt_number": 4
    },
    {
     "cell_type": "code",
     "collapsed": false,
     "input": [
      "fileparser.parse(corpus)\n",
      "print('Ok!')"
     ],
     "language": "python",
     "metadata": {},
     "outputs": [
      {
       "ename": "NameError",
       "evalue": "name 'language' is not defined",
       "output_type": "pyerr",
       "traceback": [
        "\u001b[1;31m---------------------------------------------------------------------------\u001b[0m\n\u001b[1;31mNameError\u001b[0m                                 Traceback (most recent call last)",
        "\u001b[1;32m<ipython-input-5-973a6eb3747b>\u001b[0m in \u001b[0;36m<module>\u001b[1;34m()\u001b[0m\n\u001b[1;32m----> 1\u001b[1;33m \u001b[0mfileparser\u001b[0m\u001b[1;33m.\u001b[0m\u001b[0mparse\u001b[0m\u001b[1;33m(\u001b[0m\u001b[0mcorpus\u001b[0m\u001b[1;33m)\u001b[0m\u001b[1;33m\u001b[0m\u001b[0m\n\u001b[0m\u001b[0;32m      2\u001b[0m \u001b[0mprint\u001b[0m\u001b[1;33m(\u001b[0m\u001b[1;34m'Ok!'\u001b[0m\u001b[1;33m)\u001b[0m\u001b[1;33m\u001b[0m\u001b[0m\n",
        "\u001b[1;32m/home/mat/projects/gargantext/gargantext/parsing/FileParsers/FileParser.py\u001b[0m in \u001b[0;36mparse\u001b[1;34m(self, parentNode, file)\u001b[0m\n\u001b[0;32m    127\u001b[0m             \u001b[1;32mwith\u001b[0m \u001b[0mzipfile\u001b[0m\u001b[1;33m.\u001b[0m\u001b[0mZipFile\u001b[0m\u001b[1;33m(\u001b[0m\u001b[0mfile\u001b[0m\u001b[1;33m)\u001b[0m \u001b[1;32mas\u001b[0m \u001b[0mzipArchive\u001b[0m\u001b[1;33m:\u001b[0m\u001b[1;33m\u001b[0m\u001b[0m\n\u001b[0;32m    128\u001b[0m                 \u001b[1;32mfor\u001b[0m \u001b[0mfilename\u001b[0m \u001b[1;32min\u001b[0m \u001b[0mzipArchive\u001b[0m\u001b[1;33m.\u001b[0m\u001b[0mnamelist\u001b[0m\u001b[1;33m(\u001b[0m\u001b[1;33m)\u001b[0m\u001b[1;33m:\u001b[0m\u001b[1;33m\u001b[0m\u001b[0m\n\u001b[1;32m--> 129\u001b[1;33m                     \u001b[0mself\u001b[0m\u001b[1;33m.\u001b[0m\u001b[0mparse\u001b[0m\u001b[1;33m(\u001b[0m\u001b[0mparentNode\u001b[0m\u001b[1;33m,\u001b[0m \u001b[0mzipArchive\u001b[0m\u001b[1;33m.\u001b[0m\u001b[0mopen\u001b[0m\u001b[1;33m(\u001b[0m\u001b[0mfilename\u001b[0m\u001b[1;33m,\u001b[0m \u001b[1;34m\"r\"\u001b[0m\u001b[1;33m)\u001b[0m\u001b[1;33m)\u001b[0m\u001b[1;33m\u001b[0m\u001b[0m\n\u001b[0m\u001b[0;32m    130\u001b[0m         \u001b[1;32melse\u001b[0m\u001b[1;33m:\u001b[0m\u001b[1;33m\u001b[0m\u001b[0m\n\u001b[0;32m    131\u001b[0m             \u001b[0mself\u001b[0m\u001b[1;33m.\u001b[0m\u001b[0m_parse\u001b[0m\u001b[1;33m(\u001b[0m\u001b[0mparentNode\u001b[0m\u001b[1;33m,\u001b[0m \u001b[0mfile\u001b[0m\u001b[1;33m)\u001b[0m\u001b[1;33m\u001b[0m\u001b[0m\n",
        "\u001b[1;32m/home/mat/projects/gargantext/gargantext/parsing/FileParsers/FileParser.py\u001b[0m in \u001b[0;36mparse\u001b[1;34m(self, parentNode, file)\u001b[0m\n\u001b[0;32m    129\u001b[0m                     \u001b[0mself\u001b[0m\u001b[1;33m.\u001b[0m\u001b[0mparse\u001b[0m\u001b[1;33m(\u001b[0m\u001b[0mparentNode\u001b[0m\u001b[1;33m,\u001b[0m \u001b[0mzipArchive\u001b[0m\u001b[1;33m.\u001b[0m\u001b[0mopen\u001b[0m\u001b[1;33m(\u001b[0m\u001b[0mfilename\u001b[0m\u001b[1;33m,\u001b[0m \u001b[1;34m\"r\"\u001b[0m\u001b[1;33m)\u001b[0m\u001b[1;33m)\u001b[0m\u001b[1;33m\u001b[0m\u001b[0m\n\u001b[0;32m    130\u001b[0m         \u001b[1;32melse\u001b[0m\u001b[1;33m:\u001b[0m\u001b[1;33m\u001b[0m\u001b[0m\n\u001b[1;32m--> 131\u001b[1;33m             \u001b[0mself\u001b[0m\u001b[1;33m.\u001b[0m\u001b[0m_parse\u001b[0m\u001b[1;33m(\u001b[0m\u001b[0mparentNode\u001b[0m\u001b[1;33m,\u001b[0m \u001b[0mfile\u001b[0m\u001b[1;33m)\u001b[0m\u001b[1;33m\u001b[0m\u001b[0m\n\u001b[0m\u001b[0;32m    132\u001b[0m \u001b[1;33m\u001b[0m\u001b[0m\n\u001b[0;32m    133\u001b[0m     \u001b[1;32mdef\u001b[0m \u001b[0mextract\u001b[0m\u001b[1;33m(\u001b[0m\u001b[0mself\u001b[0m\u001b[1;33m,\u001b[0m \u001b[0mparentNode\u001b[0m\u001b[1;33m,\u001b[0m \u001b[0mkeys\u001b[0m\u001b[1;33m)\u001b[0m\u001b[1;33m:\u001b[0m\u001b[1;33m\u001b[0m\u001b[0m\n",
        "\u001b[1;32m/home/mat/projects/gargantext/gargantext/parsing/FileParsers/PubmedFileParser.py\u001b[0m in \u001b[0;36m_parse\u001b[1;34m(self, parentNode, file)\u001b[0m\n\u001b[0;32m     40\u001b[0m                     \u001b[0mparentNode\u001b[0m  \u001b[1;33m=\u001b[0m \u001b[0mparentNode\u001b[0m\u001b[1;33m,\u001b[0m\u001b[1;33m\u001b[0m\u001b[0m\n\u001b[0;32m     41\u001b[0m                     \u001b[0mtitle\u001b[0m       \u001b[1;33m=\u001b[0m \u001b[0mmetadata\u001b[0m\u001b[1;33m[\u001b[0m\u001b[1;34m\"title\"\u001b[0m\u001b[1;33m]\u001b[0m\u001b[1;33m,\u001b[0m\u001b[1;33m\u001b[0m\u001b[0m\n\u001b[1;32m---> 42\u001b[1;33m                     \u001b[0mmetadata\u001b[0m    \u001b[1;33m=\u001b[0m \u001b[0mmetadata\u001b[0m\u001b[1;33m,\u001b[0m\u001b[1;33m\u001b[0m\u001b[0m\n\u001b[0m\u001b[0;32m     43\u001b[0m                     \u001b[1;31m#guid        = metadata[\"doi\"],\u001b[0m\u001b[1;33m\u001b[0m\u001b[1;33m\u001b[0m\u001b[0m\n\u001b[0;32m     44\u001b[0m                 )\n",
        "\u001b[1;32m/home/mat/projects/gargantext/gargantext/parsing/FileParsers/FileParser.py\u001b[0m in \u001b[0;36mcreate_document\u001b[1;34m(self, parentNode, title, metadata, guid)\u001b[0m\n\u001b[0;32m    100\u001b[0m             \u001b[0mtype\u001b[0m        \u001b[1;33m=\u001b[0m \u001b[0mself\u001b[0m\u001b[1;33m.\u001b[0m\u001b[0m_document_nodetype\u001b[0m\u001b[1;33m,\u001b[0m\u001b[1;33m\u001b[0m\u001b[0m\n\u001b[0;32m    101\u001b[0m             \u001b[0mname\u001b[0m        \u001b[1;33m=\u001b[0m \u001b[0mtitle\u001b[0m\u001b[1;33m,\u001b[0m\u001b[1;33m\u001b[0m\u001b[0m\n\u001b[1;32m--> 102\u001b[1;33m             \u001b[0mlanguage\u001b[0m    \u001b[1;33m=\u001b[0m \u001b[0mlanguage\u001b[0m\u001b[1;33m,\u001b[0m\u001b[1;33m\u001b[0m\u001b[0m\n\u001b[0m\u001b[0;32m    103\u001b[0m             \u001b[0mmetadata\u001b[0m    \u001b[1;33m=\u001b[0m \u001b[0mmetadata\u001b[0m\u001b[1;33m,\u001b[0m\u001b[1;33m\u001b[0m\u001b[0m\n\u001b[0;32m    104\u001b[0m             \u001b[1;31m#resource    = resource,\u001b[0m\u001b[1;33m\u001b[0m\u001b[1;33m\u001b[0m\u001b[0m\n",
        "\u001b[1;31mNameError\u001b[0m: name 'language' is not defined"
       ]
      }
     ],
     "prompt_number": 5
    },
    {
     "cell_type": "code",
     "collapsed": false,
     "input": [
      "for node_ngram in corpus.children.first().node_ngram_set.all():\n",
      "    print(node_ngram.ngram.terms)"
     ],
     "language": "python",
     "metadata": {},
     "outputs": [
      {
       "output_type": "stream",
       "stream": "stdout",
       "text": [
        "furthermore\n",
        "pathogen host shifts\n",
        "negative impact\n",
        "arthropod hosts\n",
        "tobacco ringspot\n",
        "common ancestor\n",
        "distinct lineage\n",
        "high mutation rates"
       ]
      },
      {
       "output_type": "stream",
       "stream": "stdout",
       "text": [
        "\n",
        "gradual decline\n",
        "present study\n",
        "animal kingdoms\n",
        "entire body\n",
        "bee hemolymph\n",
        "in\n",
        "humans"
       ]
      },
      {
       "output_type": "stream",
       "stream": "stdout",
       "text": [
        "\n",
        "tree topology\n",
        "infections\n",
        "health\n",
        "viruses\n",
        "result\n",
        "trsvs\n",
        "winter colony collapse\n",
        "bees"
       ]
      },
      {
       "output_type": "stream",
       "stream": "stdout",
       "text": [
        "\n",
        "domesticates\n",
        "unique example\n",
        "infected colonies\n",
        "host ranges\n",
        "systemic invasion\n",
        "varroa\n",
        "monophyletic clade\n",
        "honeybees"
       ]
      },
      {
       "output_type": "stream",
       "stream": "stdout",
       "text": [
        "\n",
        "diseases\n",
        "spread\n",
        "prevalence\n",
        "infectious diseases\n",
        "instances\n",
        "plant hosts\n",
        "phylogenetic analysis"
       ]
      },
      {
       "output_type": "stream",
       "stream": "stdout",
       "text": [
        "\n",
        "plant-pathogenic rna virus\n",
        "apis mellifera\n",
        "plant\n",
        "significant source\n",
        "transkingdom host alteration\n",
        "gastric cecum\n",
        "feed\n",
        "host populations\n",
        "threat\n",
        "varroa mites"
       ]
      },
      {
       "output_type": "stream",
       "stream": "stdout",
       "text": [
        "\n",
        "honeybee hosts\n",
        "ectoparasitic varroa\n",
        "virus\n",
        "colony survival\n",
        "intracellular life cycle\n",
        "species-level genetic variation\n",
        "other bee viruses\n",
        "study\n",
        "virions"
       ]
      },
      {
       "output_type": "stream",
       "stream": "stdout",
       "text": [
        "\n",
        "colonies\n",
        "rna viruses\n",
        "pathogenesis\n",
        "winter\n",
        "trsv\n",
        "conjunction\n",
        "trsv-infected individuals\n"
       ]
      }
     ],
     "prompt_number": 6
    },
    {
     "cell_type": "code",
     "collapsed": false,
     "input": [
      "corpus.children.first().metadata"
     ],
     "language": "python",
     "metadata": {},
     "outputs": [
      {
       "metadata": {},
       "output_type": "pyout",
       "prompt_number": 7,
       "text": [
        "{'journal': 'mBio',\n",
        " 'publication_year': '2014',\n",
        " 'language_iso3': 'eng',\n",
        " 'publication_month': '01',\n",
        " 'title': 'Systemic spread and propagation of a plant-pathogenic virus in European honeybees, Apis mellifera.',\n",
        " 'doi': '',\n",
        " 'publication_day': '22',\n",
        " 'abstract': 'Emerging and reemerging diseases that result from pathogen host shifts are a threat to the health of humans and their domesticates. RNA viruses have extremely high mutation rates and thus represent a significant source of these infectious diseases. In the present study, we showed that a plant-pathogenic RNA virus, tobacco ringspot virus (TRSV), could replicate and produce virions in honeybees, Apis mellifera, resulting in infections that were found throughout the entire body. Additionally, we showed that TRSV-infected individuals were continually present in some monitored colonies. While intracellular life cycle, species-level genetic variation, and pathogenesis of the virus in honeybee hosts remain to be determined, the increasing prevalence of TRSV in conjunction with other bee viruses from spring toward winter in infected colonies was associated with gradual decline of host populations and winter colony collapse, suggesting the negative impact of the virus on colony survival. Furthermore, we showed that TRSV was also found in ectoparasitic Varroa mites that feed on bee hemolymph, but in those instances the virus was restricted to the gastric cecum of Varroa mites, suggesting that Varroa mites may facilitate the spread of TRSV in bees but do not experience systemic invasion. Finally, our phylogenetic analysis revealed that TRSV isolates from bees, bee pollen, and Varroa mites clustered together, forming a monophyletic clade. The tree topology indicated that the TRSVs from arthropod hosts shared a common ancestor with those from plant hosts and subsequently evolved as a distinct lineage after transkingdom host alteration. This study represents a unique example of viruses with host ranges spanning both the plant and animal kingdoms.'}"
       ]
      }
     ],
     "prompt_number": 7
    }
   ],
   "metadata": {}
  }
 ]
}