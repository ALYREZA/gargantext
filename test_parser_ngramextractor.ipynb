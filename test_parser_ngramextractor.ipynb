{
 "metadata": {
  "name": "",
  "signature": "sha256:df3d60ee3db86cfa96ad9f0cfbd6b55c075a84ca08e52b566913b10ba2bcf0b3"
 },
 "nbformat": 3,
 "nbformat_minor": 0,
 "worksheets": [
  {
   "cells": [
    {
     "cell_type": "code",
     "collapsed": false,
     "input": [
      "from node.models import Node, NodeType, Language\n",
      "import parsing\n",
      "from parsing.FileParsers import *"
     ],
     "language": "python",
     "metadata": {},
     "outputs": [],
     "prompt_number": 1
    },
    {
     "cell_type": "code",
     "collapsed": false,
     "input": [
      "#from node.models import Language\n",
      "#import pycountry\n",
      "#for lang in pycountry.languages:\n",
      "#    try:\n",
      "#        Language(iso2=lang.alpha2, iso3=lang.terminology, fullname=lang.name, implemented=1).save()\n",
      "#    except:\n",
      "#        pass\n"
     ],
     "language": "python",
     "metadata": {},
     "outputs": [],
     "prompt_number": 2
    },
    {
     "cell_type": "code",
     "collapsed": false,
     "input": [],
     "language": "python",
     "metadata": {},
     "outputs": [],
     "prompt_number": 20
    },
    {
     "cell_type": "code",
     "collapsed": false,
     "input": [
      "from node.models import Project\n",
      "from django.contrib.auth.models import User\n",
      "user = User.objects.get(username=\"alexandre\")\n",
      "project_type = NodeType.objects.get(name=\"Project\")\n",
      "Project(user=user, type=project_type, name=\"Abeilles\").save()"
     ],
     "language": "python",
     "metadata": {},
     "outputs": [],
     "prompt_number": 3
    },
    {
     "cell_type": "code",
     "collapsed": false,
     "input": [
      "node = Node.objects.filter(name=\"Abeilles\", user=user)[0]\n",
      "print(node.pk)"
     ],
     "language": "python",
     "metadata": {},
     "outputs": [
      {
       "output_type": "stream",
       "stream": "stdout",
       "text": [
        "24\n"
       ]
      }
     ],
     "prompt_number": 28
    },
    {
     "cell_type": "code",
     "collapsed": false,
     "input": [
      "r = node.children.get(name=\"Pubmed\")"
     ],
     "language": "python",
     "metadata": {},
     "outputs": [],
     "prompt_number": 40
    },
    {
     "cell_type": "code",
     "collapsed": false,
     "input": [
      "r = r.resource.all()[0]"
     ],
     "language": "python",
     "metadata": {},
     "outputs": [],
     "prompt_number": 41
    },
    {
     "cell_type": "code",
     "collapsed": false,
     "input": [
      "r.file"
     ],
     "language": "python",
     "metadata": {},
     "outputs": [
      {
       "metadata": {},
       "output_type": "pyout",
       "prompt_number": 42,
       "text": [
        "<FieldFile: corpora/alexandre/pubmed_BwIXSzN.zip>"
       ]
      }
     ],
     "prompt_number": 42
    },
    {
     "cell_type": "code",
     "collapsed": false,
     "input": [
      "fileparser = PubmedFileParser.PubmedFileParser(file='/var/www/gargantext/media/' + str(r.file))"
     ],
     "language": "python",
     "metadata": {},
     "outputs": [],
     "prompt_number": 43
    },
    {
     "cell_type": "code",
     "collapsed": false,
     "input": [
      "fileparser.parse(node)"
     ],
     "language": "python",
     "metadata": {},
     "outputs": [
      {
       "output_type": "stream",
       "stream": "stdout",
       "text": [
        "Warning: parsing empty text\n",
        "Warning: parsing empty text\n",
        "Warning: parsing empty text"
       ]
      },
      {
       "output_type": "stream",
       "stream": "stdout",
       "text": [
        "\n",
        "Warning: parsing empty text\n",
        "Warning: parsing empty text"
       ]
      },
      {
       "output_type": "stream",
       "stream": "stdout",
       "text": [
        "\n",
        "Warning: parsing empty text\n",
        "Warning: parsing empty text"
       ]
      },
      {
       "output_type": "stream",
       "stream": "stdout",
       "text": [
        "\n",
        "Warning: parsing empty text"
       ]
      },
      {
       "output_type": "stream",
       "stream": "stdout",
       "text": [
        "\n",
        "Warning: parsing empty text"
       ]
      },
      {
       "output_type": "stream",
       "stream": "stdout",
       "text": [
        "\n",
        "Warning: parsing empty text"
       ]
      },
      {
       "output_type": "stream",
       "stream": "stdout",
       "text": [
        "\n",
        "Warning: parsing empty text"
       ]
      },
      {
       "output_type": "stream",
       "stream": "stdout",
       "text": [
        "\n",
        "Warning: parsing empty text"
       ]
      },
      {
       "output_type": "stream",
       "stream": "stdout",
       "text": [
        "\n",
        "Warning: parsing empty text"
       ]
      },
      {
       "output_type": "stream",
       "stream": "stdout",
       "text": [
        "\n",
        "Warning: parsing empty text"
       ]
      },
      {
       "output_type": "stream",
       "stream": "stdout",
       "text": [
        "\n",
        "Warning: parsing empty text"
       ]
      },
      {
       "output_type": "stream",
       "stream": "stdout",
       "text": [
        "\n"
       ]
      },
      {
       "metadata": {},
       "output_type": "pyout",
       "prompt_number": 44,
       "text": [
        "[<Node: Systemic spread and propagation of a plant-pathogenic virus in European honeybees, Apis mellifera.>,\n",
        " <Node: A Causal Analysis of Observed Declines in Managed Honey Bees (Apis mellifera).>,\n",
        " <Node: Non-specific dsRNA-mediated antiviral response in the honey bee.>,\n",
        " <Node: In vitro infection of pupae with Israeli acute paralysis virus suggests disturbance of transcriptional homeostasis in honey bees (Apis mellifera).>,\n",
        " <Node: Nosema ceranae has been present in Brazil for more than three decades infecting Africanized honey bees.>,\n",
        " <Node: Return of the natives.>,\n",
        " <Node: The road to pollinator health.>,\n",
        " <Node: Do the honeybee pathogens Nosema ceranae and deformed wing virus act synergistically?>,\n",
        " <Node: Essential oil from Eupatorium buniifolium leaves as potential varroacide.>,\n",
        " <Node: Animal behaviour: brain food.>,\n",
        " <Node: What's the buzz?>,\n",
        " <Node: Nosema ceranae induced mortality in honey bees (Apis mellifera) depends on infection methods.>,\n",
        " <Node: Rates of honeybee sting hypersensitivity in San Antonio during honeybee colony collapse disorder.>,\n",
        " <Node: Healing power of honey.>,\n",
        " <Node: Honey constituents up-regulate detoxification and immunity genes in the western honey bee Apis mellifera.>,\n",
        " <Node: Nosema spp. infection and its negative effects on honey bees (Apis mellifera iberiensis) at the colony level.>,\n",
        " <Node: Flight behavior and pheromone changes associated to Nosema ceranae infection of honey bee workers (Apis mellifera) in field conditions.>,\n",
        " <Node: Clinical signs of deformed wing virus infection are predictive markers for honey bee colony losses.>,\n",
        " <Node: The microsporidian parasites Nosema ceranae and Nosema apis are widespread in honeybee (Apis mellifera) colonies across Scotland.>,\n",
        " <Node: A potential link among biogenic amines-based pesticides, learning and memory, and colony collapse disorder: a unique hypothesis.>,\n",
        " <Node: Comment on \"A common pesticide decreases foraging success and survival in honey bees\".>,\n",
        " <Node: Idiopathic brood disease syndrome and queen events as precursors of colony mortality in migratory beekeeping operations in the eastern United States.>,\n",
        " <Node: Pathogen webs in collapsing honey bee colonies.>,\n",
        " <Node: Asymptomatic presence of Nosema spp. in Spanish commercial apiaries.>,\n",
        " <Node: Synergistic parasite-pathogen interactions mediated by host immunity can drive the collapse of honeybee colonies.>,\n",
        " <Node: Global honey bee viral landscape altered by a parasitic mite.>,\n",
        " <Node: Paratransgenesis: an approach to improve colony health and molecular insight in honey bees (Apis mellifera)?>,\n",
        " <Node: Agriculture. Field research on bees raises concern about low-dose pesticides.>,\n",
        " <Node: A common pesticide decreases foraging success and survival in honey bees.>,\n",
        " <Node: Symbionts as major modulators of insect health: lactic acid bacteria and honeybees.>,\n",
        " <Node: The habitat disruption induces immune-suppression and oxidative stress in honey bees.>,\n",
        " <Node: Predictive markers of honey bee colony collapse.>,\n",
        " <Node: Colony collapse disorder in Europe.>,\n",
        " <Node: Pesticide exposure in honey bees results in increased levels of the gut pathogen Nosema.>,\n",
        " <Node: Bromenshenk et al (PLoS One, 2011, 5(10):e13181) have claimed to have found peptides from an invertebrate iridovirus in bees.>,\n",
        " <Node: A new threat to honey bees, the parasitic phorid fly Apocephalus borealis.>,\n",
        " <Node: Detection of pesticides in active and depopulated beehives in Uruguay.>,\n",
        " <Node: Bees brought to their knees: microbes affecting honey bee health.>,\n",
        " <Node: From elephants to bees.>,\n",
        " <Node: Evidence of a novel immune responsive protein in the Hymenoptera.>,\n",
        " <Node: Lack of evidence for an association between Iridovirus and colony collapse disorder.>,\n",
        " <Node: First report of Israeli acute paralysis virus in asymptomatic hives of Argentina.>,\n",
        " <Node: Temporal analysis of the honey bee microbiome reveals four novel viruses and seasonal prevalence of known viruses, Nosema, and Crithidia.>,\n",
        " <Node: A quantitative model of honey bee colony population dynamics.>,\n",
        " <Node: Detection of honey bee (Apis mellifera) viruses with an oligonucleotide microarray.>,\n",
        " <Node: Interpretation of data underlying the link between colony collapse disorder (CCD) and an invertebrate iridescent virus.>,\n",
        " <Node: RNA viruses in hymenopteran pollinators: evidence of inter-Taxa virus transmission via pollen and potential impact on non-Apis hymenopteran species.>,\n",
        " <Node: Large-scale field application of RNAi technology reducing Israeli acute paralysis virus disease in honey bees (Apis mellifera, Hymenoptera: Apidae).>,\n",
        " <Node: Weighing risk factors associated with bee colony collapse disorder by classification and regression tree analysis.>,\n",
        " <Node: Iridovirus and microsporidian linked to honey bee colony decline.>,\n",
        " <Node: Varroa destructor is an effective vector of Israeli acute paralysis virus in the honeybee, Apis mellifera.>,\n",
        " <Node: The plight of the bees.>,\n",
        " <Node: Sudden deaths and colony population decline in Greek honey bee colonies.>,\n",
        " <Node: Colony Collapse Disorder in context.>,\n",
        " <Node: Vanishing honey bees: Is the dying of adult worker bees a consequence of short telomeres and premature aging?>,\n",
        " <Node: Prevention of Chinese sacbrood virus infection in Apis cerana using RNA interference.>,\n",
        " <Node: Refined methodology for the determination of neonicotinoid pesticides and their metabolites in honey bees and bee products by liquid chromatography-tandem mass spectrometry (LC-MS/MS).>,\n",
        " <Node: Ecology. Clarity on honey bee collapse?>,\n",
        " <Node: Medium for development of bee cell cultures (Apis mellifera: Hymenoptera: Apidae).>,\n",
        " <Node: Bee mystery continues.>,\n",
        " <Node: Deformed wing virus.>,\n",
        " <Node: The Acute bee paralysis virus-Kashmir bee virus-Israeli acute paralysis virus complex.>,\n",
        " <Node: Translocation of neonicotinoid insecticides from coated seeds to seedling guttation drops: a novel way of intoxication for bees.>,\n",
        " <Node: Deformed wing virus implicated in overwintering honeybee colony losses.>,\n",
        " <Node: Changes in transcript abundance relating to colony collapse disorder in honey bees (Apis mellifera).>,\n",
        " <Node: Colony collapse disorder: a descriptive study.>,\n",
        " <Node: A PCR method of detecting American Foulbrood (Paenibacillus larvae) in winter beehive wax debris.>,\n",
        " <Node: Honeybee colony collapse due to Nosema ceranae in professional apiaries.>,\n",
        " <Node: IAPV, a bee-affecting virus associated with Colony Collapse Disorder can be silenced by dsRNA ingestion.>,\n",
        " <Node: Energetic stress in the honeybee Apis mellifera from Nosema ceranae infection.>,\n",
        " <Node: A survey of honey bee colony losses in the U.S., fall 2007 to spring 2008.>,\n",
        " <Node: A qualitative model of mortality in honey bee (Apis mellifera) colonies infested with tracheal mites (Acarapis woodi).>,\n",
        " <Node: First detection of Israeli acute paralysis virus (IAPV) in France, a dicistrovirus affecting honeybees (Apis mellifera).>,\n",
        " <Node: Does pathogen spillover from commercially reared bumble bees threaten wild pollinators?>,\n",
        " <Node: How natural infection by Nosema ceranae causes honeybee colony collapse.>,\n",
        " <Node: Genetic analysis of Israel acute paralysis virus: distinct clusters are circulating in the United States.>,\n",
        " <Node: The latest buzz about colony collapse disorder.>,\n",
        " <Node: Native bees provide insurance against ongoing honey bee losses.>,\n",
        " <Node: A metagenomic survey of microbes in honey bee colony collapse disorder.>,\n",
        " <Node: Vertical-transmission routes for deformed wing virus of honeybees (Apis mellifera).>,\n",
        " <Node: RT-PCR analysis of Deformed wing virus in honeybees (Apis mellifera) and mites (Varroa destructor).>]"
       ]
      }
     ],
     "prompt_number": 44
    },
    {
     "cell_type": "code",
     "collapsed": false,
     "input": [
      "from node.models import Ngram"
     ],
     "language": "python",
     "metadata": {},
     "outputs": [],
     "prompt_number": 6
    },
    {
     "cell_type": "markdown",
     "metadata": {},
     "source": [
      "    Ng"
     ]
    },
    {
     "cell_type": "raw",
     "metadata": {},
     "source": []
    },
    {
     "cell_type": "code",
     "collapsed": false,
     "input": [
      "n = node.children.first()"
     ],
     "language": "python",
     "metadata": {},
     "outputs": [],
     "prompt_number": 14
    },
    {
     "cell_type": "code",
     "collapsed": false,
     "input": [
      "for node_ngram in n.node_ngram_set.all():\n",
      "    print(node_ngram.ngram.terms)"
     ],
     "language": "python",
     "metadata": {},
     "outputs": [
      {
       "output_type": "stream",
       "stream": "stdout",
       "text": [
        "Ngram object\n",
        "Ngram object\n",
        "Ngram object\n",
        "Ngram object\n",
        "Ngram object\n",
        "Ngram object\n",
        "Ngram object\n",
        "Ngram object\n",
        "Ngram object\n",
        "Ngram object\n",
        "Ngram object\n",
        "Ngram object\n",
        "Ngram object\n",
        "Ngram object\n",
        "Ngram object\n",
        "Ngram object\n",
        "Ngram object\n",
        "Ngram object\n",
        "Ngram object\n",
        "Ngram object\n",
        "Ngram object\n",
        "Ngram object\n",
        "Ngram object\n",
        "Ngram object\n",
        "Ngram object\n",
        "Ngram object\n",
        "Ngram object\n",
        "Ngram object\n",
        "Ngram object\n",
        "Ngram object\n",
        "Ngram object\n",
        "Ngram object\n",
        "Ngram object\n",
        "Ngram object\n",
        "Ngram object\n",
        "Ngram object\n",
        "Ngram object\n",
        "Ngram object\n",
        "Ngram object\n",
        "Ngram object\n",
        "Ngram object\n",
        "Ngram object"
       ]
      },
      {
       "output_type": "stream",
       "stream": "stdout",
       "text": [
        "\n",
        "Ngram object\n",
        "Ngram object\n",
        "Ngram object\n",
        "Ngram object\n",
        "Ngram object\n",
        "Ngram object\n",
        "Ngram object\n",
        "Ngram object\n",
        "Ngram object\n",
        "Ngram object\n",
        "Ngram object\n",
        "Ngram object\n",
        "Ngram object\n",
        "Ngram object\n",
        "Ngram object\n",
        "Ngram object\n",
        "Ngram object\n",
        "Ngram object\n",
        "Ngram object\n",
        "Ngram object\n",
        "Ngram object\n",
        "Ngram object\n"
       ]
      }
     ],
     "prompt_number": 26
    },
    {
     "cell_type": "code",
     "collapsed": false,
     "input": [
      "Project.objects.all().delete()"
     ],
     "language": "python",
     "metadata": {},
     "outputs": [],
     "prompt_number": 18
    },
    {
     "cell_type": "code",
     "collapsed": false,
     "input": [
      "from node.models import Corpus, Project\n",
      "Project.objects.all()\n",
      "Corpus.objects.all()"
     ],
     "language": "python",
     "metadata": {},
     "outputs": [
      {
       "metadata": {},
       "output_type": "pyout",
       "prompt_number": 7,
       "text": [
        "[<Corpus: Abeilles>]"
       ]
      }
     ],
     "prompt_number": 7
    },
    {
     "cell_type": "code",
     "collapsed": false,
     "input": [
      "Node.objects.filter(user=user, type=project_type)"
     ],
     "language": "python",
     "metadata": {},
     "outputs": [
      {
       "metadata": {},
       "output_type": "pyout",
       "prompt_number": 5,
       "text": [
        "[<Node: Abeilles>]"
       ]
      }
     ],
     "prompt_number": 5
    },
    {
     "cell_type": "code",
     "collapsed": false,
     "input": [],
     "language": "python",
     "metadata": {},
     "outputs": []
    }
   ],
   "metadata": {}
  }
 ]
}