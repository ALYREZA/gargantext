{
 "metadata": {
  "name": "",
  "signature": "sha256:693c689bf4132eef6fdd01022aabf0dc4d6fd258f9c9f412c3de6d66cc2e8ede"
 },
 "nbformat": 3,
 "nbformat_minor": 0,
 "worksheets": [
  {
   "cells": [
    {
     "cell_type": "code",
     "collapsed": false,
     "input": [
      "from node.models import Node, NodeType\n",
      "from django.contrib.auth.models import User"
     ],
     "language": "python",
     "metadata": {},
     "outputs": [],
     "prompt_number": 1
    },
    {
     "cell_type": "code",
     "collapsed": false,
     "input": [
      "import datetime"
     ],
     "language": "python",
     "metadata": {},
     "outputs": [],
     "prompt_number": 2
    },
    {
     "cell_type": "code",
     "collapsed": false,
     "input": [
      "#number_userIndex = 100\n",
      "#number_projectIndex = 50\n",
      "#number_documentIndex = 10000\n",
      "number_userIndex = 1\n",
      "number_projectIndex = 5\n",
      "number_documentIndex = 10000"
     ],
     "language": "python",
     "metadata": {},
     "outputs": [],
     "prompt_number": 3
    },
    {
     "cell_type": "code",
     "collapsed": false,
     "input": [
      "NodeType.objects.all().delete()\n",
      "nodeTypeRoot = NodeType(name=\"Root\")\n",
      "nodeTypeRoot.save()\n",
      "nodeTypeProject = NodeType(name=\"Project\")\n",
      "nodeTypeProject.save()\n",
      "nodeTypeDocument = NodeType(name=\"Document\")\n",
      "nodeTypeDocument.save()"
     ],
     "language": "python",
     "metadata": {},
     "outputs": [],
     "prompt_number": 4
    },
    {
     "cell_type": "code",
     "collapsed": false,
     "input": [
      "t0 = datetime.datetime.now()\n",
      "with transaction.atomic():\n",
      "    for userIndex in range(number_userIndex):\n",
      "        userName = 'User #%d' % (userIndex, )\n",
      "        user = User(username=userName)\n",
      "        user.save()\n",
      "        rootNode = Node.add_root(name=userName, type_id=nodeTypeRoot.pk, user_id=user.id)\n",
      "        \n",
      "        print(userName)\n",
      "        for projectIndex in range(number_projectIndex):\n",
      "            projectName = 'Project #%d-%d' % (userIndex, projectIndex, )\n",
      "            projectNode = Node(name=projectName, type_id=nodeTypeProject.pk, user_id=user.id)\n",
      "            rootNode.add_child(instance=projectNode)\n",
      "            documents = [\n",
      "                {\"data\": {\"name\":'Document #%d-%d-%d' % (userIndex, projectIndex, documentIndex, ), \"type_id\":nodeTypeDocument.pk, \"user_id\":user.id}}\n",
      "                for documentIndex in range(number_documentIndex)\n",
      "            ]\n",
      "            Node.load_bulk(documents, projectNode)\n",
      "            print(datetime.datetime.now() - t0)\n",
      "\n",
      "t1 = datetime.datetime.now()\n",
      "t1 - t0"
     ],
     "language": "python",
     "metadata": {},
     "outputs": [
      {
       "output_type": "stream",
       "stream": "stdout",
       "text": [
        "User #0\n",
        "0:01:23.977042"
       ]
      },
      {
       "output_type": "stream",
       "stream": "stdout",
       "text": [
        "\n",
        "0:02:52.814926"
       ]
      },
      {
       "output_type": "stream",
       "stream": "stdout",
       "text": [
        "\n",
        "0:04:20.082505"
       ]
      },
      {
       "output_type": "stream",
       "stream": "stdout",
       "text": [
        "\n",
        "0:05:46.918613"
       ]
      },
      {
       "output_type": "stream",
       "stream": "stdout",
       "text": [
        "\n",
        "0:07:14.045494"
       ]
      },
      {
       "output_type": "stream",
       "stream": "stdout",
       "text": [
        "\n"
       ]
      },
      {
       "metadata": {},
       "output_type": "pyout",
       "prompt_number": 5,
       "text": [
        "datetime.timedelta(0, 434, 618664)"
       ]
      }
     ],
     "prompt_number": 5
    },
    {
     "cell_type": "code",
     "collapsed": false,
     "input": [
      "print(t1-t0)"
     ],
     "language": "python",
     "metadata": {},
     "outputs": [
      {
       "output_type": "stream",
       "stream": "stdout",
       "text": [
        "0:07:14.618664\n"
       ]
      }
     ],
     "prompt_number": 6
    },
    {
     "cell_type": "code",
     "collapsed": false,
     "input": [
      "for node in Node.objects.all():\n",
      "    print(node.name)"
     ],
     "language": "python",
     "metadata": {},
     "outputs": [],
     "prompt_number": 37
    },
    {
     "cell_type": "markdown",
     "metadata": {},
     "source": []
    }
   ],
   "metadata": {}
  }
 ]
}