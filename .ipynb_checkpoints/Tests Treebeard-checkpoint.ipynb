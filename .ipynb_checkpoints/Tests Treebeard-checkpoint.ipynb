{
 "metadata": {
  "name": "",
  "signature": "sha256:50c57fae12b08d7cfcd20689b4bbefef159ddbefc8375de718c6a8b1f9dc731c"
 },
 "nbformat": 3,
 "nbformat_minor": 0,
 "worksheets": [
  {
   "cells": [
    {
     "cell_type": "code",
     "collapsed": false,
     "input": [
      "from node.models import Node, NodeType\n",
      "from django.contrib.auth.models import User"
     ],
     "language": "python",
     "metadata": {},
     "outputs": [],
     "prompt_number": 22
    },
    {
     "cell_type": "code",
     "collapsed": false,
     "input": [
      "from time import time\n",
      "print(time())"
     ],
     "language": "python",
     "metadata": {},
     "outputs": [
      {
       "output_type": "stream",
       "stream": "stdout",
       "text": [
        "1412774512.6932266\n"
       ]
      }
     ],
     "prompt_number": 10
    },
    {
     "cell_type": "code",
     "collapsed": false,
     "input": [
      "NodeType.objects.all().delete()\n",
      "nodeTypeRoot = NodeType(name=\"Root\")\n",
      "nodeTypeRoot.save()\n",
      "nodeTypeProject = NodeType(name=\"Project\")\n",
      "nodeTypeProject.save()\n",
      "nodeTypeDocument = NodeType(name=\"Document\")\n",
      "nodeTypeDocument.save()"
     ],
     "language": "python",
     "metadata": {},
     "outputs": [],
     "prompt_number": 70
    },
    {
     "cell_type": "code",
     "collapsed": false,
     "input": [
      "Node.objects.all().delete()\n",
      "User.objects.filter(username__startswith = \"User #\").delete()\n",
      "from time import time\n",
      "print(time())\n",
      "exit()\n",
      "for userIndex in range(100):\n",
      "    userName = 'User #%d' % (userIndex, )\n",
      "    user = User(username=userName)\n",
      "    user.save()\n",
      "    rootNode = Node.add_root(name=userName, type_id=nodeTypeRoot.pk, user_id=user.id)\n",
      "    print(userIndex)\n",
      "    for projectIndex in range(50):\n",
      "        projectName = 'Project #%d-%d' % (userIndex, projectIndex, )\n",
      "        projectNode = Node(name=projectName, type_id=nodeTypeProject.pk, user_id=user.id)\n",
      "        rootNode.add_child(instance=projectNode)\n",
      "        for documentIndex in range(10000):\n",
      "            documentName = 'Document #%d-%d-%d' % (userIndex, projectIndex, documentIndex, )\n",
      "            documentNode = Node(name=documentName, type_id=nodeTypeDocument.pk, user_id=user.id)\n",
      "            "
     ],
     "language": "python",
     "metadata": {},
     "outputs": []
    },
    {
     "cell_type": "code",
     "collapsed": false,
     "input": [
      "for node in Node.objects.all():\n",
      "    print(node.name)"
     ],
     "language": "python",
     "metadata": {},
     "outputs": [],
     "prompt_number": 37
    },
    {
     "cell_type": "markdown",
     "metadata": {},
     "source": []
    }
   ],
   "metadata": {}
  }
 ]
}