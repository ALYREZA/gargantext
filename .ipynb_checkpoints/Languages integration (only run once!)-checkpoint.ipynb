{
 "metadata": {
  "name": "",
  "signature": "sha256:7c80ed9f4b088e13444efb451a1ee46e5727247be14aaf30ddf0236a49ac461b"
 },
 "nbformat": 3,
 "nbformat_minor": 0,
 "worksheets": []
}