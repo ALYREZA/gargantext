{
 "metadata": {
  "name": "",
  "signature": "sha256:e0c3b2efe7c205a29dc4e028b10ffb7b9d0569f35c4b426febdf523069abffdb"
 },
 "nbformat": 3,
 "nbformat_minor": 0,
 "worksheets": [
  {
   "cells": [
    {
     "cell_type": "code",
     "collapsed": false,
     "input": [
      "from pprint import pprint\n",
      "from node.models import Node, NodeType, Language, Ngram\n",
      "from django.contrib.auth.models import User\n",
      "import parsing\n",
      "from parsing.FileParsers import *"
     ],
     "language": "python",
     "metadata": {},
     "outputs": [],
     "prompt_number": 1
    },
    {
     "cell_type": "code",
     "collapsed": false,
     "input": [
      "# Define user\n",
      "try:\n",
      "    user = User.objects.get(username='Mat')\n",
      "except:\n",
      "    user = User(username='Mat', password='0123', email='mathieu@rodic.fr')\n",
      "    user.save()\n",
      "\n",
      "# Define document types\n",
      "nodetypes = {}\n",
      "for name in ['Corpus', 'Document']:\n",
      "    try:\n",
      "        nodetypes[name] = NodeType.objects.get(name=name)\n",
      "    except:\n",
      "        nodetypes[name] = NodeType(name=name)\n",
      "        nodetypes[name].save()"
     ],
     "language": "python",
     "metadata": {},
     "outputs": [],
     "prompt_number": 2
    },
    {
     "cell_type": "code",
     "collapsed": false,
     "input": [
      "Node.objects.all().delete()\n",
      "corpus = Node(name='PubMed corpus', user=user, type=nodetypes['Corpus'])\n",
      "corpus.save()"
     ],
     "language": "python",
     "metadata": {},
     "outputs": [],
     "prompt_number": 3
    },
    {
     "cell_type": "code",
     "collapsed": false,
     "input": [
      "fileparser = PubmedFileParser.PubmedFileParser(file='/home/mat/projects/gargantext/data_samples/pubmed.zip')"
     ],
     "language": "python",
     "metadata": {},
     "outputs": []
    },
    {
     "cell_type": "code",
     "collapsed": false,
     "input": [
      "fileparser.parse(corpus)\n",
      "print('Ok!')"
     ],
     "language": "python",
     "metadata": {},
     "outputs": [
      {
       "output_type": "stream",
       "stream": "stdout",
       "text": [
        "Warning: parsing empty text\n",
        "Warning: parsing empty text\n",
        "Warning: parsing empty text"
       ]
      },
      {
       "output_type": "stream",
       "stream": "stdout",
       "text": [
        "\n",
        "Warning: parsing empty text\n",
        "Warning: parsing empty text"
       ]
      }
     ]
    },
    {
     "cell_type": "code",
     "collapsed": false,
     "input": [
      "for node_ngram in corpus.children.first().node_ngram_set.all():\n",
      "    print(node_ngram.ngram.terms)"
     ],
     "language": "python",
     "metadata": {},
     "outputs": []
    },
    {
     "cell_type": "code",
     "collapsed": false,
     "input": [],
     "language": "python",
     "metadata": {},
     "outputs": []
    }
   ],
   "metadata": {}
  }
 ]
}