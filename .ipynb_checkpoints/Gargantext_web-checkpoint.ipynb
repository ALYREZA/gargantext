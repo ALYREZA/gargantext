{
 "metadata": {
  "name": "",
  "signature": "sha256:90c4b345528e3f03e260f9dc5da07164208f7a7daa765c42b08c93764467b531"
 },
 "nbformat": 3,
 "nbformat_minor": 0,
 "worksheets": [
  {
   "cells": [
    {
     "cell_type": "code",
     "collapsed": false,
     "input": [
      "cd .."
     ],
     "language": "python",
     "metadata": {},
     "outputs": [
      {
       "output_type": "stream",
       "stream": "stdout",
       "text": [
        "/home/alexandre/projets/gargantext.py\n"
       ]
      }
     ],
     "prompt_number": 1
    },
    {
     "cell_type": "code",
     "collapsed": false,
     "input": [
      "import gargantext"
     ],
     "language": "python",
     "metadata": {},
     "outputs": [],
     "prompt_number": 2
    },
    {
     "cell_type": "code",
     "collapsed": false,
     "input": [
      "cd gargantext_web/"
     ],
     "language": "python",
     "metadata": {},
     "outputs": [
      {
       "output_type": "stream",
       "stream": "stdout",
       "text": [
        "/home/alexandre/projets/gargantext.py/gargantext_web\n"
       ]
      }
     ],
     "prompt_number": 3
    },
    {
     "cell_type": "code",
     "collapsed": false,
     "input": [
      "import documents"
     ],
     "language": "python",
     "metadata": {},
     "outputs": [],
     "prompt_number": 4
    },
    {
     "cell_type": "code",
     "collapsed": false,
     "input": [
      "c = gargantext.bdd.Europresse()\n",
      "c.add(\"/home/alexandre/projets/abeilles/documents/Europresse/html/\")"
     ],
     "language": "python",
     "metadata": {},
     "outputs": [],
     "prompt_number": 7
    },
    {
     "cell_type": "code",
     "collapsed": false,
     "input": [
      "d = documents.models.Document()"
     ],
     "language": "python",
     "metadata": {},
     "outputs": [],
     "prompt_number": 29
    },
    {
     "cell_type": "code",
     "collapsed": false,
     "input": [
      "for doc in c:\n",
      "    d = documents.models.Document()\n",
      "    d.project_id = \"1\"\n",
      "    d.corpus_id = \"1\"\n",
      "    d.analyst_id = \"1\"\n",
      "    try:\n",
      "        d.uniqu_id = doc[\"object_id\"]\n",
      "        d.date = doc[\"date\"]\n",
      "        d.title = doc[\"title\"]\n",
      "        d.authors = doc[\"authors\"]\n",
      "        d.text = doc[\"text\"]\n",
      "        d.source = doc[\"source\"]\n",
      "        d.save()\n",
      "    except:\n",
      "        pass"
     ],
     "language": "python",
     "metadata": {},
     "outputs": [],
     "prompt_number": 88
    },
    {
     "cell_type": "code",
     "collapsed": false,
     "input": [],
     "language": "python",
     "metadata": {},
     "outputs": [],
     "prompt_number": 4
    },
    {
     "cell_type": "code",
     "collapsed": false,
     "input": [],
     "language": "python",
     "metadata": {},
     "outputs": [],
     "prompt_number": 4
    },
    {
     "cell_type": "code",
     "collapsed": false,
     "input": [],
     "language": "python",
     "metadata": {},
     "outputs": [],
     "prompt_number": 4
    },
    {
     "cell_type": "code",
     "collapsed": false,
     "input": [],
     "language": "python",
     "metadata": {},
     "outputs": [],
     "prompt_number": 4
    },
    {
     "cell_type": "code",
     "collapsed": false,
     "input": [],
     "language": "python",
     "metadata": {},
     "outputs": [],
     "prompt_number": 4
    },
    {
     "cell_type": "code",
     "collapsed": false,
     "input": [],
     "language": "python",
     "metadata": {},
     "outputs": [],
     "prompt_number": 23
    },
    {
     "cell_type": "code",
     "collapsed": false,
     "input": [],
     "language": "python",
     "metadata": {},
     "outputs": [],
     "prompt_number": 24
    },
    {
     "cell_type": "code",
     "collapsed": false,
     "input": [],
     "language": "python",
     "metadata": {},
     "outputs": [
      {
       "metadata": {},
       "output_type": "pyout",
       "prompt_number": 25,
       "text": [
        "[<Document: Notebook test>, <Document: Titre d'un article>]"
       ]
      }
     ],
     "prompt_number": 25
    },
    {
     "cell_type": "code",
     "collapsed": false,
     "input": [],
     "language": "python",
     "metadata": {},
     "outputs": [],
     "prompt_number": 4
    },
    {
     "cell_type": "code",
     "collapsed": false,
     "input": [
      "documents.models.Document.objects.raw('select count(*),source from documents_document group by source;'):"
     ],
     "language": "python",
     "metadata": {},
     "outputs": [
      {
       "ename": "InvalidQuery",
       "evalue": "Raw query must include the primary key",
       "output_type": "pyerr",
       "traceback": [
        "\u001b[1;31m---------------------------------------------------------------------------\u001b[0m\n\u001b[1;31mInvalidQuery\u001b[0m                              Traceback (most recent call last)",
        "\u001b[1;32m<ipython-input-45-5495b08ea061>\u001b[0m in \u001b[0;36m<module>\u001b[1;34m()\u001b[0m\n\u001b[1;32m----> 1\u001b[1;33m \u001b[1;32mfor\u001b[0m \u001b[0mp\u001b[0m \u001b[1;32min\u001b[0m \u001b[0mdocuments\u001b[0m\u001b[1;33m.\u001b[0m\u001b[0mmodels\u001b[0m\u001b[1;33m.\u001b[0m\u001b[0mDocument\u001b[0m\u001b[1;33m.\u001b[0m\u001b[0mobjects\u001b[0m\u001b[1;33m.\u001b[0m\u001b[0mraw\u001b[0m\u001b[1;33m(\u001b[0m\u001b[1;34m'select count(*),source from documents_document group by source;'\u001b[0m\u001b[1;33m)\u001b[0m\u001b[1;33m:\u001b[0m\u001b[1;33m\u001b[0m\u001b[0m\n\u001b[0m\u001b[0;32m      2\u001b[0m     \u001b[0mprint\u001b[0m\u001b[1;33m(\u001b[0m\u001b[0mp\u001b[0m\u001b[1;33m)\u001b[0m\u001b[1;33m\u001b[0m\u001b[0m\n",
        "\u001b[1;32m/home/alexandre/projets/gargantext.py/env/lib/python3.4/site-packages/django/db/models/query.py\u001b[0m in \u001b[0;36m__iter__\u001b[1;34m(self)\u001b[0m\n\u001b[0;32m   1413\u001b[0m         \u001b[1;32mif\u001b[0m \u001b[0mskip\u001b[0m\u001b[1;33m:\u001b[0m\u001b[1;33m\u001b[0m\u001b[0m\n\u001b[0;32m   1414\u001b[0m             \u001b[1;32mif\u001b[0m \u001b[0mself\u001b[0m\u001b[1;33m.\u001b[0m\u001b[0mmodel\u001b[0m\u001b[1;33m.\u001b[0m\u001b[0m_meta\u001b[0m\u001b[1;33m.\u001b[0m\u001b[0mpk\u001b[0m\u001b[1;33m.\u001b[0m\u001b[0mattname\u001b[0m \u001b[1;32min\u001b[0m \u001b[0mskip\u001b[0m\u001b[1;33m:\u001b[0m\u001b[1;33m\u001b[0m\u001b[0m\n\u001b[1;32m-> 1415\u001b[1;33m                 \u001b[1;32mraise\u001b[0m \u001b[0mInvalidQuery\u001b[0m\u001b[1;33m(\u001b[0m\u001b[1;34m'Raw query must include the primary key'\u001b[0m\u001b[1;33m)\u001b[0m\u001b[1;33m\u001b[0m\u001b[0m\n\u001b[0m\u001b[0;32m   1416\u001b[0m             \u001b[0mmodel_cls\u001b[0m \u001b[1;33m=\u001b[0m \u001b[0mdeferred_class_factory\u001b[0m\u001b[1;33m(\u001b[0m\u001b[0mself\u001b[0m\u001b[1;33m.\u001b[0m\u001b[0mmodel\u001b[0m\u001b[1;33m,\u001b[0m \u001b[0mskip\u001b[0m\u001b[1;33m)\u001b[0m\u001b[1;33m\u001b[0m\u001b[0m\n\u001b[0;32m   1417\u001b[0m         \u001b[1;32melse\u001b[0m\u001b[1;33m:\u001b[0m\u001b[1;33m\u001b[0m\u001b[0m\n",
        "\u001b[1;31mInvalidQuery\u001b[0m: Raw query must include the primary key"
       ]
      }
     ],
     "prompt_number": 45
    },
    {
     "cell_type": "code",
     "collapsed": false,
     "input": [
      "from itertools import *\n",
      "from django.db import connection\n",
      "\n",
      "def query_to_dicts(query_string, *query_args):\n",
      "    \"\"\"Run a simple query and produce a generator\n",
      "    that returns the results as a bunch of dictionaries\n",
      "    with keys for the column values selected.\n",
      "    \"\"\"\n",
      "    cursor = connection.cursor()\n",
      "    cursor.execute(query_string, query_args)\n",
      "    col_names = [desc[0] for desc in cursor.description]\n",
      "    while True:\n",
      "        row = cursor.fetchone()\n",
      "        if row is None:\n",
      "            break\n",
      "        row_dict = dict(zip(col_names, row))\n",
      "        yield row_dict\n",
      "    return"
     ],
     "language": "python",
     "metadata": {},
     "outputs": [],
     "prompt_number": 81
    },
    {
     "cell_type": "code",
     "collapsed": false,
     "input": [
      "result = query_to_dicts('''select count(*),source \n",
      "                        from documents_document\n",
      "                        where project_id = %d\n",
      "                        group by source\n",
      "                        order by 1 DESC limit 9;''' % 1)\n",
      "\n",
      "for i in result:\n",
      "    print(i)"
     ],
     "language": "python",
     "metadata": {},
     "outputs": [
      {
       "output_type": "stream",
       "stream": "stdout",
       "text": [
        "{'count': 34, 'source': 'Sud Ouest'}\n",
        "{'count': 26, 'source': 'Le Progr\u00e8s - Lyon'}\n",
        "{'count': 9, 'source': 'Le Figaro'}\n",
        "{'count': 9, 'source': 'AFP Infos Fran\u00e7aises'}\n",
        "{'count': 8, 'source': 'Les Echos'}\n",
        "{'count': 8, 'source': 'Le Monde'}\n",
        "{'count': 6, 'source': 'Le Parisien'}\n",
        "{'count': 5, 'source': 'Le T\u00e9l\u00e9gramme (Bretagne)'}\n",
        "{'count': 4, 'source': 'La Presse'}\n"
       ]
      }
     ],
     "prompt_number": 82
    },
    {
     "cell_type": "code",
     "collapsed": false,
     "input": [],
     "language": "python",
     "metadata": {},
     "outputs": [],
     "prompt_number": 78
    },
    {
     "cell_type": "code",
     "collapsed": false,
     "input": [
      "result = query_to_dicts('''select to_char(date, 'YYYY-MM'), count(*) \n",
      "                        from documents_document\n",
      "                        group by to_char(date, 'YYYY-MM')\n",
      "                        order by 1 DESC;''')\n",
      "for i in result:\n",
      "    print(i)"
     ],
     "language": "python",
     "metadata": {},
     "outputs": [
      {
       "output_type": "stream",
       "stream": "stdout",
       "text": [
        "{'to_char': '2001-12', 'count': 9}\n",
        "{'to_char': '2001-11', 'count': 10}\n",
        "{'to_char': '2001-10', 'count': 2}\n",
        "{'to_char': '2001-09', 'count': 10}\n",
        "{'to_char': '2001-08', 'count': 36}\n",
        "{'to_char': '2001-07', 'count': 15}\n",
        "{'to_char': '2001-06', 'count': 12}\n",
        "{'to_char': '2001-05', 'count': 13}\n",
        "{'to_char': '2001-04', 'count': 13}\n",
        "{'to_char': '2001-03', 'count': 16}\n",
        "{'to_char': '2001-02', 'count': 14}\n",
        "{'to_char': '2001-01', 'count': 4}\n"
       ]
      }
     ],
     "prompt_number": 61
    },
    {
     "cell_type": "code",
     "collapsed": false,
     "input": [
      "result = query_to_dicts('''select to_char(date, 'YYYY'), count(*) \n",
      "                        from documents_document \n",
      "                        group by to_char(date, 'YYYY')\n",
      "                        order by 1 DESC;''')\n",
      "for i in result:\n",
      "    print(i)"
     ],
     "language": "python",
     "metadata": {},
     "outputs": [
      {
       "output_type": "stream",
       "stream": "stdout",
       "text": [
        "{'to_char': '2001', 'count': 154}\n"
       ]
      }
     ],
     "prompt_number": 62
    },
    {
     "cell_type": "code",
     "collapsed": false,
     "input": [
      "result = query_to_dicts('''select to_char(date, 'YYYY-MM'), count(*) \n",
      "                        from documents_document \n",
      "                        group by to_char(date, 'YYYY-MM')\n",
      "                        order by 1 DESC;''')\n",
      "for i in result:\n",
      "    print(i)"
     ],
     "language": "python",
     "metadata": {},
     "outputs": [
      {
       "output_type": "stream",
       "stream": "stdout",
       "text": [
        "{'to_char': '2001-12', 'count': 9}\n",
        "{'to_char': '2001-11', 'count': 10}\n",
        "{'to_char': '2001-10', 'count': 2}\n",
        "{'to_char': '2001-09', 'count': 10}\n",
        "{'to_char': '2001-08', 'count': 36}\n",
        "{'to_char': '2001-07', 'count': 15}\n",
        "{'to_char': '2001-06', 'count': 12}\n",
        "{'to_char': '2001-05', 'count': 13}\n",
        "{'to_char': '2001-04', 'count': 13}\n",
        "{'to_char': '2001-03', 'count': 16}\n",
        "{'to_char': '2001-02', 'count': 14}\n",
        "{'to_char': '2001-01', 'count': 4}\n"
       ]
      }
     ],
     "prompt_number": 83
    },
    {
     "cell_type": "code",
     "collapsed": false,
     "input": [],
     "language": "python",
     "metadata": {},
     "outputs": [],
     "prompt_number": 91
    },
    {
     "cell_type": "code",
     "collapsed": false,
     "input": [],
     "language": "python",
     "metadata": {},
     "outputs": []
    }
   ],
   "metadata": {}
  }
 ]
}