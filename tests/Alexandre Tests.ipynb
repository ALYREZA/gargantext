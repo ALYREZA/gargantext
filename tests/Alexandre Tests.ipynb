{
 "metadata": {
  "name": "",
  "signature": "sha256:e2e420fac15d6e8510ae09da82d9b6f635416a4f592b2cb7691da3ea70e787a7"
 },
 "nbformat": 3,
 "nbformat_minor": 0,
 "worksheets": [
  {
   "cells": [
    {
     "cell_type": "code",
     "collapsed": false,
     "input": [
      "from node.models import Node, NodeType,\\\n",
      "                        Project, Corpus, Document,\\\n",
      "                        Ngram, Node_Ngram,\\\n",
      "                        User, Language, ResourceType"
     ],
     "language": "python",
     "metadata": {},
     "outputs": [],
     "prompt_number": 1
    },
    {
     "cell_type": "code",
     "collapsed": false,
     "input": [
      "import pycountry\n",
      "\n",
      "for language in pycountry.languages:\n",
      "    try:\n",
      "        implemented = 1 if language.alpha2 in ['en', 'fr'] else 0\n",
      "        Language(iso2=language.alpha2, iso3=language.terminology, fullname=language.name, implemented=implemented).save()\n",
      "    except:\n",
      "        pass"
     ],
     "language": "python",
     "metadata": {},
     "outputs": [],
     "prompt_number": 84
    },
    {
     "cell_type": "code",
     "collapsed": false,
     "input": [
      "try:\n",
      "    me = User.objects.get(username='alexandre')\n",
      "except:\n",
      "    me = User(username='alexandre')\n",
      "    me.save()"
     ],
     "language": "python",
     "metadata": {},
     "outputs": [],
     "prompt_number": 3
    },
    {
     "cell_type": "code",
     "collapsed": false,
     "input": [
      "try:\n",
      "    typeProject = NodeType.get(name='Project')\n",
      "    typeCorpus  = NodeType.get(name='Corpus')\n",
      "    typeDoc     = NodeType.get(name='Document')\n",
      "except:\n",
      "    typeProject = NodeType(name='Project')\n",
      "    typeProject.save()\n",
      "    \n",
      "    typeCorpus  = NodeType(name='Corpus')\n",
      "    typeCorpus.save()\n",
      "    \n",
      "    typeDoc     = NodeType(name='Document')\n",
      "    typeDoc.save()"
     ],
     "language": "python",
     "metadata": {},
     "outputs": [],
     "prompt_number": 4
    },
    {
     "cell_type": "code",
     "collapsed": false,
     "input": [
      "try:\n",
      "    typePubmed = ResourceType.get(name='pubmed')\n",
      "    typeIsi    = ResourceType.get(name='isi')\n",
      "    typeRis    = ResourceType.get(name='ris')\n",
      "    typePresse = ResourceType.get(name='europress')\n",
      "except:\n",
      "    typePubmed = ResourceType(name='pubmed')\n",
      "    typePubmed.save()\n",
      "    \n",
      "    typeIsi    = ResourceType(name='isi')\n",
      "    typeIsi.save()\n",
      "    \n",
      "    typeRis    = ResourceType(name='ris')\n",
      "    typeRis.save()\n",
      "    \n",
      "    typePresse = ResourceType(name='europress')\n",
      "    typePresse.save()"
     ],
     "language": "python",
     "metadata": {},
     "outputs": [],
     "prompt_number": 106
    },
    {
     "cell_type": "code",
     "collapsed": false,
     "input": [
      "english = Language.objects.get(iso2='en')\n",
      "french  = Language.objects.get(iso2='fr')"
     ],
     "language": "python",
     "metadata": {},
     "outputs": [],
     "prompt_number": 86
    },
    {
     "cell_type": "code",
     "collapsed": false,
     "input": [
      "Node.objects.all().delete()"
     ],
     "language": "python",
     "metadata": {},
     "outputs": [],
     "prompt_number": 87
    },
    {
     "cell_type": "code",
     "collapsed": false,
     "input": [
      "try:\n",
      "    project = Node.objects.get(name='Bees project')\n",
      "except:\n",
      "    project = Node(name='Bees project', type=typeProject, user=me)\n",
      "    project.save()"
     ],
     "language": "python",
     "metadata": {},
     "outputs": [],
     "prompt_number": 88
    },
    {
     "cell_type": "markdown",
     "metadata": {},
     "source": [
      "### Pubmed"
     ]
    },
    {
     "cell_type": "code",
     "collapsed": false,
     "input": [
      "try:\n",
      "    corpus_pubmed = Node.objects.get(name='PubMed corpus')\n",
      "except:\n",
      "    corpus_pubmed = Node(parent=project, name='PubMed corpus', type=typeCorpus, user=me)\n",
      "    corpus_pubmed.save()"
     ],
     "language": "python",
     "metadata": {},
     "outputs": [],
     "prompt_number": 89
    },
    {
     "cell_type": "code",
     "collapsed": false,
     "input": [
      "corpus_pubmed.add_resource(file='/srv/gargantext_lib/data_samples/pubmed.zip', type=typePubmed)"
     ],
     "language": "python",
     "metadata": {},
     "outputs": [
      {
       "metadata": {},
       "output_type": "pyout",
       "prompt_number": 90,
       "text": [
        "<Resource: Resource object>"
       ]
      }
     ],
     "prompt_number": 90
    },
    {
     "cell_type": "code",
     "collapsed": false,
     "input": [
      "corpus_pubmed.parse_resources()\n",
      "corpus_pubmed.children.count()"
     ],
     "language": "python",
     "metadata": {},
     "outputs": [
      {
       "metadata": {},
       "output_type": "pyout",
       "prompt_number": 92,
       "text": [
        "81"
       ]
      }
     ],
     "prompt_number": 92
    },
    {
     "cell_type": "code",
     "collapsed": false,
     "input": [
      "corpus_pubmed.children.all().extract_ngrams(['title',])\n",
      "Node_Ngram.objects.filter(node=corpus_pubmed.children.all()[0]).count()"
     ],
     "language": "python",
     "metadata": {},
     "outputs": [
      {
       "metadata": {},
       "output_type": "pyout",
       "prompt_number": 102,
       "text": [
        "20"
       ]
      }
     ],
     "prompt_number": 102
    },
    {
     "cell_type": "markdown",
     "metadata": {},
     "source": [
      "### RIS"
     ]
    },
    {
     "cell_type": "code",
     "collapsed": false,
     "input": [
      "try:\n",
      "    corpus_ris = Node.objects.get(name='RIS corpus')\n",
      "except:\n",
      "    corpus_ris = Node(parent=project, name='RIS corpus', type=typeCorpus, user=me)\n",
      "    corpus_ris.save()"
     ],
     "language": "python",
     "metadata": {},
     "outputs": [],
     "prompt_number": 107
    },
    {
     "cell_type": "code",
     "collapsed": false,
     "input": [
      "corpus_ris.add_resource(file='/srv/gargantext_lib/data_samples/ris.zip', type=typeRis)"
     ],
     "language": "python",
     "metadata": {},
     "outputs": [
      {
       "metadata": {},
       "output_type": "pyout",
       "prompt_number": 108,
       "text": [
        "<Resource: Resource object>"
       ]
      }
     ],
     "prompt_number": 108
    },
    {
     "cell_type": "code",
     "collapsed": false,
     "input": [
      "corpus_ris.parse_resources()"
     ],
     "language": "python",
     "metadata": {},
     "outputs": [
      {
       "ename": "TypeError",
       "evalue": "'module' object is not callable",
       "output_type": "pyerr",
       "traceback": [
        "\u001b[1;31m---------------------------------------------------------------------------\u001b[0m\n\u001b[1;31mTypeError\u001b[0m                                 Traceback (most recent call last)",
        "\u001b[1;32m<ipython-input-109-332a5c86504d>\u001b[0m in \u001b[0;36m<module>\u001b[1;34m()\u001b[0m\n\u001b[1;32m----> 1\u001b[1;33m \u001b[0mcorpus_ris\u001b[0m\u001b[1;33m.\u001b[0m\u001b[0mparse_resources\u001b[0m\u001b[1;33m(\u001b[0m\u001b[1;33m)\u001b[0m\u001b[1;33m\u001b[0m\u001b[0m\n\u001b[0m",
        "\u001b[1;32m/srv/gargantext/node/models.py\u001b[0m in \u001b[0;36mparse_resources\u001b[1;34m(self)\u001b[0m\n\u001b[0;32m    118\u001b[0m                 \u001b[1;34m'isi'\u001b[0m       \u001b[1;33m:\u001b[0m \u001b[0mIsiFileParser\u001b[0m\u001b[1;33m,\u001b[0m\u001b[1;33m\u001b[0m\u001b[0m\n\u001b[0;32m    119\u001b[0m                 \u001b[1;34m'ris'\u001b[0m       \u001b[1;33m:\u001b[0m \u001b[0mRisFileParser\u001b[0m\u001b[1;33m,\u001b[0m\u001b[1;33m\u001b[0m\u001b[0m\n\u001b[1;32m--> 120\u001b[1;33m                 \u001b[1;34m'europress'\u001b[0m \u001b[1;33m:\u001b[0m \u001b[0mEuropressFileParser\u001b[0m\u001b[1;33m,\u001b[0m\u001b[1;33m\u001b[0m\u001b[0m\n\u001b[0m\u001b[0;32m    121\u001b[0m             })[resource.type.name]()\n\u001b[0;32m    122\u001b[0m             \u001b[0mmetadata_list\u001b[0m \u001b[1;33m+=\u001b[0m \u001b[0mparser\u001b[0m\u001b[1;33m.\u001b[0m\u001b[0mparse\u001b[0m\u001b[1;33m(\u001b[0m\u001b[0mstr\u001b[0m\u001b[1;33m(\u001b[0m\u001b[0mresource\u001b[0m\u001b[1;33m.\u001b[0m\u001b[0mfile\u001b[0m\u001b[1;33m)\u001b[0m\u001b[1;33m)\u001b[0m\u001b[1;33m\u001b[0m\u001b[0m\n",
        "\u001b[1;31mTypeError\u001b[0m: 'module' object is not callable"
       ]
      }
     ],
     "prompt_number": 109
    },
    {
     "cell_type": "markdown",
     "metadata": {},
     "source": [
      "### Science"
     ]
    },
    {
     "cell_type": "code",
     "collapsed": false,
     "input": [
      "try:\n",
      "    science = Node.objects.get(name='WOS corpus')\n",
      "except:\n",
      "    science = Node(parent=project, name='WOS corpus', type=typeCorpus, user=me)\n",
      "    science.save()"
     ],
     "language": "python",
     "metadata": {},
     "outputs": [],
     "prompt_number": 28
    },
    {
     "cell_type": "code",
     "collapsed": false,
     "input": [
      "science.add_resource(file='/srv/gargantext_lib/data_samples/isi.zip', type=typeIsi)"
     ],
     "language": "python",
     "metadata": {},
     "outputs": [
      {
       "metadata": {},
       "output_type": "pyout",
       "prompt_number": 44,
       "text": [
        "<Resource: Resource object>"
       ]
      }
     ],
     "prompt_number": 44
    },
    {
     "cell_type": "code",
     "collapsed": false,
     "input": [
      "science.parse_resources()"
     ],
     "language": "python",
     "metadata": {},
     "outputs": [],
     "prompt_number": 45
    },
    {
     "cell_type": "markdown",
     "metadata": {},
     "source": [
      "### Press"
     ]
    },
    {
     "cell_type": "code",
     "collapsed": false,
     "input": [
      "try:\n",
      "    presse = Node.objects.get(name='Presse corpus')\n",
      "except:\n",
      "    presse = Node(parent=project, name='Presse corpus', type=typeCorpus, user=me)\n",
      "    presse.save()"
     ],
     "language": "python",
     "metadata": {},
     "outputs": [],
     "prompt_number": 24
    },
    {
     "cell_type": "code",
     "collapsed": false,
     "input": [
      "presse.add_resource(file='/srv/gargantext_lib/data_samples/html/html_french.zip', type=typePresse)"
     ],
     "language": "python",
     "metadata": {},
     "outputs": [
      {
       "metadata": {},
       "output_type": "pyout",
       "prompt_number": 26,
       "text": [
        "<Resource: Resource object>"
       ]
      }
     ],
     "prompt_number": 26
    },
    {
     "cell_type": "code",
     "collapsed": false,
     "input": [
      "science.children.count()"
     ],
     "language": "python",
     "metadata": {},
     "outputs": [
      {
       "metadata": {},
       "output_type": "pyout",
       "prompt_number": 46,
       "text": [
        "18"
       ]
      }
     ],
     "prompt_number": 46
    },
    {
     "cell_type": "code",
     "collapsed": false,
     "input": [
      "science.children.all().extract_ngrams(['title',])"
     ],
     "language": "python",
     "metadata": {},
     "outputs": [
      {
       "ename": "NameError",
       "evalue": "name 'NgramsExtractor' is not defined",
       "output_type": "pyerr",
       "traceback": [
        "\u001b[1;31m---------------------------------------------------------------------------\u001b[0m\n\u001b[1;31mNameError\u001b[0m                                 Traceback (most recent call last)",
        "\u001b[1;32m<ipython-input-47-3f8afa316ad2>\u001b[0m in \u001b[0;36m<module>\u001b[1;34m()\u001b[0m\n\u001b[1;32m----> 1\u001b[1;33m \u001b[0mscience\u001b[0m\u001b[1;33m.\u001b[0m\u001b[0mchildren\u001b[0m\u001b[1;33m.\u001b[0m\u001b[0mall\u001b[0m\u001b[1;33m(\u001b[0m\u001b[1;33m)\u001b[0m\u001b[1;33m.\u001b[0m\u001b[0mextract_ngrams\u001b[0m\u001b[1;33m(\u001b[0m\u001b[1;33m[\u001b[0m\u001b[1;34m'title'\u001b[0m\u001b[1;33m,\u001b[0m\u001b[1;33m]\u001b[0m\u001b[1;33m)\u001b[0m\u001b[1;33m\u001b[0m\u001b[0m\n\u001b[0m",
        "\u001b[1;32m/srv/gargantext/node/models.py\u001b[0m in \u001b[0;36mextract_ngrams\u001b[1;34m(self, keys, ngramsextractorscache, ngramscaches)\u001b[0m\n\u001b[0;32m     62\u001b[0m             \u001b[0mngramscaches\u001b[0m \u001b[1;33m=\u001b[0m \u001b[0mNgramsCaches\u001b[0m\u001b[1;33m(\u001b[0m\u001b[1;33m)\u001b[0m\u001b[1;33m\u001b[0m\u001b[0m\n\u001b[0;32m     63\u001b[0m         \u001b[1;32mfor\u001b[0m \u001b[0mnode\u001b[0m \u001b[1;32min\u001b[0m \u001b[0mself\u001b[0m\u001b[1;33m:\u001b[0m\u001b[1;33m\u001b[0m\u001b[0m\n\u001b[1;32m---> 64\u001b[1;33m             \u001b[0mnode\u001b[0m\u001b[1;33m.\u001b[0m\u001b[0mextract_ngrams\u001b[0m\u001b[1;33m(\u001b[0m\u001b[0mkeys\u001b[0m\u001b[1;33m,\u001b[0m \u001b[0mngramsextractorscache\u001b[0m\u001b[1;33m,\u001b[0m \u001b[0mngramscaches\u001b[0m\u001b[1;33m)\u001b[0m\u001b[1;33m\u001b[0m\u001b[0m\n\u001b[0m\u001b[0;32m     65\u001b[0m \u001b[1;33m\u001b[0m\u001b[0m\n\u001b[0;32m     66\u001b[0m \u001b[1;32mclass\u001b[0m \u001b[0mNodeManager\u001b[0m\u001b[1;33m(\u001b[0m\u001b[0mmodels\u001b[0m\u001b[1;33m.\u001b[0m\u001b[0mManager\u001b[0m\u001b[1;33m)\u001b[0m\u001b[1;33m:\u001b[0m\u001b[1;33m\u001b[0m\u001b[0m\n",
        "\u001b[1;32m/srv/gargantext/node/models.py\u001b[0m in \u001b[0;36mextract_ngrams\u001b[1;34m(self, keys, ngramsextractorscache, ngramscaches)\u001b[0m\n\u001b[0;32m    144\u001b[0m         \u001b[1;32mif\u001b[0m \u001b[0mngramscaches\u001b[0m \u001b[1;32mis\u001b[0m \u001b[1;32mNone\u001b[0m\u001b[1;33m:\u001b[0m\u001b[1;33m\u001b[0m\u001b[0m\n\u001b[0;32m    145\u001b[0m             \u001b[0mngramscaches\u001b[0m \u001b[1;33m=\u001b[0m \u001b[0mNgramsCaches\u001b[0m\u001b[1;33m(\u001b[0m\u001b[1;33m)\u001b[0m\u001b[1;33m\u001b[0m\u001b[0m\n\u001b[1;32m--> 146\u001b[1;33m         \u001b[1;31m# what do we want from the cache?\u001b[0m\u001b[1;33m\u001b[0m\u001b[1;33m\u001b[0m\u001b[0m\n\u001b[0m\u001b[0;32m    147\u001b[0m         \u001b[0mextractor\u001b[0m \u001b[1;33m=\u001b[0m \u001b[0mngramsextractorscache\u001b[0m\u001b[1;33m[\u001b[0m\u001b[0mself\u001b[0m\u001b[1;33m.\u001b[0m\u001b[0mlanguage\u001b[0m\u001b[1;33m]\u001b[0m\u001b[1;33m\u001b[0m\u001b[0m\n\u001b[0;32m    148\u001b[0m         \u001b[0mngrams\u001b[0m \u001b[1;33m=\u001b[0m \u001b[0mngramscaches\u001b[0m\u001b[1;33m[\u001b[0m\u001b[0mself\u001b[0m\u001b[1;33m.\u001b[0m\u001b[0mlanguage\u001b[0m\u001b[1;33m]\u001b[0m\u001b[1;33m\u001b[0m\u001b[0m\n",
        "\u001b[1;32m/srv/gargantext/parsing/Caches.py\u001b[0m in \u001b[0;36m__missing__\u001b[1;34m(self, key)\u001b[0m\n\u001b[0;32m     53\u001b[0m             \u001b[0mExtractor\u001b[0m \u001b[1;33m=\u001b[0m \u001b[0mFrenchNgramsExtractor\u001b[0m\u001b[1;33m\u001b[0m\u001b[0m\n\u001b[0;32m     54\u001b[0m         \u001b[1;32melse\u001b[0m\u001b[1;33m:\u001b[0m\u001b[1;33m\u001b[0m\u001b[0m\n\u001b[1;32m---> 55\u001b[1;33m             \u001b[0mExtractor\u001b[0m \u001b[1;33m=\u001b[0m \u001b[0mNgramsExtractor\u001b[0m\u001b[1;33m\u001b[0m\u001b[0m\n\u001b[0m\u001b[0;32m     56\u001b[0m         \u001b[1;31m# try to see if already instanciated with another key\u001b[0m\u001b[1;33m\u001b[0m\u001b[1;33m\u001b[0m\u001b[0m\n\u001b[0;32m     57\u001b[0m         \u001b[0mfound\u001b[0m \u001b[1;33m=\u001b[0m \u001b[1;32mFalse\u001b[0m\u001b[1;33m\u001b[0m\u001b[0m\n",
        "\u001b[1;31mNameError\u001b[0m: name 'NgramsExtractor' is not defined"
       ]
      }
     ],
     "prompt_number": 47
    },
    {
     "cell_type": "code",
     "collapsed": false,
     "input": [
      "project.children.all()"
     ],
     "language": "python",
     "metadata": {},
     "outputs": [
      {
       "metadata": {},
       "output_type": "pyout",
       "prompt_number": 36,
       "text": [
        "[<Node: WOS corpus>, <Node: PubMed corpus>]"
       ]
      }
     ],
     "prompt_number": 36
    },
    {
     "cell_type": "code",
     "collapsed": false,
     "input": [
      "corpus.children.all()"
     ],
     "language": "python",
     "metadata": {},
     "outputs": [
      {
       "metadata": {},
       "output_type": "pyout",
       "prompt_number": 37,
       "text": [
        "[]"
       ]
      }
     ],
     "prompt_number": 37
    },
    {
     "cell_type": "code",
     "collapsed": false,
     "input": [],
     "language": "python",
     "metadata": {},
     "outputs": [],
     "prompt_number": 83
    },
    {
     "cell_type": "code",
     "collapsed": false,
     "input": [],
     "language": "python",
     "metadata": {},
     "outputs": [],
     "prompt_number": 84
    },
    {
     "cell_type": "code",
     "collapsed": false,
     "input": [
      "corpus.parse_resources()"
     ],
     "language": "python",
     "metadata": {},
     "outputs": [],
     "prompt_number": 39
    },
    {
     "cell_type": "code",
     "collapsed": false,
     "input": [
      "corpus.children.all().extract_ngrams(['abstract',])"
     ],
     "language": "python",
     "metadata": {},
     "outputs": [],
     "prompt_number": 40
    },
    {
     "cell_type": "code",
     "collapsed": false,
     "input": [
      "corpus.children.count()"
     ],
     "language": "python",
     "metadata": {},
     "outputs": [
      {
       "metadata": {},
       "output_type": "pyout",
       "prompt_number": 41,
       "text": [
        "0"
       ]
      }
     ],
     "prompt_number": 41
    },
    {
     "cell_type": "markdown",
     "metadata": {},
     "source": [
      "# Cr\u00e9ation des Listes"
     ]
    },
    {
     "cell_type": "code",
     "collapsed": false,
     "input": [
      "whitelist_type  = NodeType.objects.get(name='WhiteList')\n",
      "blacklist_type = NodeType.objects.get(name='BlackList')\n",
      "\n",
      "white_node = Node.objects.create(name='WhiteList Pubmed', user=user, parent=corpus, type=whitelist_type)\n",
      "black_node = Node.objects.create(name='BlackList Pubmed', user=user, parent=corpus, type=blacklist_type)"
     ],
     "language": "python",
     "metadata": {},
     "outputs": [],
     "prompt_number": 2
    },
    {
     "cell_type": "code",
     "collapsed": false,
     "input": [
      "Node_Ngram.objects.filter(node=white_node).count()"
     ],
     "language": "python",
     "metadata": {},
     "outputs": [
      {
       "metadata": {},
       "output_type": "pyout",
       "prompt_number": 97,
       "text": [
        "6111"
       ]
      }
     ],
     "prompt_number": 97
    },
    {
     "cell_type": "markdown",
     "metadata": {},
     "source": [
      "# Cr\u00e9ation de la white list"
     ]
    },
    {
     "cell_type": "code",
     "collapsed": false,
     "input": [
      "with transaction.atomic():\n",
      "    for node_ngram_object in Node_Ngram.objects.all()[:100]:\n",
      "        Node_Ngram.objects.create(node=white_node, ngram=node_ngram_object.ngram, occurences=1)"
     ],
     "language": "python",
     "metadata": {},
     "outputs": [],
     "prompt_number": 131
    },
    {
     "cell_type": "code",
     "collapsed": false,
     "input": [
      "Node_Ngram.objects.filter(node=white_node)"
     ],
     "language": "python",
     "metadata": {},
     "outputs": [
      {
       "metadata": {},
       "output_type": "pyout",
       "prompt_number": 132,
       "text": [
        "[<Node_Ngram: WhiteList Pubmed: infectious diseases>, <Node_Ngram: WhiteList Pubmed: animal kingdoms>, <Node_Ngram: WhiteList Pubmed: plant>, <Node_Ngram: WhiteList Pubmed: tobacco ringspot>, <Node_Ngram: WhiteList Pubmed: host populations>, <Node_Ngram: WhiteList Pubmed: bee hemolymph>, <Node_Ngram: WhiteList Pubmed: virions>, <Node_Ngram: WhiteList Pubmed: infections>, <Node_Ngram: WhiteList Pubmed: transkingdom host alteration>, <Node_Ngram: WhiteList Pubmed: virus>, <Node_Ngram: WhiteList Pubmed: phylogenetic analysis>, <Node_Ngram: WhiteList Pubmed: negative impact>, <Node_Ngram: WhiteList Pubmed: varroa mites>, <Node_Ngram: WhiteList Pubmed: significant source>, <Node_Ngram: WhiteList Pubmed: winter>, <Node_Ngram: WhiteList Pubmed: gastric cecum>, <Node_Ngram: WhiteList Pubmed: intracellular life cycle>, <Node_Ngram: WhiteList Pubmed: threat>, <Node_Ngram: WhiteList Pubmed: trsv>, <Node_Ngram: WhiteList Pubmed: spread>, '...(remaining elements truncated)...']"
       ]
      }
     ],
     "prompt_number": 132
    },
    {
     "cell_type": "markdown",
     "metadata": {},
     "source": [
      "# Cr\u00e9ation de la black list"
     ]
    },
    {
     "cell_type": "code",
     "collapsed": false,
     "input": [
      "with transaction.atomic():\n",
      "    for node_ngram_object in Node_Ngram.objects.all()[101:150]:\n",
      "        Node_Ngram.objects.create(node=black_node, ngram=node_ngram_object.ngram, occurences=1)"
     ],
     "language": "python",
     "metadata": {},
     "outputs": [],
     "prompt_number": 10
    },
    {
     "cell_type": "code",
     "collapsed": false,
     "input": [
      "Node_Ngram.objects.filter(node=black_node)"
     ],
     "language": "python",
     "metadata": {},
     "outputs": [
      {
       "metadata": {},
       "output_type": "pyout",
       "prompt_number": 12,
       "text": [
        "[<Node_Ngram: BlackList Pubmed: complete cessation>, <Node_Ngram: BlackList Pubmed: bee viruses>, <Node_Ngram: BlackList Pubmed: honey bee colonies>, <Node_Ngram: BlackList Pubmed: virus resistance>, <Node_Ngram: BlackList Pubmed: several honey bee viruses>, <Node_Ngram: BlackList Pubmed: experimental protocol>, <Node_Ngram: BlackList Pubmed: triggers>, <Node_Ngram: BlackList Pubmed: rna viruses>, <Node_Ngram: BlackList Pubmed: molecular pattern>, <Node_Ngram: BlackList Pubmed: correlates>, <Node_Ngram: BlackList Pubmed: honey bees>, <Node_Ngram: BlackList Pubmed: ccd>, <Node_Ngram: BlackList Pubmed: colonies>, <Node_Ngram: BlackList Pubmed: pathogens>, <Node_Ngram: BlackList Pubmed: viral pathogen>, <Node_Ngram: BlackList Pubmed: numerous agricultural crops>, <Node_Ngram: BlackList Pubmed: our results>, <Node_Ngram: BlackList Pubmed: infection>, <Node_Ngram: BlackList Pubmed: administration>, <Node_Ngram: BlackList Pubmed: work>, '...(remaining elements truncated)...']"
       ]
      }
     ],
     "prompt_number": 12
    },
    {
     "cell_type": "markdown",
     "metadata": {},
     "source": [
      "# Cr\u00e9ation des synonymes"
     ]
    },
    {
     "cell_type": "code",
     "collapsed": false,
     "input": [
      "syno_type  = NodeType.objects.get(name='Synonyme')\n",
      "syno_node = Node.objects.create(name='Syno Pubmed',\n",
      "                                user=user, \n",
      "                                parent=corpus, \n",
      "                                type=syno_type)"
     ],
     "language": "python",
     "metadata": {},
     "outputs": [],
     "prompt_number": 13
    },
    {
     "cell_type": "code",
     "collapsed": false,
     "input": [
      "synonyme1, synonyme2 = Node_Ngram.objects.filter(node=white_node)[3:5]"
     ],
     "language": "python",
     "metadata": {},
     "outputs": [],
     "prompt_number": 23
    },
    {
     "cell_type": "code",
     "collapsed": false,
     "input": [
      "NodeNgramNgram.objects.create(node=syno_node, ngramX=synonyme1.ngram, ngramY=synonyme2.ngram)"
     ],
     "language": "python",
     "metadata": {},
     "outputs": [
      {
       "metadata": {},
       "output_type": "pyout",
       "prompt_number": 24,
       "text": [
        "<NodeNgramNgram: Syno Pubmed: onset / process>"
       ]
      }
     ],
     "prompt_number": 24
    },
    {
     "cell_type": "markdown",
     "metadata": {},
     "source": [
      "# Cooccurrence"
     ]
    },
    {
     "cell_type": "code",
     "collapsed": false,
     "input": [
      "white_node.children.count()"
     ],
     "language": "python",
     "metadata": {},
     "outputs": [
      {
       "metadata": {},
       "output_type": "pyout",
       "prompt_number": 87,
       "text": [
        "0"
       ]
      }
     ],
     "prompt_number": 87
    },
    {
     "cell_type": "code",
     "collapsed": false,
     "input": [
      "black_node.pk"
     ],
     "language": "python",
     "metadata": {},
     "outputs": [
      {
       "metadata": {},
       "output_type": "pyout",
       "prompt_number": 33,
       "text": [
        "174"
       ]
      }
     ],
     "prompt_number": 33
    },
    {
     "cell_type": "code",
     "collapsed": false,
     "input": [
      "cooc_type  = NodeType.objects.get(name='Cooccurrence')"
     ],
     "language": "python",
     "metadata": {},
     "outputs": [],
     "prompt_number": 26
    },
    {
     "cell_type": "code",
     "collapsed": false,
     "input": [
      "cooc = Node.objects.create(user=user, parent=corpus, type=cooc_type, name=\"Cooccurrences calcul Alpha\")"
     ],
     "language": "python",
     "metadata": {},
     "outputs": [],
     "prompt_number": 135
    },
    {
     "cell_type": "code",
     "collapsed": false,
     "input": [
      "cooc.pk"
     ],
     "language": "python",
     "metadata": {},
     "outputs": [
      {
       "metadata": {},
       "output_type": "pyout",
       "prompt_number": 136,
       "text": [
        "178"
       ]
      }
     ],
     "prompt_number": 136
    },
    {
     "cell_type": "code",
     "collapsed": false,
     "input": [
      "white_node.children.all().delete()"
     ],
     "language": "python",
     "metadata": {},
     "outputs": [],
     "prompt_number": 35
    },
    {
     "cell_type": "code",
     "collapsed": false,
     "input": [
      "from django.db import connection\n",
      "cursor = connection.cursor()\n",
      "# LOCK TABLE documents_ngramtemporary IN EXCLUSIVE MODE;\n",
      "query_string = \"\"\"\n",
      "INSERT INTO node_nodengramngram (node_id, \"ngramX_id\", \"ngramY_id\", score)\n",
      "\n",
      "SELECT \n",
      "%d as node_id, x.ngram_id, y.ngram_id, COUNT(*) AS score\n",
      "\n",
      "FROM\n",
      "node_node_ngram AS x\n",
      "\n",
      "INNER JOIN \n",
      "node_node_ngram AS y \n",
      "ON x.node_id = y.node_id\n",
      "\n",
      "\n",
      "WHERE\n",
      "x.id in (select id from node_node_ngram WHERE node_id = %d )\n",
      "AND\n",
      "y.id in (select id from node_node_ngram WHERE node_id = %d )\n",
      "AND\n",
      "x.ngram_id <> y.ngram_id\n",
      "\n",
      "\n",
      "GROUP BY\n",
      "x.ngram_id, y.ngram_id\n",
      "\n",
      "HAVING score > 30\n",
      "\n",
      "LIMIT 10000\n",
      "\n",
      "             \"\"\" % (cooc.pk, white_node.pk, white_node.pk)\n",
      "\n",
      "cursor.execute(query_string)\n",
      "\n",
      "try:\n",
      "    while True:\n",
      "        row = cursor.fetchone()\n",
      "        if row is None:\n",
      "            break\n",
      "        print(row)\n",
      "except:\n",
      "    pass"
     ],
     "language": "python",
     "metadata": {},
     "outputs": [
      {
       "ename": "ProgrammingError",
       "evalue": "ERREUR:  la colonne \u00ab score \u00bb n'existe pas\nLINE 25: HAVING score > 30\n                ^\nHINT:  Il existe une colonne nomm\u00e9e \u00ab score \u00bb pour la table \u00ab node_nodengramngram \u00bb mais elle ne peut pas \u00eatre r\u00e9f\u00e9renc\u00e9e dans cette partie de la requ\u00eate.\n",
       "output_type": "pyerr",
       "traceback": [
        "\u001b[1;31m---------------------------------------------------------------------------\u001b[0m\n\u001b[1;31mProgrammingError\u001b[0m                          Traceback (most recent call last)",
        "\u001b[1;32m<ipython-input-167-56489d11082a>\u001b[0m in \u001b[0;36m<module>\u001b[1;34m()\u001b[0m\n\u001b[0;32m     31\u001b[0m              \"\"\" % (cooc.pk, white_node.pk, white_node.pk)\n\u001b[0;32m     32\u001b[0m \u001b[1;33m\u001b[0m\u001b[0m\n\u001b[1;32m---> 33\u001b[1;33m \u001b[0mcursor\u001b[0m\u001b[1;33m.\u001b[0m\u001b[0mexecute\u001b[0m\u001b[1;33m(\u001b[0m\u001b[0mquery_string\u001b[0m\u001b[1;33m)\u001b[0m\u001b[1;33m\u001b[0m\u001b[0m\n\u001b[0m\u001b[0;32m     34\u001b[0m \u001b[1;33m\u001b[0m\u001b[0m\n\u001b[0;32m     35\u001b[0m \u001b[1;32mtry\u001b[0m\u001b[1;33m:\u001b[0m\u001b[1;33m\u001b[0m\u001b[0m\n",
        "\u001b[1;32m/home/alexandre/projets/gargantext.py/env/lib/python3.4/site-packages/django/db/backends/util.py\u001b[0m in \u001b[0;36mexecute\u001b[1;34m(self, sql, params)\u001b[0m\n\u001b[0;32m     67\u001b[0m         \u001b[0mstart\u001b[0m \u001b[1;33m=\u001b[0m \u001b[0mtime\u001b[0m\u001b[1;33m(\u001b[0m\u001b[1;33m)\u001b[0m\u001b[1;33m\u001b[0m\u001b[0m\n\u001b[0;32m     68\u001b[0m         \u001b[1;32mtry\u001b[0m\u001b[1;33m:\u001b[0m\u001b[1;33m\u001b[0m\u001b[0m\n\u001b[1;32m---> 69\u001b[1;33m             \u001b[1;32mreturn\u001b[0m \u001b[0msuper\u001b[0m\u001b[1;33m(\u001b[0m\u001b[0mCursorDebugWrapper\u001b[0m\u001b[1;33m,\u001b[0m \u001b[0mself\u001b[0m\u001b[1;33m)\u001b[0m\u001b[1;33m.\u001b[0m\u001b[0mexecute\u001b[0m\u001b[1;33m(\u001b[0m\u001b[0msql\u001b[0m\u001b[1;33m,\u001b[0m \u001b[0mparams\u001b[0m\u001b[1;33m)\u001b[0m\u001b[1;33m\u001b[0m\u001b[0m\n\u001b[0m\u001b[0;32m     70\u001b[0m         \u001b[1;32mfinally\u001b[0m\u001b[1;33m:\u001b[0m\u001b[1;33m\u001b[0m\u001b[0m\n\u001b[0;32m     71\u001b[0m             \u001b[0mstop\u001b[0m \u001b[1;33m=\u001b[0m \u001b[0mtime\u001b[0m\u001b[1;33m(\u001b[0m\u001b[1;33m)\u001b[0m\u001b[1;33m\u001b[0m\u001b[0m\n",
        "\u001b[1;32m/home/alexandre/projets/gargantext.py/env/lib/python3.4/site-packages/django/db/backends/util.py\u001b[0m in \u001b[0;36mexecute\u001b[1;34m(self, sql, params)\u001b[0m\n\u001b[0;32m     51\u001b[0m                 \u001b[1;32mreturn\u001b[0m \u001b[0mself\u001b[0m\u001b[1;33m.\u001b[0m\u001b[0mcursor\u001b[0m\u001b[1;33m.\u001b[0m\u001b[0mexecute\u001b[0m\u001b[1;33m(\u001b[0m\u001b[0msql\u001b[0m\u001b[1;33m)\u001b[0m\u001b[1;33m\u001b[0m\u001b[0m\n\u001b[0;32m     52\u001b[0m             \u001b[1;32melse\u001b[0m\u001b[1;33m:\u001b[0m\u001b[1;33m\u001b[0m\u001b[0m\n\u001b[1;32m---> 53\u001b[1;33m                 \u001b[1;32mreturn\u001b[0m \u001b[0mself\u001b[0m\u001b[1;33m.\u001b[0m\u001b[0mcursor\u001b[0m\u001b[1;33m.\u001b[0m\u001b[0mexecute\u001b[0m\u001b[1;33m(\u001b[0m\u001b[0msql\u001b[0m\u001b[1;33m,\u001b[0m \u001b[0mparams\u001b[0m\u001b[1;33m)\u001b[0m\u001b[1;33m\u001b[0m\u001b[0m\n\u001b[0m\u001b[0;32m     54\u001b[0m \u001b[1;33m\u001b[0m\u001b[0m\n\u001b[0;32m     55\u001b[0m     \u001b[1;32mdef\u001b[0m \u001b[0mexecutemany\u001b[0m\u001b[1;33m(\u001b[0m\u001b[0mself\u001b[0m\u001b[1;33m,\u001b[0m \u001b[0msql\u001b[0m\u001b[1;33m,\u001b[0m \u001b[0mparam_list\u001b[0m\u001b[1;33m)\u001b[0m\u001b[1;33m:\u001b[0m\u001b[1;33m\u001b[0m\u001b[0m\n",
        "\u001b[1;32m/home/alexandre/projets/gargantext.py/env/lib/python3.4/site-packages/django/db/utils.py\u001b[0m in \u001b[0;36m__exit__\u001b[1;34m(self, exc_type, exc_value, traceback)\u001b[0m\n\u001b[0;32m     97\u001b[0m                 \u001b[1;32mif\u001b[0m \u001b[0mdj_exc_type\u001b[0m \u001b[1;32mnot\u001b[0m \u001b[1;32min\u001b[0m \u001b[1;33m(\u001b[0m\u001b[0mDataError\u001b[0m\u001b[1;33m,\u001b[0m \u001b[0mIntegrityError\u001b[0m\u001b[1;33m)\u001b[0m\u001b[1;33m:\u001b[0m\u001b[1;33m\u001b[0m\u001b[0m\n\u001b[0;32m     98\u001b[0m                     \u001b[0mself\u001b[0m\u001b[1;33m.\u001b[0m\u001b[0mwrapper\u001b[0m\u001b[1;33m.\u001b[0m\u001b[0merrors_occurred\u001b[0m \u001b[1;33m=\u001b[0m \u001b[1;32mTrue\u001b[0m\u001b[1;33m\u001b[0m\u001b[0m\n\u001b[1;32m---> 99\u001b[1;33m                 \u001b[0msix\u001b[0m\u001b[1;33m.\u001b[0m\u001b[0mreraise\u001b[0m\u001b[1;33m(\u001b[0m\u001b[0mdj_exc_type\u001b[0m\u001b[1;33m,\u001b[0m \u001b[0mdj_exc_value\u001b[0m\u001b[1;33m,\u001b[0m \u001b[0mtraceback\u001b[0m\u001b[1;33m)\u001b[0m\u001b[1;33m\u001b[0m\u001b[0m\n\u001b[0m\u001b[0;32m    100\u001b[0m \u001b[1;33m\u001b[0m\u001b[0m\n\u001b[0;32m    101\u001b[0m     \u001b[1;32mdef\u001b[0m \u001b[0m__call__\u001b[0m\u001b[1;33m(\u001b[0m\u001b[0mself\u001b[0m\u001b[1;33m,\u001b[0m \u001b[0mfunc\u001b[0m\u001b[1;33m)\u001b[0m\u001b[1;33m:\u001b[0m\u001b[1;33m\u001b[0m\u001b[0m\n",
        "\u001b[1;32m/home/alexandre/projets/gargantext.py/env/lib/python3.4/site-packages/django/utils/six.py\u001b[0m in \u001b[0;36mreraise\u001b[1;34m(tp, value, tb)\u001b[0m\n\u001b[0;32m    547\u001b[0m     \u001b[1;32mdef\u001b[0m \u001b[0mreraise\u001b[0m\u001b[1;33m(\u001b[0m\u001b[0mtp\u001b[0m\u001b[1;33m,\u001b[0m \u001b[0mvalue\u001b[0m\u001b[1;33m,\u001b[0m \u001b[0mtb\u001b[0m\u001b[1;33m=\u001b[0m\u001b[1;32mNone\u001b[0m\u001b[1;33m)\u001b[0m\u001b[1;33m:\u001b[0m\u001b[1;33m\u001b[0m\u001b[0m\n\u001b[0;32m    548\u001b[0m         \u001b[1;32mif\u001b[0m \u001b[0mvalue\u001b[0m\u001b[1;33m.\u001b[0m\u001b[0m__traceback__\u001b[0m \u001b[1;32mis\u001b[0m \u001b[1;32mnot\u001b[0m \u001b[0mtb\u001b[0m\u001b[1;33m:\u001b[0m\u001b[1;33m\u001b[0m\u001b[0m\n\u001b[1;32m--> 549\u001b[1;33m             \u001b[1;32mraise\u001b[0m \u001b[0mvalue\u001b[0m\u001b[1;33m.\u001b[0m\u001b[0mwith_traceback\u001b[0m\u001b[1;33m(\u001b[0m\u001b[0mtb\u001b[0m\u001b[1;33m)\u001b[0m\u001b[1;33m\u001b[0m\u001b[0m\n\u001b[0m\u001b[0;32m    550\u001b[0m         \u001b[1;32mraise\u001b[0m \u001b[0mvalue\u001b[0m\u001b[1;33m\u001b[0m\u001b[0m\n\u001b[0;32m    551\u001b[0m \u001b[1;33m\u001b[0m\u001b[0m\n",
        "\u001b[1;32m/home/alexandre/projets/gargantext.py/env/lib/python3.4/site-packages/django/db/backends/util.py\u001b[0m in \u001b[0;36mexecute\u001b[1;34m(self, sql, params)\u001b[0m\n\u001b[0;32m     49\u001b[0m         \u001b[1;32mwith\u001b[0m \u001b[0mself\u001b[0m\u001b[1;33m.\u001b[0m\u001b[0mdb\u001b[0m\u001b[1;33m.\u001b[0m\u001b[0mwrap_database_errors\u001b[0m\u001b[1;33m:\u001b[0m\u001b[1;33m\u001b[0m\u001b[0m\n\u001b[0;32m     50\u001b[0m             \u001b[1;32mif\u001b[0m \u001b[0mparams\u001b[0m \u001b[1;32mis\u001b[0m \u001b[1;32mNone\u001b[0m\u001b[1;33m:\u001b[0m\u001b[1;33m\u001b[0m\u001b[0m\n\u001b[1;32m---> 51\u001b[1;33m                 \u001b[1;32mreturn\u001b[0m \u001b[0mself\u001b[0m\u001b[1;33m.\u001b[0m\u001b[0mcursor\u001b[0m\u001b[1;33m.\u001b[0m\u001b[0mexecute\u001b[0m\u001b[1;33m(\u001b[0m\u001b[0msql\u001b[0m\u001b[1;33m)\u001b[0m\u001b[1;33m\u001b[0m\u001b[0m\n\u001b[0m\u001b[0;32m     52\u001b[0m             \u001b[1;32melse\u001b[0m\u001b[1;33m:\u001b[0m\u001b[1;33m\u001b[0m\u001b[0m\n\u001b[0;32m     53\u001b[0m                 \u001b[1;32mreturn\u001b[0m \u001b[0mself\u001b[0m\u001b[1;33m.\u001b[0m\u001b[0mcursor\u001b[0m\u001b[1;33m.\u001b[0m\u001b[0mexecute\u001b[0m\u001b[1;33m(\u001b[0m\u001b[0msql\u001b[0m\u001b[1;33m,\u001b[0m \u001b[0mparams\u001b[0m\u001b[1;33m)\u001b[0m\u001b[1;33m\u001b[0m\u001b[0m\n",
        "\u001b[1;31mProgrammingError\u001b[0m: ERREUR:  la colonne \u00ab score \u00bb n'existe pas\nLINE 25: HAVING score > 30\n                ^\nHINT:  Il existe une colonne nomm\u00e9e \u00ab score \u00bb pour la table \u00ab node_nodengramngram \u00bb mais elle ne peut pas \u00eatre r\u00e9f\u00e9renc\u00e9e dans cette partie de la requ\u00eate.\n"
       ]
      }
     ],
     "prompt_number": 167
    },
    {
     "cell_type": "code",
     "collapsed": false,
     "input": [],
     "language": "python",
     "metadata": {},
     "outputs": [],
     "prompt_number": 47
    },
    {
     "cell_type": "code",
     "collapsed": false,
     "input": [],
     "language": "python",
     "metadata": {},
     "outputs": [],
     "prompt_number": 52
    },
    {
     "cell_type": "code",
     "collapsed": false,
     "input": [
      "import numpy as np\n",
      "import pandas as pd\n",
      "import networkx as nx\n",
      "from collections import defaultdict"
     ],
     "language": "python",
     "metadata": {},
     "outputs": [],
     "prompt_number": 165
    },
    {
     "cell_type": "code",
     "collapsed": false,
     "input": [
      "matrix = defaultdict(lambda : defaultdict(float))"
     ],
     "language": "python",
     "metadata": {},
     "outputs": [],
     "prompt_number": 150
    },
    {
     "cell_type": "code",
     "collapsed": false,
     "input": [],
     "language": "python",
     "metadata": {},
     "outputs": [],
     "prompt_number": 150
    },
    {
     "cell_type": "code",
     "collapsed": false,
     "input": [
      "for cooccurrence in NodeNgramNgram.objects.filter(node=cooc):\n",
      "    if cooccurrence.score > 5:\n",
      "        #print(x.ngramX.terms, x.ngramY.terms)\n",
      "        matrix[cooccurrence.ngramX.terms][cooccurrence.ngramY.terms] = x.score\n",
      "        "
     ],
     "language": "python",
     "metadata": {},
     "outputs": [],
     "prompt_number": 151
    },
    {
     "cell_type": "code",
     "collapsed": false,
     "input": [
      "df = pd.DataFrame(matrix).T.fillna(0)\n",
      "df"
     ],
     "language": "python",
     "metadata": {},
     "outputs": [
      {
       "html": [
        "<div style=\"max-height:1000px;max-width:1500px;overflow:auto;\">\n",
        "<table border=\"1\" class=\"dataframe\">\n",
        "  <thead>\n",
        "    <tr style=\"text-align: right;\">\n",
        "      <th></th>\n",
        "      <th>\"</th>\n",
        "      <th>\" neonicotinoid</th>\n",
        "      <th>\" possible</th>\n",
        "      <th>\" probable</th>\n",
        "      <th>( reports</th>\n",
        "      <th>)</th>\n",
        "      <th>1-year period</th>\n",
        "      <th>10-month period</th>\n",
        "      <th>&lt;</th>\n",
        "      <th>abdomen</th>\n",
        "      <th>...</th>\n",
        "      <th>worldwide pollinator</th>\n",
        "      <th>worst losses</th>\n",
        "      <th>xylem</th>\n",
        "      <th>year</th>\n",
        "      <th>year period</th>\n",
        "      <th>years</th>\n",
        "      <th>yet controversy</th>\n",
        "      <th>younger ages</th>\n",
        "      <th>\u03b4ct levels</th>\n",
        "      <th>\u03bcg kg</th>\n",
        "    </tr>\n",
        "  </thead>\n",
        "  <tbody>\n",
        "    <tr>\n",
        "      <th>animal kingdoms</th>\n",
        "      <td> 40</td>\n",
        "      <td> 40</td>\n",
        "      <td> 40</td>\n",
        "      <td> 40</td>\n",
        "      <td> 40</td>\n",
        "      <td> 40</td>\n",
        "      <td> 40</td>\n",
        "      <td> 40</td>\n",
        "      <td> 40</td>\n",
        "      <td> 40</td>\n",
        "      <td>...</td>\n",
        "      <td> 40</td>\n",
        "      <td> 40</td>\n",
        "      <td> 40</td>\n",
        "      <td> 40</td>\n",
        "      <td> 40</td>\n",
        "      <td> 40</td>\n",
        "      <td> 40</td>\n",
        "      <td> 40</td>\n",
        "      <td> 40</td>\n",
        "      <td> 40</td>\n",
        "    </tr>\n",
        "    <tr>\n",
        "      <th>bee hemolymph</th>\n",
        "      <td> 40</td>\n",
        "      <td> 40</td>\n",
        "      <td> 40</td>\n",
        "      <td> 40</td>\n",
        "      <td> 40</td>\n",
        "      <td> 40</td>\n",
        "      <td> 40</td>\n",
        "      <td> 40</td>\n",
        "      <td> 40</td>\n",
        "      <td> 40</td>\n",
        "      <td>...</td>\n",
        "      <td> 40</td>\n",
        "      <td> 40</td>\n",
        "      <td> 40</td>\n",
        "      <td> 40</td>\n",
        "      <td> 40</td>\n",
        "      <td> 40</td>\n",
        "      <td> 40</td>\n",
        "      <td> 40</td>\n",
        "      <td> 40</td>\n",
        "      <td> 40</td>\n",
        "    </tr>\n",
        "    <tr>\n",
        "      <th>colonies</th>\n",
        "      <td> 40</td>\n",
        "      <td> 40</td>\n",
        "      <td> 40</td>\n",
        "      <td> 40</td>\n",
        "      <td> 40</td>\n",
        "      <td> 40</td>\n",
        "      <td> 40</td>\n",
        "      <td> 40</td>\n",
        "      <td> 40</td>\n",
        "      <td> 40</td>\n",
        "      <td>...</td>\n",
        "      <td> 40</td>\n",
        "      <td> 40</td>\n",
        "      <td> 40</td>\n",
        "      <td> 40</td>\n",
        "      <td> 40</td>\n",
        "      <td> 40</td>\n",
        "      <td> 40</td>\n",
        "      <td> 40</td>\n",
        "      <td> 40</td>\n",
        "      <td> 40</td>\n",
        "    </tr>\n",
        "    <tr>\n",
        "      <th>gastric cecum</th>\n",
        "      <td>  0</td>\n",
        "      <td> 40</td>\n",
        "      <td> 40</td>\n",
        "      <td> 40</td>\n",
        "      <td>  0</td>\n",
        "      <td> 40</td>\n",
        "      <td>  0</td>\n",
        "      <td>  0</td>\n",
        "      <td>  0</td>\n",
        "      <td> 40</td>\n",
        "      <td>...</td>\n",
        "      <td>  0</td>\n",
        "      <td>  0</td>\n",
        "      <td>  0</td>\n",
        "      <td>  0</td>\n",
        "      <td>  0</td>\n",
        "      <td> 40</td>\n",
        "      <td>  0</td>\n",
        "      <td>  0</td>\n",
        "      <td>  0</td>\n",
        "      <td>  0</td>\n",
        "    </tr>\n",
        "    <tr>\n",
        "      <th>health</th>\n",
        "      <td> 40</td>\n",
        "      <td> 40</td>\n",
        "      <td> 40</td>\n",
        "      <td> 40</td>\n",
        "      <td> 40</td>\n",
        "      <td> 40</td>\n",
        "      <td> 40</td>\n",
        "      <td> 40</td>\n",
        "      <td> 40</td>\n",
        "      <td> 40</td>\n",
        "      <td>...</td>\n",
        "      <td> 40</td>\n",
        "      <td> 40</td>\n",
        "      <td> 40</td>\n",
        "      <td> 40</td>\n",
        "      <td> 40</td>\n",
        "      <td> 40</td>\n",
        "      <td> 40</td>\n",
        "      <td> 40</td>\n",
        "      <td> 40</td>\n",
        "      <td> 40</td>\n",
        "    </tr>\n",
        "    <tr>\n",
        "      <th>host populations</th>\n",
        "      <td> 40</td>\n",
        "      <td> 40</td>\n",
        "      <td> 40</td>\n",
        "      <td> 40</td>\n",
        "      <td> 40</td>\n",
        "      <td> 40</td>\n",
        "      <td> 40</td>\n",
        "      <td> 40</td>\n",
        "      <td> 40</td>\n",
        "      <td> 40</td>\n",
        "      <td>...</td>\n",
        "      <td> 40</td>\n",
        "      <td> 40</td>\n",
        "      <td> 40</td>\n",
        "      <td> 40</td>\n",
        "      <td> 40</td>\n",
        "      <td> 40</td>\n",
        "      <td> 40</td>\n",
        "      <td> 40</td>\n",
        "      <td> 40</td>\n",
        "      <td> 40</td>\n",
        "    </tr>\n",
        "    <tr>\n",
        "      <th>infections</th>\n",
        "      <td> 40</td>\n",
        "      <td> 40</td>\n",
        "      <td> 40</td>\n",
        "      <td> 40</td>\n",
        "      <td> 40</td>\n",
        "      <td> 40</td>\n",
        "      <td> 40</td>\n",
        "      <td> 40</td>\n",
        "      <td> 40</td>\n",
        "      <td> 40</td>\n",
        "      <td>...</td>\n",
        "      <td> 40</td>\n",
        "      <td> 40</td>\n",
        "      <td> 40</td>\n",
        "      <td> 40</td>\n",
        "      <td> 40</td>\n",
        "      <td> 40</td>\n",
        "      <td> 40</td>\n",
        "      <td> 40</td>\n",
        "      <td> 40</td>\n",
        "      <td> 40</td>\n",
        "    </tr>\n",
        "    <tr>\n",
        "      <th>infectious diseases</th>\n",
        "      <td> 40</td>\n",
        "      <td> 40</td>\n",
        "      <td> 40</td>\n",
        "      <td> 40</td>\n",
        "      <td> 40</td>\n",
        "      <td> 40</td>\n",
        "      <td> 40</td>\n",
        "      <td> 40</td>\n",
        "      <td> 40</td>\n",
        "      <td> 40</td>\n",
        "      <td>...</td>\n",
        "      <td> 40</td>\n",
        "      <td> 40</td>\n",
        "      <td> 40</td>\n",
        "      <td> 40</td>\n",
        "      <td> 40</td>\n",
        "      <td> 40</td>\n",
        "      <td> 40</td>\n",
        "      <td> 40</td>\n",
        "      <td> 40</td>\n",
        "      <td> 40</td>\n",
        "    </tr>\n",
        "    <tr>\n",
        "      <th>intracellular life cycle</th>\n",
        "      <td>  0</td>\n",
        "      <td> 40</td>\n",
        "      <td> 40</td>\n",
        "      <td> 40</td>\n",
        "      <td>  0</td>\n",
        "      <td> 40</td>\n",
        "      <td>  0</td>\n",
        "      <td>  0</td>\n",
        "      <td>  0</td>\n",
        "      <td> 40</td>\n",
        "      <td>...</td>\n",
        "      <td>  0</td>\n",
        "      <td>  0</td>\n",
        "      <td>  0</td>\n",
        "      <td>  0</td>\n",
        "      <td>  0</td>\n",
        "      <td> 40</td>\n",
        "      <td>  0</td>\n",
        "      <td>  0</td>\n",
        "      <td>  0</td>\n",
        "      <td>  0</td>\n",
        "    </tr>\n",
        "    <tr>\n",
        "      <th>negative impact</th>\n",
        "      <td>  0</td>\n",
        "      <td> 40</td>\n",
        "      <td> 40</td>\n",
        "      <td> 40</td>\n",
        "      <td>  0</td>\n",
        "      <td> 40</td>\n",
        "      <td>  0</td>\n",
        "      <td>  0</td>\n",
        "      <td>  0</td>\n",
        "      <td> 40</td>\n",
        "      <td>...</td>\n",
        "      <td>  0</td>\n",
        "      <td>  0</td>\n",
        "      <td>  0</td>\n",
        "      <td>  0</td>\n",
        "      <td>  0</td>\n",
        "      <td> 40</td>\n",
        "      <td>  0</td>\n",
        "      <td>  0</td>\n",
        "      <td>  0</td>\n",
        "      <td>  0</td>\n",
        "    </tr>\n",
        "    <tr>\n",
        "      <th>phylogenetic analysis</th>\n",
        "      <td> 40</td>\n",
        "      <td> 40</td>\n",
        "      <td> 40</td>\n",
        "      <td> 40</td>\n",
        "      <td> 40</td>\n",
        "      <td> 40</td>\n",
        "      <td> 40</td>\n",
        "      <td> 40</td>\n",
        "      <td> 40</td>\n",
        "      <td> 40</td>\n",
        "      <td>...</td>\n",
        "      <td> 40</td>\n",
        "      <td> 40</td>\n",
        "      <td> 40</td>\n",
        "      <td> 40</td>\n",
        "      <td> 40</td>\n",
        "      <td> 40</td>\n",
        "      <td> 40</td>\n",
        "      <td> 40</td>\n",
        "      <td> 40</td>\n",
        "      <td> 40</td>\n",
        "    </tr>\n",
        "    <tr>\n",
        "      <th>plant</th>\n",
        "      <td> 40</td>\n",
        "      <td> 40</td>\n",
        "      <td> 40</td>\n",
        "      <td> 40</td>\n",
        "      <td> 40</td>\n",
        "      <td> 40</td>\n",
        "      <td> 40</td>\n",
        "      <td> 40</td>\n",
        "      <td> 40</td>\n",
        "      <td> 40</td>\n",
        "      <td>...</td>\n",
        "      <td> 40</td>\n",
        "      <td> 40</td>\n",
        "      <td> 40</td>\n",
        "      <td> 40</td>\n",
        "      <td> 40</td>\n",
        "      <td> 40</td>\n",
        "      <td> 40</td>\n",
        "      <td> 40</td>\n",
        "      <td> 40</td>\n",
        "      <td> 40</td>\n",
        "    </tr>\n",
        "    <tr>\n",
        "      <th>result</th>\n",
        "      <td> 40</td>\n",
        "      <td> 40</td>\n",
        "      <td> 40</td>\n",
        "      <td> 40</td>\n",
        "      <td> 40</td>\n",
        "      <td> 40</td>\n",
        "      <td> 40</td>\n",
        "      <td> 40</td>\n",
        "      <td> 40</td>\n",
        "      <td> 40</td>\n",
        "      <td>...</td>\n",
        "      <td> 40</td>\n",
        "      <td> 40</td>\n",
        "      <td> 40</td>\n",
        "      <td> 40</td>\n",
        "      <td> 40</td>\n",
        "      <td> 40</td>\n",
        "      <td> 40</td>\n",
        "      <td> 40</td>\n",
        "      <td> 40</td>\n",
        "      <td> 40</td>\n",
        "    </tr>\n",
        "    <tr>\n",
        "      <th>significant source</th>\n",
        "      <td>  0</td>\n",
        "      <td> 40</td>\n",
        "      <td> 40</td>\n",
        "      <td> 40</td>\n",
        "      <td>  0</td>\n",
        "      <td> 40</td>\n",
        "      <td>  0</td>\n",
        "      <td>  0</td>\n",
        "      <td>  0</td>\n",
        "      <td> 40</td>\n",
        "      <td>...</td>\n",
        "      <td>  0</td>\n",
        "      <td>  0</td>\n",
        "      <td>  0</td>\n",
        "      <td>  0</td>\n",
        "      <td>  0</td>\n",
        "      <td> 40</td>\n",
        "      <td>  0</td>\n",
        "      <td>  0</td>\n",
        "      <td>  0</td>\n",
        "      <td>  0</td>\n",
        "    </tr>\n",
        "    <tr>\n",
        "      <th>spread</th>\n",
        "      <td> 40</td>\n",
        "      <td> 40</td>\n",
        "      <td> 40</td>\n",
        "      <td> 40</td>\n",
        "      <td> 40</td>\n",
        "      <td> 40</td>\n",
        "      <td> 40</td>\n",
        "      <td> 40</td>\n",
        "      <td> 40</td>\n",
        "      <td> 40</td>\n",
        "      <td>...</td>\n",
        "      <td> 40</td>\n",
        "      <td> 40</td>\n",
        "      <td> 40</td>\n",
        "      <td> 40</td>\n",
        "      <td> 40</td>\n",
        "      <td> 40</td>\n",
        "      <td> 40</td>\n",
        "      <td> 40</td>\n",
        "      <td> 40</td>\n",
        "      <td> 40</td>\n",
        "    </tr>\n",
        "    <tr>\n",
        "      <th>threat</th>\n",
        "      <td>  0</td>\n",
        "      <td> 40</td>\n",
        "      <td> 40</td>\n",
        "      <td> 40</td>\n",
        "      <td>  0</td>\n",
        "      <td> 40</td>\n",
        "      <td>  0</td>\n",
        "      <td>  0</td>\n",
        "      <td>  0</td>\n",
        "      <td> 40</td>\n",
        "      <td>...</td>\n",
        "      <td>  0</td>\n",
        "      <td>  0</td>\n",
        "      <td>  0</td>\n",
        "      <td>  0</td>\n",
        "      <td>  0</td>\n",
        "      <td> 40</td>\n",
        "      <td>  0</td>\n",
        "      <td>  0</td>\n",
        "      <td>  0</td>\n",
        "      <td>  0</td>\n",
        "    </tr>\n",
        "    <tr>\n",
        "      <th>tobacco ringspot</th>\n",
        "      <td> 40</td>\n",
        "      <td> 40</td>\n",
        "      <td> 40</td>\n",
        "      <td> 40</td>\n",
        "      <td> 40</td>\n",
        "      <td> 40</td>\n",
        "      <td> 40</td>\n",
        "      <td> 40</td>\n",
        "      <td> 40</td>\n",
        "      <td> 40</td>\n",
        "      <td>...</td>\n",
        "      <td> 40</td>\n",
        "      <td> 40</td>\n",
        "      <td> 40</td>\n",
        "      <td> 40</td>\n",
        "      <td> 40</td>\n",
        "      <td> 40</td>\n",
        "      <td> 40</td>\n",
        "      <td> 40</td>\n",
        "      <td> 40</td>\n",
        "      <td> 40</td>\n",
        "    </tr>\n",
        "    <tr>\n",
        "      <th>transkingdom host alteration</th>\n",
        "      <td> 40</td>\n",
        "      <td> 40</td>\n",
        "      <td> 40</td>\n",
        "      <td> 40</td>\n",
        "      <td> 40</td>\n",
        "      <td> 40</td>\n",
        "      <td> 40</td>\n",
        "      <td> 40</td>\n",
        "      <td> 40</td>\n",
        "      <td> 40</td>\n",
        "      <td>...</td>\n",
        "      <td> 40</td>\n",
        "      <td> 40</td>\n",
        "      <td> 40</td>\n",
        "      <td> 40</td>\n",
        "      <td> 40</td>\n",
        "      <td> 40</td>\n",
        "      <td> 40</td>\n",
        "      <td> 40</td>\n",
        "      <td> 40</td>\n",
        "      <td> 40</td>\n",
        "    </tr>\n",
        "    <tr>\n",
        "      <th>tree topology</th>\n",
        "      <td>  0</td>\n",
        "      <td> 40</td>\n",
        "      <td> 40</td>\n",
        "      <td> 40</td>\n",
        "      <td>  0</td>\n",
        "      <td> 40</td>\n",
        "      <td>  0</td>\n",
        "      <td>  0</td>\n",
        "      <td>  0</td>\n",
        "      <td> 40</td>\n",
        "      <td>...</td>\n",
        "      <td>  0</td>\n",
        "      <td>  0</td>\n",
        "      <td>  0</td>\n",
        "      <td>  0</td>\n",
        "      <td>  0</td>\n",
        "      <td> 40</td>\n",
        "      <td>  0</td>\n",
        "      <td>  0</td>\n",
        "      <td>  0</td>\n",
        "      <td>  0</td>\n",
        "    </tr>\n",
        "    <tr>\n",
        "      <th>trsv</th>\n",
        "      <td>  0</td>\n",
        "      <td> 40</td>\n",
        "      <td> 40</td>\n",
        "      <td> 40</td>\n",
        "      <td>  0</td>\n",
        "      <td> 40</td>\n",
        "      <td>  0</td>\n",
        "      <td>  0</td>\n",
        "      <td>  0</td>\n",
        "      <td> 40</td>\n",
        "      <td>...</td>\n",
        "      <td>  0</td>\n",
        "      <td>  0</td>\n",
        "      <td>  0</td>\n",
        "      <td>  0</td>\n",
        "      <td>  0</td>\n",
        "      <td> 40</td>\n",
        "      <td>  0</td>\n",
        "      <td>  0</td>\n",
        "      <td>  0</td>\n",
        "      <td>  0</td>\n",
        "    </tr>\n",
        "    <tr>\n",
        "      <th>trsvs</th>\n",
        "      <td>  0</td>\n",
        "      <td> 40</td>\n",
        "      <td> 40</td>\n",
        "      <td> 40</td>\n",
        "      <td>  0</td>\n",
        "      <td> 40</td>\n",
        "      <td>  0</td>\n",
        "      <td>  0</td>\n",
        "      <td>  0</td>\n",
        "      <td> 40</td>\n",
        "      <td>...</td>\n",
        "      <td>  0</td>\n",
        "      <td>  0</td>\n",
        "      <td>  0</td>\n",
        "      <td>  0</td>\n",
        "      <td>  0</td>\n",
        "      <td> 40</td>\n",
        "      <td>  0</td>\n",
        "      <td>  0</td>\n",
        "      <td>  0</td>\n",
        "      <td>  0</td>\n",
        "    </tr>\n",
        "    <tr>\n",
        "      <th>varroa</th>\n",
        "      <td> 40</td>\n",
        "      <td> 40</td>\n",
        "      <td> 40</td>\n",
        "      <td> 40</td>\n",
        "      <td> 40</td>\n",
        "      <td> 40</td>\n",
        "      <td>  0</td>\n",
        "      <td> 40</td>\n",
        "      <td>  0</td>\n",
        "      <td>  0</td>\n",
        "      <td>...</td>\n",
        "      <td> 40</td>\n",
        "      <td>  0</td>\n",
        "      <td>  0</td>\n",
        "      <td> 40</td>\n",
        "      <td> 40</td>\n",
        "      <td> 40</td>\n",
        "      <td>  0</td>\n",
        "      <td>  0</td>\n",
        "      <td> 40</td>\n",
        "      <td> 40</td>\n",
        "    </tr>\n",
        "    <tr>\n",
        "      <th>varroa mites</th>\n",
        "      <td>  0</td>\n",
        "      <td> 40</td>\n",
        "      <td> 40</td>\n",
        "      <td> 40</td>\n",
        "      <td>  0</td>\n",
        "      <td> 40</td>\n",
        "      <td>  0</td>\n",
        "      <td>  0</td>\n",
        "      <td>  0</td>\n",
        "      <td> 40</td>\n",
        "      <td>...</td>\n",
        "      <td>  0</td>\n",
        "      <td>  0</td>\n",
        "      <td>  0</td>\n",
        "      <td>  0</td>\n",
        "      <td>  0</td>\n",
        "      <td> 40</td>\n",
        "      <td>  0</td>\n",
        "      <td>  0</td>\n",
        "      <td>  0</td>\n",
        "      <td>  0</td>\n",
        "    </tr>\n",
        "    <tr>\n",
        "      <th>virions</th>\n",
        "      <td> 40</td>\n",
        "      <td> 40</td>\n",
        "      <td> 40</td>\n",
        "      <td> 40</td>\n",
        "      <td> 40</td>\n",
        "      <td> 40</td>\n",
        "      <td> 40</td>\n",
        "      <td> 40</td>\n",
        "      <td> 40</td>\n",
        "      <td> 40</td>\n",
        "      <td>...</td>\n",
        "      <td> 40</td>\n",
        "      <td> 40</td>\n",
        "      <td> 40</td>\n",
        "      <td> 40</td>\n",
        "      <td> 40</td>\n",
        "      <td> 40</td>\n",
        "      <td> 40</td>\n",
        "      <td> 40</td>\n",
        "      <td> 40</td>\n",
        "      <td> 40</td>\n",
        "    </tr>\n",
        "    <tr>\n",
        "      <th>virus</th>\n",
        "      <td> 40</td>\n",
        "      <td> 40</td>\n",
        "      <td> 40</td>\n",
        "      <td> 40</td>\n",
        "      <td> 40</td>\n",
        "      <td> 40</td>\n",
        "      <td> 40</td>\n",
        "      <td> 40</td>\n",
        "      <td> 40</td>\n",
        "      <td> 40</td>\n",
        "      <td>...</td>\n",
        "      <td> 40</td>\n",
        "      <td> 40</td>\n",
        "      <td> 40</td>\n",
        "      <td> 40</td>\n",
        "      <td> 40</td>\n",
        "      <td> 40</td>\n",
        "      <td> 40</td>\n",
        "      <td> 40</td>\n",
        "      <td> 40</td>\n",
        "      <td> 40</td>\n",
        "    </tr>\n",
        "    <tr>\n",
        "      <th>winter</th>\n",
        "      <td> 40</td>\n",
        "      <td> 40</td>\n",
        "      <td> 40</td>\n",
        "      <td> 40</td>\n",
        "      <td> 40</td>\n",
        "      <td> 40</td>\n",
        "      <td> 40</td>\n",
        "      <td> 40</td>\n",
        "      <td> 40</td>\n",
        "      <td> 40</td>\n",
        "      <td>...</td>\n",
        "      <td> 40</td>\n",
        "      <td> 40</td>\n",
        "      <td> 40</td>\n",
        "      <td> 40</td>\n",
        "      <td> 40</td>\n",
        "      <td> 40</td>\n",
        "      <td> 40</td>\n",
        "      <td> 40</td>\n",
        "      <td> 40</td>\n",
        "      <td> 40</td>\n",
        "    </tr>\n",
        "  </tbody>\n",
        "</table>\n",
        "<p>26 rows \u00d7 1978 columns</p>\n",
        "</div>"
       ],
       "metadata": {},
       "output_type": "pyout",
       "prompt_number": 152,
       "text": [
        "                               \"  \" neonicotinoid  \" possible  \" probable  \\\n",
        "animal kingdoms               40               40          40          40   \n",
        "bee hemolymph                 40               40          40          40   \n",
        "colonies                      40               40          40          40   \n",
        "gastric cecum                  0               40          40          40   \n",
        "health                        40               40          40          40   \n",
        "host populations              40               40          40          40   \n",
        "infections                    40               40          40          40   \n",
        "infectious diseases           40               40          40          40   \n",
        "intracellular life cycle       0               40          40          40   \n",
        "negative impact                0               40          40          40   \n",
        "phylogenetic analysis         40               40          40          40   \n",
        "plant                         40               40          40          40   \n",
        "result                        40               40          40          40   \n",
        "significant source             0               40          40          40   \n",
        "spread                        40               40          40          40   \n",
        "threat                         0               40          40          40   \n",
        "tobacco ringspot              40               40          40          40   \n",
        "transkingdom host alteration  40               40          40          40   \n",
        "tree topology                  0               40          40          40   \n",
        "trsv                           0               40          40          40   \n",
        "trsvs                          0               40          40          40   \n",
        "varroa                        40               40          40          40   \n",
        "varroa mites                   0               40          40          40   \n",
        "virions                       40               40          40          40   \n",
        "virus                         40               40          40          40   \n",
        "winter                        40               40          40          40   \n",
        "\n",
        "                              ( reports   )  1-year period  10-month period  \\\n",
        "animal kingdoms                      40  40             40               40   \n",
        "bee hemolymph                        40  40             40               40   \n",
        "colonies                             40  40             40               40   \n",
        "gastric cecum                         0  40              0                0   \n",
        "health                               40  40             40               40   \n",
        "host populations                     40  40             40               40   \n",
        "infections                           40  40             40               40   \n",
        "infectious diseases                  40  40             40               40   \n",
        "intracellular life cycle              0  40              0                0   \n",
        "negative impact                       0  40              0                0   \n",
        "phylogenetic analysis                40  40             40               40   \n",
        "plant                                40  40             40               40   \n",
        "result                               40  40             40               40   \n",
        "significant source                    0  40              0                0   \n",
        "spread                               40  40             40               40   \n",
        "threat                                0  40              0                0   \n",
        "tobacco ringspot                     40  40             40               40   \n",
        "transkingdom host alteration         40  40             40               40   \n",
        "tree topology                         0  40              0                0   \n",
        "trsv                                  0  40              0                0   \n",
        "trsvs                                 0  40              0                0   \n",
        "varroa                               40  40              0               40   \n",
        "varroa mites                          0  40              0                0   \n",
        "virions                              40  40             40               40   \n",
        "virus                                40  40             40               40   \n",
        "winter                               40  40             40               40   \n",
        "\n",
        "                               <  abdomen   ...     worldwide pollinator  \\\n",
        "animal kingdoms               40       40   ...                       40   \n",
        "bee hemolymph                 40       40   ...                       40   \n",
        "colonies                      40       40   ...                       40   \n",
        "gastric cecum                  0       40   ...                        0   \n",
        "health                        40       40   ...                       40   \n",
        "host populations              40       40   ...                       40   \n",
        "infections                    40       40   ...                       40   \n",
        "infectious diseases           40       40   ...                       40   \n",
        "intracellular life cycle       0       40   ...                        0   \n",
        "negative impact                0       40   ...                        0   \n",
        "phylogenetic analysis         40       40   ...                       40   \n",
        "plant                         40       40   ...                       40   \n",
        "result                        40       40   ...                       40   \n",
        "significant source             0       40   ...                        0   \n",
        "spread                        40       40   ...                       40   \n",
        "threat                         0       40   ...                        0   \n",
        "tobacco ringspot              40       40   ...                       40   \n",
        "transkingdom host alteration  40       40   ...                       40   \n",
        "tree topology                  0       40   ...                        0   \n",
        "trsv                           0       40   ...                        0   \n",
        "trsvs                          0       40   ...                        0   \n",
        "varroa                         0        0   ...                       40   \n",
        "varroa mites                   0       40   ...                        0   \n",
        "virions                       40       40   ...                       40   \n",
        "virus                         40       40   ...                       40   \n",
        "winter                        40       40   ...                       40   \n",
        "\n",
        "                              worst losses  xylem  year  year period  years  \\\n",
        "animal kingdoms                         40     40    40           40     40   \n",
        "bee hemolymph                           40     40    40           40     40   \n",
        "colonies                                40     40    40           40     40   \n",
        "gastric cecum                            0      0     0            0     40   \n",
        "health                                  40     40    40           40     40   \n",
        "host populations                        40     40    40           40     40   \n",
        "infections                              40     40    40           40     40   \n",
        "infectious diseases                     40     40    40           40     40   \n",
        "intracellular life cycle                 0      0     0            0     40   \n",
        "negative impact                          0      0     0            0     40   \n",
        "phylogenetic analysis                   40     40    40           40     40   \n",
        "plant                                   40     40    40           40     40   \n",
        "result                                  40     40    40           40     40   \n",
        "significant source                       0      0     0            0     40   \n",
        "spread                                  40     40    40           40     40   \n",
        "threat                                   0      0     0            0     40   \n",
        "tobacco ringspot                        40     40    40           40     40   \n",
        "transkingdom host alteration            40     40    40           40     40   \n",
        "tree topology                            0      0     0            0     40   \n",
        "trsv                                     0      0     0            0     40   \n",
        "trsvs                                    0      0     0            0     40   \n",
        "varroa                                   0      0    40           40     40   \n",
        "varroa mites                             0      0     0            0     40   \n",
        "virions                                 40     40    40           40     40   \n",
        "virus                                   40     40    40           40     40   \n",
        "winter                                  40     40    40           40     40   \n",
        "\n",
        "                              yet controversy  younger ages  \u03b4ct levels  \u03bcg kg  \n",
        "animal kingdoms                            40            40          40     40  \n",
        "bee hemolymph                              40            40          40     40  \n",
        "colonies                                   40            40          40     40  \n",
        "gastric cecum                               0             0           0      0  \n",
        "health                                     40            40          40     40  \n",
        "host populations                           40            40          40     40  \n",
        "infections                                 40            40          40     40  \n",
        "infectious diseases                        40            40          40     40  \n",
        "intracellular life cycle                    0             0           0      0  \n",
        "negative impact                             0             0           0      0  \n",
        "phylogenetic analysis                      40            40          40     40  \n",
        "plant                                      40            40          40     40  \n",
        "result                                     40            40          40     40  \n",
        "significant source                          0             0           0      0  \n",
        "spread                                     40            40          40     40  \n",
        "threat                                      0             0           0      0  \n",
        "tobacco ringspot                           40            40          40     40  \n",
        "transkingdom host alteration               40            40          40     40  \n",
        "tree topology                               0             0           0      0  \n",
        "trsv                                        0             0           0      0  \n",
        "trsvs                                       0             0           0      0  \n",
        "varroa                                      0             0          40     40  \n",
        "varroa mites                                0             0           0      0  \n",
        "virions                                    40            40          40     40  \n",
        "virus                                      40            40          40     40  \n",
        "winter                                     40            40          40     40  \n",
        "\n",
        "[26 rows x 1978 columns]"
       ]
      }
     ],
     "prompt_number": 152
    },
    {
     "cell_type": "code",
     "collapsed": false,
     "input": [
      "matrix = df / min(np.min(df.sum(axis=1)), np.min(df.sum(axis=0)))"
     ],
     "language": "python",
     "metadata": {},
     "outputs": [],
     "prompt_number": 162
    },
    {
     "cell_type": "code",
     "collapsed": false,
     "input": [],
     "language": "python",
     "metadata": {},
     "outputs": [],
     "prompt_number": 160
    },
    {
     "cell_type": "code",
     "collapsed": false,
     "input": [
      "matrix.values"
     ],
     "language": "python",
     "metadata": {},
     "outputs": [
      {
       "metadata": {},
       "output_type": "pyout",
       "prompt_number": 163,
       "text": [
        "array([[ 0.0625,  0.0625,  0.0625, ...,  0.0625,  0.0625,  0.0625],\n",
        "       [ 0.0625,  0.0625,  0.0625, ...,  0.0625,  0.0625,  0.0625],\n",
        "       [ 0.0625,  0.0625,  0.0625, ...,  0.0625,  0.0625,  0.0625],\n",
        "       ..., \n",
        "       [ 0.0625,  0.0625,  0.0625, ...,  0.0625,  0.0625,  0.0625],\n",
        "       [ 0.0625,  0.0625,  0.0625, ...,  0.0625,  0.0625,  0.0625],\n",
        "       [ 0.0625,  0.0625,  0.0625, ...,  0.0625,  0.0625,  0.0625]])"
       ]
      }
     ],
     "prompt_number": 163
    },
    {
     "cell_type": "code",
     "collapsed": false,
     "input": [
      " G = nx.from_numpy_matrix(matrix)\n"
     ],
     "language": "python",
     "metadata": {},
     "outputs": [
      {
       "ename": "NetworkXError",
       "evalue": "('Adjacency matrix is not square.', 'nx,ny=(26, 1978)')",
       "output_type": "pyerr",
       "traceback": [
        "\u001b[1;31m---------------------------------------------------------------------------\u001b[0m\n\u001b[1;31mNetworkXError\u001b[0m                             Traceback (most recent call last)",
        "\u001b[1;32m<ipython-input-166-968484f2a12a>\u001b[0m in \u001b[0;36m<module>\u001b[1;34m()\u001b[0m\n\u001b[1;32m----> 1\u001b[1;33m \u001b[0mG\u001b[0m \u001b[1;33m=\u001b[0m \u001b[0mnx\u001b[0m\u001b[1;33m.\u001b[0m\u001b[0mfrom_numpy_matrix\u001b[0m\u001b[1;33m(\u001b[0m\u001b[0mmatrix\u001b[0m\u001b[1;33m)\u001b[0m\u001b[1;33m\u001b[0m\u001b[0m\n\u001b[0m",
        "\u001b[1;32m/home/alexandre/projets/gargantext.py/env/lib/python3.4/site-packages/networkx/convert_matrix.py\u001b[0m in \u001b[0;36mfrom_numpy_matrix\u001b[1;34m(A, create_using)\u001b[0m\n\u001b[0;32m    267\u001b[0m     \u001b[1;32mif\u001b[0m \u001b[0mn\u001b[0m\u001b[1;33m!=\u001b[0m\u001b[0mm\u001b[0m\u001b[1;33m:\u001b[0m\u001b[1;33m\u001b[0m\u001b[0m\n\u001b[0;32m    268\u001b[0m         raise nx.NetworkXError(\"Adjacency matrix is not square.\",\n\u001b[1;32m--> 269\u001b[1;33m                                \"nx,ny=%s\"%(A.shape,))\n\u001b[0m\u001b[0;32m    270\u001b[0m     \u001b[0mdt\u001b[0m\u001b[1;33m=\u001b[0m\u001b[0mA\u001b[0m\u001b[1;33m.\u001b[0m\u001b[0mdtype\u001b[0m\u001b[1;33m\u001b[0m\u001b[0m\n\u001b[0;32m    271\u001b[0m     \u001b[1;32mtry\u001b[0m\u001b[1;33m:\u001b[0m\u001b[1;33m\u001b[0m\u001b[0m\n",
        "\u001b[1;31mNetworkXError\u001b[0m: ('Adjacency matrix is not square.', 'nx,ny=(26, 1978)')"
       ]
      }
     ],
     "prompt_number": 166
    },
    {
     "cell_type": "code",
     "collapsed": false,
     "input": [],
     "language": "python",
     "metadata": {},
     "outputs": []
    }
   ],
   "metadata": {}
  }
 ]
}