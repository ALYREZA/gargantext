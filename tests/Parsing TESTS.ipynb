{
 "metadata": {
  "name": "",
  "signature": "sha256:dc2b44aa8a4f8601d48e9a2ab195b176f166718446caf8f2b659bce3935ca58d"
 },
 "nbformat": 3,
 "nbformat_minor": 0,
 "worksheets": [
  {
   "cells": [
    {
     "cell_type": "heading",
     "level": 1,
     "metadata": {},
     "source": [
      "Parsers tests"
     ]
    },
    {
     "cell_type": "code",
     "collapsed": false,
     "input": [
      "from parsing.FileParsers import *\n",
      "# mv this file in /srv/gargantext to test it"
     ],
     "language": "python",
     "metadata": {},
     "outputs": [],
     "prompt_number": 1
    },
    {
     "cell_type": "code",
     "collapsed": false,
     "input": [
      "presse = EuropressFileParser()\n",
      "for data in presse.parse('/srv/gargantext_lib/data_samples/html/html_french.zip'):\n",
      "    pass\n",
      "    #print(data)"
     ],
     "language": "python",
     "metadata": {},
     "outputs": [],
     "prompt_number": 2
    },
    {
     "cell_type": "code",
     "collapsed": false,
     "input": [
      "isi = IsiFileParser()\n",
      "for data in isi.parse('/srv/gargantext_lib/data_samples/isi.zip'):\n",
      "    pass\n",
      "    #print(data)"
     ],
     "language": "python",
     "metadata": {},
     "outputs": [],
     "prompt_number": 7
    },
    {
     "cell_type": "code",
     "collapsed": false,
     "input": [
      "pubmed = PubmedFileParser()\n",
      "for data in pubmed.parse('/srv/gargantext_lib/data_samples/pubmed.xml'):\n",
      "    pass\n",
      "    #print(data)"
     ],
     "language": "python",
     "metadata": {},
     "outputs": [],
     "prompt_number": 5
    },
    {
     "cell_type": "code",
     "collapsed": false,
     "input": [],
     "language": "python",
     "metadata": {},
     "outputs": [],
     "prompt_number": 15
    },
    {
     "cell_type": "code",
     "collapsed": false,
     "input": [],
     "language": "python",
     "metadata": {},
     "outputs": []
    }
   ],
   "metadata": {}
  }
 ]
}