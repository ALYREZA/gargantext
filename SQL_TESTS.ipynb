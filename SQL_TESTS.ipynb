{
 "metadata": {
  "name": "",
  "signature": "sha256:9cffba735acaf6f9511e0a0a5e08831945944a5fd5f5da3122be9ab3b0e03327"
 },
 "nbformat": 3,
 "nbformat_minor": 0,
 "worksheets": [
  {
   "cells": [
    {
     "cell_type": "code",
     "collapsed": false,
     "input": [
      "from node.models import Node, NodeType,\\\n",
      "                        Project, Corpus, Document,\\\n",
      "                        Ngram, Node_Ngram,\\\n",
      "                        User, Language, ResourceType\n",
      "            \n",
      "from parsing.Caches import NgramsCache\n",
      "            \n",
      "from django.db import connection\n",
      "cursor = connection.cursor()"
     ],
     "language": "python",
     "metadata": {},
     "outputs": [],
     "prompt_number": 1
    },
    {
     "cell_type": "code",
     "collapsed": false,
     "input": [
      "typeCorpus  = NodeType.objects.get(name='Corpus')\n",
      "for corpus in Node.objects.filter(type=typeCorpus):\n",
      "    print(\"#%d - %s\" % (corpus.id, corpus))"
     ],
     "language": "python",
     "metadata": {},
     "outputs": [
      {
       "output_type": "stream",
       "stream": "stdout",
       "text": [
        "#7 - Presse corpus\n"
       ]
      }
     ],
     "prompt_number": 33
    },
    {
     "cell_type": "code",
     "collapsed": false,
     "input": [
      "try:\n",
      "    me = User.objects.get(username='alexandre')\n",
      "except:\n",
      "    me = User(username='alexandre')\n",
      "    me.save()"
     ],
     "language": "python",
     "metadata": {},
     "outputs": [],
     "prompt_number": 34
    },
    {
     "cell_type": "code",
     "collapsed": false,
     "input": [
      "#\u00a0corpus = Node.objects.filter(type=typeCorpus).first()\n",
      "corpus = Node.objects.get(id=44338)"
     ],
     "language": "python",
     "metadata": {},
     "outputs": [],
     "prompt_number": 4
    },
    {
     "cell_type": "heading",
     "level": 2,
     "metadata": {},
     "source": [
      "Occurences"
     ]
    },
    {
     "cell_type": "code",
     "collapsed": false,
     "input": [
      "cursor.execute(\"\"\"\n",
      "    SELECT\n",
      "        metadata -> 'publication_day' as day,\n",
      "        metadata -> 'publication_month' as month, \n",
      "        metadata -> 'publication_year' as year, \n",
      "        COUNT(*)\n",
      "    FROM\n",
      "        node_node AS n\n",
      "    WHERE\n",
      "        n.parent_id = %s\n",
      "    GROUP BY\n",
      "        day, month, year\n",
      "    LIMIT\n",
      "        20\n",
      "\"\"\", [corpus.id])\n",
      "\n",
      "\n",
      "while True:\n",
      "    row = cursor.fetchone()\n",
      "    if row is None:\n",
      "        break\n",
      "    print(row)"
     ],
     "language": "python",
     "metadata": {},
     "outputs": [
      {
       "output_type": "stream",
       "stream": "stdout",
       "text": [
        "('08', '01', '2004', 8)\n",
        "('03', '01', '2004', 1)\n",
        "('21', '01', '2004', 7)\n",
        "('09', '01', '2004', 1)\n",
        "('06', '01', '2004', 8)\n",
        "('07', '01', '2004', 5)\n",
        "('23', '01', '2004', 1)\n",
        "('19', '01', '2004', 2)\n",
        "('01', '02', '2004', 3)\n",
        "('16', '01', '2004', 1)\n",
        "('02', '01', '2004', 2)\n",
        "('31', '01', '2004', 2)\n",
        "('20', '01', '2004', 2)\n",
        "('25', '01', '2004', 4)\n",
        "('29', '01', '2004', 2)\n",
        "('24', '01', '2004', 4)\n",
        "('17', '01', '2004', 5)\n",
        "('26', '01', '2004', 5)\n",
        "('27', '01', '2004', 2)\n",
        "('28', '01', '2004', 5)\n"
       ]
      }
     ],
     "prompt_number": 11
    },
    {
     "cell_type": "code",
     "collapsed": false,
     "input": [
      "cursor.execute(\"\"\"\n",
      "    SELECT\n",
      "        COUNT(*) AS occurrences,\n",
      "        ngX.terms\n",
      "    FROM\n",
      "        node_node AS n\n",
      "    INNER JOIN\n",
      "        node_node_ngram AS nngX ON nngX.node_id = n.id\n",
      "    INNER JOIN\n",
      "        node_ngram AS ngX ON ngX.id = nngX.ngram_id\n",
      "    WHERE\n",
      "        n.parent_id = %s\n",
      "    GROUP BY\n",
      "        ngX.terms\n",
      "    ORDER BY\n",
      "        occurrences DESC\n",
      "    LIMIT\n",
      "        20\n",
      "\"\"\", [corpus.id])\n",
      "\n",
      "while True:\n",
      "    row = cursor.fetchone()\n",
      "    if row is None:\n",
      "        break\n",
      "    print(row)"
     ],
     "language": "python",
     "metadata": {},
     "outputs": [
      {
       "output_type": "stream",
       "stream": "stdout",
       "text": [
        "(196, 'patients')\n",
        "(135, 'voice')\n",
        "(129, 'study')\n",
        "(111, 'disease')\n",
        "(69, 'treatment')\n",
        "(66, 'life')\n",
        "(58, 'patient')\n",
        "(53, 'quality')\n",
        "(49, 'care')\n",
        "(45, 'use')\n",
        "(44, 'Patients')\n",
        "(43, 'people')\n",
        "(41, 'development')\n",
        "(41, 'purpose')\n",
        "(40, 's disease')\n",
        "(39, 's')\n",
        "(38, 'results')\n",
        "(37, 'diagnosis')\n",
        "(36, 'years')\n",
        "(34, 'women')\n"
       ]
      }
     ],
     "prompt_number": 104
    },
    {
     "cell_type": "heading",
     "level": 2,
     "metadata": {},
     "source": [
      "Cooccurrences par ann\u00e9e"
     ]
    },
    {
     "cell_type": "code",
     "collapsed": false,
     "input": [
      "cursor.execute(\"\"\"\n",
      "    SELECT\n",
      "        COUNT(*) AS occurrences,\n",
      "        n.metadata->'publication_year' AS year,\n",
      "        ngX.terms\n",
      "    FROM\n",
      "        node_node AS n\n",
      "    INNER JOIN\n",
      "        node_node_ngram AS nngX ON nngX.node_id = n.id\n",
      "    INNER JOIN\n",
      "        node_ngram AS ngX ON ngX.id = nngX.ngram_id\n",
      "    WHERE\n",
      "        n.parent_id = %s\n",
      "    GROUP BY\n",
      "        terms,\n",
      "        year\n",
      "    ORDER BY\n",
      "        occurrences DESC\n",
      "    LIMIT\n",
      "        20\n",
      "\"\"\", [corpus.id])\n",
      "\n",
      "while True:\n",
      "    row = cursor.fetchone()\n",
      "    if row is None:\n",
      "        break\n",
      "    print(row)"
     ],
     "language": "python",
     "metadata": {},
     "outputs": [
      {
       "output_type": "stream",
       "stream": "stdout",
       "text": [
        "(24, '2014', 'patients')\n",
        "(22, '2005', 'patients')\n",
        "(18, '2005', 'study')\n",
        "(15, '2014', 'voice')\n",
        "(14, '2002', 'disease')\n",
        "(14, '2013', 'patients')\n",
        "(14, '2006', 'study')\n",
        "(13, '2014', 'treatment')\n",
        "(12, '2011', 'patients')\n",
        "(12, '2004', 'voice')\n",
        "(12, '2012', 'patients')\n",
        "(12, '2003', 'patients')\n",
        "(12, '2005', 'voice')\n",
        "(11, '2002', 'patients')\n",
        "(11, '2014', 'study')\n",
        "(10, '2007', 'patients')\n",
        "(10, '2006', 'patients')\n",
        "(10, '2004', 'study')\n",
        "(10, '2001', 'patients')\n",
        "(10, '2014', 'phase')\n"
       ]
      }
     ],
     "prompt_number": 105
    },
    {
     "cell_type": "heading",
     "level": 2,
     "metadata": {},
     "source": [
      "Cr\u00e9ation d'une liste de synonymes"
     ]
    },
    {
     "cell_type": "code",
     "collapsed": false,
     "input": [
      "ngramsCache = NgramsCache(Language.objects.get(iso2='fr'))"
     ],
     "language": "python",
     "metadata": {},
     "outputs": [],
     "prompt_number": 21
    },
    {
     "cell_type": "code",
     "collapsed": false,
     "input": [
      "synonymePairs = [\n",
      "    ['danger', 'risques'],\n",
      "    ['risque', 'risques'],\n",
      "    ['R\u00e9gent', 'R\u00e9gent TS']\n",
      "]"
     ],
     "language": "python",
     "metadata": {},
     "outputs": [],
     "prompt_number": 22
    },
    {
     "cell_type": "code",
     "collapsed": false,
     "input": [
      "try:\n",
      "    typeSynonyme = NodeType.objects.get(name='Synonyme')\n",
      "except:\n",
      "    typeSynonyme = NodeType(name='Synonyme')\n",
      "    typeSynonyme.save()"
     ],
     "language": "python",
     "metadata": {},
     "outputs": [],
     "prompt_number": 23
    },
    {
     "cell_type": "code",
     "collapsed": false,
     "input": [
      "listSynonymes = Node(name='Syno abeilles', type=typeSynonyme, user=me)\n",
      "listSynonymes.save()"
     ],
     "language": "python",
     "metadata": {},
     "outputs": [],
     "prompt_number": 24
    },
    {
     "cell_type": "code",
     "collapsed": false,
     "input": [
      "for synonymePair in synonymePairs:\n",
      "    NodeNgramNgram(\n",
      "        ngramx = ngramsCache[synonymePair[0]],\n",
      "        ngramy = ngramsCache[synonymePair[1]],\n",
      "        node = listSynonymes,\n",
      "        score = 1.\n",
      "    ).save()"
     ],
     "language": "python",
     "metadata": {},
     "outputs": [],
     "prompt_number": 25
    },
    {
     "cell_type": "code",
     "collapsed": false,
     "input": [
      "listSynonymes.id"
     ],
     "language": "python",
     "metadata": {},
     "outputs": [
      {
       "metadata": {},
       "output_type": "pyout",
       "prompt_number": 26,
       "text": [
        "6"
       ]
      }
     ],
     "prompt_number": 26
    },
    {
     "cell_type": "heading",
     "level": 2,
     "metadata": {},
     "source": [
      "Occurrences avec synonymes"
     ]
    },
    {
     "cell_type": "code",
     "collapsed": false,
     "input": [
      "'''cursor.execute(\"\"\"\n",
      "    SELECT\n",
      "        COUNT(*) AS occurrences,\n",
      "        ngx.terms\n",
      "    FROM\n",
      "        node_node AS n\n",
      "    INNER JOIN\n",
      "        node_node_ngram AS nngX ON nngX.node_id = n.id\n",
      "    INNER JOIN\n",
      "        node_ngram AS ngX ON ngX.id = nngX.ngram_id\n",
      "    WHERE\n",
      "        n.parent_id = %s\n",
      "    GROUP BY\n",
      "        ngX.terms\n",
      "    ORDER BY\n",
      "        occurrences DESC\n",
      "    LIMIT\n",
      "        20\n",
      "\"\"\")'''\n",
      "cursor.execute(\"\"\"\n",
      "    SELECT\n",
      "        n.id\n",
      "    FROM\n",
      "        node_node AS n\n",
      "    INNER JOIN\n",
      "        node_node_ngram AS nngx ON nngx.node_id = n.id\n",
      "    INNER JOIN\n",
      "        node_nodengramngram AS nngng ON nngng.ngramx_id = nngx.ngram_id\n",
      "    INNER JOIN\n",
      "        node_node_ngram AS nngy ON nngy.id = nngng.ngramy_id\n",
      "    WHERE\n",
      "        n.parent_id = %s\n",
      "\"\"\", [corpus.id])\n",
      "#\u00a0\"\"\" % [listSynonymes.id])\n",
      "\n",
      "while True:\n",
      "    row = cursor.fetchone()\n",
      "    if row is None:\n",
      "        break\n",
      "    print(row)"
     ],
     "language": "python",
     "metadata": {},
     "outputs": [],
     "prompt_number": 47
    },
    {
     "cell_type": "heading",
     "level": 2,
     "metadata": {},
     "source": [
      "Cooccurrences"
     ]
    },
    {
     "cell_type": "code",
     "collapsed": false,
     "input": [
      "cursor.execute(\"\"\"\n",
      "    SELECT\n",
      "        COUNT(*) AS cooccurrences,\n",
      "        ngX.terms,\n",
      "        ngY.terms\n",
      "    FROM\n",
      "        node_node AS n\n",
      "        \n",
      "    INNER JOIN\n",
      "        node_node_ngram AS nngX ON nngX.node_id = n.id\n",
      "    INNER JOIN\n",
      "        node_ngram AS ngX ON ngX.id = nngX.ngram_id\n",
      "        \n",
      "    INNER JOIN\n",
      "        node_node_ngram AS nngY ON nngY.node_id = n.id\n",
      "    INNER JOIN\n",
      "        node_ngram AS ngY ON ngY.id = nngY.ngram_id\n",
      "        \n",
      "    WHERE\n",
      "        n.parent_id = %s\n",
      "    AND\n",
      "        nngX.ngram_id > nngY.ngram_id\n",
      "        \n",
      "    GROUP BY\n",
      "        ngX.id,\n",
      "        ngX.terms,\n",
      "        ngY.id,\n",
      "        ngY.terms\n",
      "    ORDER BY\n",
      "        cooccurrences DESC\n",
      "    LIMIT\n",
      "        20\n",
      "\"\"\", [corpus.id])\n",
      "\n",
      "while True:\n",
      "    row = cursor.fetchone()\n",
      "    if row is None:\n",
      "        break\n",
      "    print(row)"
     ],
     "language": "python",
     "metadata": {},
     "outputs": [
      {
       "output_type": "stream",
       "stream": "stdout",
       "text": [
        "(98, 'patients', 'study')\n",
        "(88, 'patients', 'disease')\n",
        "(78, 'voice', 'patients')\n",
        "(76, 'Parkinson', 's disease')\n",
        "(64, 'life', 'patients')\n",
        "(62, 'life', 'quality')\n",
        "(60, 'treatment', 'patients')\n",
        "(56, 'patient', 'patients')\n",
        "(56, 'voice', 'study')\n",
        "(54, 'Patients', 'patients')\n",
        "(54, 'purpose', 'study')\n",
        "(54, 'voice', 'disease')\n",
        "(52, 'study', 'disease')\n",
        "(48, 'voice', 'treatment')\n",
        "(46, 'treatment', 'disease')\n",
        "(42, 'quality', 'patients')\n",
        "(42, 'life', 'study')\n",
        "(40, 'care', 'patients')\n",
        "(40, 'PD', 'Parkinson')\n",
        "(40, 'PD', 's disease')\n"
       ]
      }
     ],
     "prompt_number": 108
    }
   ],
   "metadata": {}
  }
 ]
}